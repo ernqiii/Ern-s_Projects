{
 "cells": [
  {
   "cell_type": "markdown",
   "metadata": {},
   "source": [
    "<table class=\"table table-bordered\">\n",
    "<tr>\n",
    "<th style=\"text-align:center; vertical-align: middle; width:50%\"><img src='https://www.np.edu.sg/images/default-source/default-album/img-logo.png'\"></th>\n",
    "        <th style=\"text-align:center;\"><h1>Distributed Data Pipelines</h1><h2>Assignment 1 </h2><h3>Diploma in Data Science</h3></th>\n",
    "    </tr>\n",
    "</table>"
   ]
  },
  {
   "cell_type": "markdown",
   "metadata": {},
   "source": [
    "Learning Objectives:\n",
    "- Design PySpark Based Machine Learning\n",
    "- Execute PySpark Syntax Correctly\n",
    "- Evaluate and Select Final Model based on Metrics"
   ]
  },
  {
   "cell_type": "markdown",
   "metadata": {},
   "source": [
    "You will be **graded on the use of PySpark**, so usage of **Pandas itself should be avoided as much as possible**, especially if a particular native method or function is already available in PySpark. **Penalties will be imposed in such cases.**"
   ]
  },
  {
   "cell_type": "code",
   "execution_count": 1,
   "metadata": {},
   "outputs": [],
   "source": [
    "# import the packages\n",
    "import findspark\n",
    "findspark.init()\n",
    "from pyspark.sql import SparkSession\n",
    "spark=SparkSession.builder.appName('DDPasg1').getOrCreate()\n",
    "from pyspark.sql.functions import col\n",
    "from pyspark.sql import SparkSession\n",
    "from pyspark.sql.functions import avg\n",
    "from pyspark.sql.window import Window\n",
    "from pyspark.sql import functions as F"
   ]
  },
  {
   "cell_type": "markdown",
   "metadata": {},
   "source": [
    "## Problem Statement Formulation"
   ]
  },
  {
   "cell_type": "code",
   "execution_count": 2,
   "metadata": {},
   "outputs": [],
   "source": [
    "# load and explore data"
   ]
  },
  {
   "cell_type": "code",
   "execution_count": 3,
   "metadata": {},
   "outputs": [],
   "source": [
    "df_pyspark=spark.read.csv('./ddpasg1data/thailand_ppty_asg1.csv', header=True, inferSchema=True) # inferSchema auto detects data type"
   ]
  },
  {
   "cell_type": "code",
   "execution_count": 4,
   "metadata": {
    "scrolled": false
   },
   "outputs": [
    {
     "name": "stdout",
     "output_type": "stream",
     "text": [
      "+-----------------+------------+---------------+--------+--------------+-----------+---------+-----------+-------+----------+-----------+-------+--------------+--------------------+-------------+-----------+--------+-------+\n",
      "|sub_property_type|living_space|bathroom_number|currency| property_type|property_id|     city|floor_level|  state|built_year|   latitude|premium|bedroom_number|             address|listing_label|  longitude|  tenure|  price|\n",
      "+-----------------+------------+---------------+--------+--------------+-----------+---------+-----------+-------+----------+-----------+-------+--------------+--------------------+-------------+-----------+--------+-------+\n",
      "|         For Sale|       76.86|              2|    Baht|         Condo|    9942777|    Dusit|          6|Bangkok|      2010|13.79101869|      0|             2|Samsen Road, Dusi...|       NORMAL|100.5162452|Freehold|5500000|\n",
      "|         For Sale|        42.0|              1|    Baht|         Condo|    9807686|    Dusit|          4|Bangkok|      2010|13.79101869|      0|             1|Samsen Road, Dusi...|       NORMAL|100.5162452|Freehold|4100000|\n",
      "|         For Sale|       123.0|              2|    Baht|Detached House|    8934387|Nong Chok|          2|Bangkok|      2012|13.85948084|      0|             3|Mit Maitri Road, ...|    CORPORATE|100.8482369|Freehold|1650000|\n",
      "|         For Sale|       180.0|              2|    Baht|Detached House|    9836450|Nong Chok|          2|Bangkok|      2011|  13.859683|      0|             4|Soi Mitmaitri 2, ...|       NORMAL| 100.857774|Freehold|3650000|\n",
      "|         For Sale|       35.35|              1|    Baht|         Condo|    9407447| Bang Rak|         56|Bangkok|      2018|13.73158352|      0|             1|- Rama 4 Road, Si...|    CORPORATE|100.5311729|Freehold|7850000|\n",
      "+-----------------+------------+---------------+--------+--------------+-----------+---------+-----------+-------+----------+-----------+-------+--------------+--------------------+-------------+-----------+--------+-------+\n",
      "only showing top 5 rows\n",
      "\n"
     ]
    }
   ],
   "source": [
    "df_pyspark.show(5)"
   ]
  },
  {
   "cell_type": "code",
   "execution_count": 5,
   "metadata": {},
   "outputs": [
    {
     "name": "stdout",
     "output_type": "stream",
     "text": [
      "root\n",
      " |-- sub_property_type: string (nullable = true)\n",
      " |-- living_space: double (nullable = true)\n",
      " |-- bathroom_number: integer (nullable = true)\n",
      " |-- currency: string (nullable = true)\n",
      " |-- property_type: string (nullable = true)\n",
      " |-- property_id: integer (nullable = true)\n",
      " |-- city: string (nullable = true)\n",
      " |-- floor_level: integer (nullable = true)\n",
      " |-- state: string (nullable = true)\n",
      " |-- built_year: integer (nullable = true)\n",
      " |-- latitude: double (nullable = true)\n",
      " |-- premium: integer (nullable = true)\n",
      " |-- bedroom_number: integer (nullable = true)\n",
      " |-- address: string (nullable = true)\n",
      " |-- listing_label: string (nullable = true)\n",
      " |-- longitude: double (nullable = true)\n",
      " |-- tenure: string (nullable = true)\n",
      " |-- price: integer (nullable = true)\n",
      "\n"
     ]
    }
   ],
   "source": [
    "df_pyspark.printSchema()"
   ]
  },
  {
   "cell_type": "code",
   "execution_count": 6,
   "metadata": {},
   "outputs": [
    {
     "name": "stdout",
     "output_type": "stream",
     "text": [
      "Number of Rows in df_pyspark: 41360\n"
     ]
    }
   ],
   "source": [
    "print(\"Number of Rows in df_pyspark:\", df_pyspark.count())\n"
   ]
  },
  {
   "cell_type": "markdown",
   "metadata": {},
   "source": [
    " ## Problem Statement Formulation : Report"
   ]
  },
  {
   "cell_type": "markdown",
   "metadata": {},
   "source": [
    "I successfully loaded the data from the Excel file into a PySpark DataFrame and conducted preliminary exploration. The dataset comprises 41,360 rows and 18 columns, each contributing valuable information for predicting Thailand property prices. The columns include sub-property type, living space, bathroom number, currency, property type, property ID, city, floor level, state, built year, latitude, premium, bedroom number, address, listing label, longitude, tenure, and price. This diverse set of columns provides a comprehensive foundation for building a robust predictive model. "
   ]
  },
  {
   "cell_type": "markdown",
   "metadata": {},
   "source": [
    "### Value Based Problem Statement"
   ]
  },
  {
   "cell_type": "markdown",
   "metadata": {},
   "source": [
    "The primary objective is to create a reliable Price Prediction Model that brings significant value to individuals and organizations in the real estate market. By offering accurate property price forecasts, the model empowers buyers, sellers, and developers to make informed decisions, negotiate effectively, and identify strategic investment opportunities. Addressing complexities such as market dynamics and data variability, the model aims to enhance the efficiency and transparency of the Thailand real estate market. Success metrics include high accuracy, interpretability, and scalability, ensuring the model's adaptability to future market changes. Ultimately, this assignment seeks to contribute to the growth and competitiveness of the Thailand property sector, benefitting all stakeholders involved in property transactions."
   ]
  },
  {
   "cell_type": "markdown",
   "metadata": {},
   "source": [
    "## Exploratory Data Analysis and Data Cleansing"
   ]
  },
  {
   "cell_type": "markdown",
   "metadata": {},
   "source": [
    "### Checking for Null Values"
   ]
  },
  {
   "cell_type": "code",
   "execution_count": 7,
   "metadata": {},
   "outputs": [
    {
     "name": "stdout",
     "output_type": "stream",
     "text": [
      "Column 'sub_property_type' has 0 null values.\n",
      "Column 'living_space' has 50 null values.\n",
      "Column 'bathroom_number' has 0 null values.\n",
      "Column 'currency' has 0 null values.\n",
      "Column 'property_type' has 0 null values.\n",
      "Column 'property_id' has 0 null values.\n",
      "Column 'city' has 0 null values.\n",
      "Column 'floor_level' has 0 null values.\n",
      "Column 'state' has 0 null values.\n",
      "Column 'built_year' has 0 null values.\n",
      "Column 'latitude' has 0 null values.\n",
      "Column 'premium' has 0 null values.\n",
      "Column 'bedroom_number' has 0 null values.\n",
      "Column 'address' has 0 null values.\n",
      "Column 'listing_label' has 0 null values.\n",
      "Column 'longitude' has 0 null values.\n",
      "Column 'tenure' has 0 null values.\n",
      "Column 'price' has 0 null values.\n"
     ]
    }
   ],
   "source": [
    "# Check for null values in each column\n",
    "null_counts = df_pyspark.select([col(c).isNull().cast('int').alias(c) for c in df_pyspark.columns])\n",
    "\n",
    "# Display the count of null values in each column\n",
    "for column in df_pyspark.columns:\n",
    "    null_count = null_counts.agg({column: 'sum'}).collect()[0][0]\n",
    "    print(f\"Column '{column}' has {null_count} null values.\")"
   ]
  },
  {
   "cell_type": "markdown",
   "metadata": {},
   "source": [
    "### Viewing Data Types"
   ]
  },
  {
   "cell_type": "code",
   "execution_count": 8,
   "metadata": {},
   "outputs": [],
   "source": [
    "column_types = df_pyspark.dtypes\n",
    "numerical_cols = [col for col, dtype in column_types if dtype not in ('string', 'boolean')]\n",
    "categorical_cols = [col for col, dtype in column_types if dtype in ('string', 'boolean')]"
   ]
  },
  {
   "cell_type": "code",
   "execution_count": 9,
   "metadata": {},
   "outputs": [
    {
     "name": "stdout",
     "output_type": "stream",
     "text": [
      "Numerical Columns: ['living_space', 'bathroom_number', 'property_id', 'floor_level', 'built_year', 'latitude', 'premium', 'bedroom_number', 'longitude', 'price']\n",
      "Categorical Columns: ['sub_property_type', 'currency', 'property_type', 'city', 'state', 'address', 'listing_label', 'tenure']\n"
     ]
    }
   ],
   "source": [
    "# Display the results\n",
    "print(\"Numerical Columns:\", numerical_cols)\n",
    "print(\"Categorical Columns:\", categorical_cols)"
   ]
  },
  {
   "cell_type": "markdown",
   "metadata": {},
   "source": [
    "### Exploring The Target Variable"
   ]
  },
  {
   "cell_type": "code",
   "execution_count": 10,
   "metadata": {},
   "outputs": [
    {
     "name": "stdout",
     "output_type": "stream",
     "text": [
      "+-------+-------------------+\n",
      "|summary|              price|\n",
      "+-------+-------------------+\n",
      "|  count|              41360|\n",
      "|   mean|  6610496.336532882|\n",
      "| stddev|1.511423482610068E7|\n",
      "|    min|                  0|\n",
      "|    max|         1396396324|\n",
      "+-------+-------------------+\n",
      "\n"
     ]
    }
   ],
   "source": [
    "price_stats = df_pyspark.describe('price').show()\n"
   ]
  },
  {
   "cell_type": "code",
   "execution_count": 11,
   "metadata": {},
   "outputs": [
    {
     "data": {
      "image/png": "[encoded data removed]",
      "text/plain": [
       "<Figure size 432x288 with 1 Axes>"
      ]
     },
     "metadata": {
      "needs_background": "light"
     },
     "output_type": "display_data"
    }
   ],
   "source": [
    "import matplotlib.pyplot as plt\n",
    "\n",
    "# Assuming df_pyspark is your PySpark DataFrame\n",
    "price_data = df_pyspark.select(\"price\").rdd.flatMap(lambda x: x).collect()\n",
    "\n",
    "# Plotting the histogram\n",
    "plt.hist(price_data, bins=30, color='blue', edgecolor='black')\n",
    "plt.title('Histogram of Prices')\n",
    "plt.xlabel('Price')\n",
    "plt.ylabel('Frequency')\n",
    "plt.show()\n"
   ]
  },
  {
   "cell_type": "code",
   "execution_count": 12,
   "metadata": {},
   "outputs": [
    {
     "data": {
      "image/png": "[encoded data removed]",
      "text/plain": [
       "<Figure size 432x288 with 1 Axes>"
      ]
     },
     "metadata": {
      "needs_background": "light"
     },
     "output_type": "display_data"
    }
   ],
   "source": [
    "plt.boxplot(price_data, vert=False)\n",
    "plt.title('Boxplot of Prices')\n",
    "plt.xlabel('Price')\n",
    "plt.show()"
   ]
  },
  {
   "cell_type": "markdown",
   "metadata": {},
   "source": [
    "### Exploring Numerical Data"
   ]
  },
  {
   "cell_type": "code",
   "execution_count": 13,
   "metadata": {},
   "outputs": [
    {
     "name": "stdout",
     "output_type": "stream",
     "text": [
      "+------------+---------------+-----------+-----------+----------+-----------+-------+--------------+-----------+-------+\n",
      "|living_space|bathroom_number|property_id|floor_level|built_year|   latitude|premium|bedroom_number|  longitude|  price|\n",
      "+------------+---------------+-----------+-----------+----------+-----------+-------+--------------+-----------+-------+\n",
      "|       76.86|              2|    9942777|          6|      2010|13.79101869|      0|             2|100.5162452|5500000|\n",
      "|        42.0|              1|    9807686|          4|      2010|13.79101869|      0|             1|100.5162452|4100000|\n",
      "|       123.0|              2|    8934387|          2|      2012|13.85948084|      0|             3|100.8482369|1650000|\n",
      "|       180.0|              2|    9836450|          2|      2011|  13.859683|      0|             4| 100.857774|3650000|\n",
      "|       35.35|              1|    9407447|         56|      2018|13.73158352|      0|             1|100.5311729|7850000|\n",
      "+------------+---------------+-----------+-----------+----------+-----------+-------+--------------+-----------+-------+\n",
      "only showing top 5 rows\n",
      "\n"
     ]
    }
   ],
   "source": [
    "df_pyspark.select(numerical_cols).show(5)"
   ]
  },
  {
   "cell_type": "markdown",
   "metadata": {},
   "source": [
    "#### Summary Statistics"
   ]
  },
  {
   "cell_type": "code",
   "execution_count": 14,
   "metadata": {},
   "outputs": [],
   "source": [
    "from pyspark.sql.functions import mean, stddev"
   ]
  },
  {
   "cell_type": "code",
   "execution_count": 15,
   "metadata": {},
   "outputs": [],
   "source": [
    "summary_stats = df_pyspark.describe(numerical_cols)"
   ]
  },
  {
   "cell_type": "code",
   "execution_count": 16,
   "metadata": {},
   "outputs": [
    {
     "name": "stdout",
     "output_type": "stream",
     "text": [
      "+-------+-----------------+------------------+------------------+------------------+------------------+------------------+--------------------+------------------+------------------+-------------------+\n",
      "|summary|     living_space|   bathroom_number|       property_id|       floor_level|        built_year|          latitude|             premium|    bedroom_number|         longitude|              price|\n",
      "+-------+-----------------+------------------+------------------+------------------+------------------+------------------+--------------------+------------------+------------------+-------------------+\n",
      "|  count|            41310|             41360|             41360|             41360|             41360|             41360|               41360|             41360|             41360|              41360|\n",
      "|   mean|131.2979258121521|1.2972678916827853| 9092960.425676983|15504.037693423597|2014.3418036750484|13.754093207736465|0.014192456479690523|1.2618471953578336| 100.5558954954391|  6610496.336532882|\n",
      "| stddev|6444.044353131916|0.6902640101287385|1031147.7535168171| 3089664.398453431|4.0109587829731295|0.5574710897678714| 0.11828511715924905|0.7700069673785545|0.2021853503546363|1.511423482610068E7|\n",
      "|    min|             16.0|                 0|            567195|                 0|              1985|          6.028047|                   0|                 0|         98.280468|                  0|\n",
      "|    max|         989898.0|                 9|          10081313|         628266569|              2025|        19.8936283|                   1|                11|        104.717648|         1396396324|\n",
      "+-------+-----------------+------------------+------------------+------------------+------------------+------------------+--------------------+------------------+------------------+-------------------+\n",
      "\n"
     ]
    }
   ],
   "source": [
    "summary_stats.show()"
   ]
  },
  {
   "cell_type": "code",
   "execution_count": 17,
   "metadata": {
    "scrolled": false
   },
   "outputs": [
    {
     "data": {
      "image/png": "[encoded data removed]",
      "text/plain": [
       "<Figure size 864x720 with 4 Axes>"
      ]
     },
     "metadata": {
      "needs_background": "light"
     },
     "output_type": "display_data"
    }
   ],
   "source": [
    "import matplotlib.pyplot as plt\n",
    "from pyspark.sql.functions import col\n",
    "\n",
    "numerical_cols = ['living_space', 'bathroom_number', 'floor_level', 'bedroom_number']\n",
    "\n",
    "# Set up subplots\n",
    "fig, axes = plt.subplots(nrows=2, ncols=2, figsize=(12, 10))\n",
    "\n",
    "# Flatten the axes for easier indexing\n",
    "axes = axes.flatten()\n",
    "\n",
    "# Plot histograms for each numerical column\n",
    "for i, col in enumerate(numerical_cols):\n",
    "    # Filter out missing values (NoneType) and extract values from the PySpark DataFrame\n",
    "    values = df_pyspark.select(col).na.drop().rdd.flatMap(lambda x: x).collect()\n",
    "    \n",
    "    # Plot histogram\n",
    "    axes[i].hist(values, bins=20, color='skyblue', edgecolor='black')\n",
    "    axes[i].set_title(f'Histogram for {col}')\n",
    "    axes[i].set_xlabel(col)\n",
    "    axes[i].set_ylabel('Frequency')\n",
    "\n",
    "# Adjust layout\n",
    "plt.tight_layout()\n",
    "plt.show()\n"
   ]
  },
  {
   "cell_type": "code",
   "execution_count": 18,
   "metadata": {},
   "outputs": [],
   "source": [
    "numerical_columns = ['living_space', 'bathroom_number', 'floor_level', 'bedroom_number']"
   ]
  },
  {
   "cell_type": "code",
   "execution_count": 19,
   "metadata": {},
   "outputs": [
    {
     "name": "stdout",
     "output_type": "stream",
     "text": [
      "Skewness of living_space: 116.18150721571875\n",
      "Kurtosis of living_space: 15583.608108066686\n",
      "------------------------\n",
      "Skewness of bathroom_number: 3.2249500580977313\n",
      "Kurtosis of bathroom_number: 14.106485811667255\n",
      "------------------------\n",
      "Skewness of floor_level: 203.28383820745697\n",
      "Kurtosis of floor_level: 41332.976375963604\n",
      "------------------------\n",
      "Skewness of bedroom_number: 1.776199054680757\n",
      "Kurtosis of bedroom_number: 7.958018008862936\n",
      "------------------------\n"
     ]
    }
   ],
   "source": [
    "# Assuming df_pyspark is your DataFrame and numerical_columns is a list of numerical column names\n",
    "from pyspark.sql.functions import skewness, kurtosis\n",
    "for column in numerical_columns:\n",
    "    # Calculate skewness and kurtosis for each numerical column\n",
    "    skew_val = df_pyspark.agg(skewness(column)).collect()[0][0]\n",
    "    kurt_val = df_pyspark.agg(kurtosis(column)).collect()[0][0]\n",
    "    \n",
    "    # Print the results\n",
    "    print(f\"Skewness of {column}: {skew_val}\")\n",
    "    print(f\"Kurtosis of {column}: {kurt_val}\")\n",
    "    print(\"------------------------\")"
   ]
  },
  {
   "cell_type": "code",
   "execution_count": 20,
   "metadata": {
    "scrolled": false
   },
   "outputs": [
    {
     "data": {
      "image/png": "[encoded data removed]",
      "text/plain": [
       "<Figure size 576x1728 with 4 Axes>"
      ]
     },
     "metadata": {
      "needs_background": "light"
     },
     "output_type": "display_data"
    }
   ],
   "source": [
    "import seaborn as sns\n",
    "from pyspark.sql.functions import col\n",
    "\n",
    "# Set up subplots\n",
    "fig, axes = plt.subplots(nrows=len(numerical_cols), figsize=(8, 6 * len(numerical_cols)))\n",
    "\n",
    "# Plot boxplots for each numerical column\n",
    "for i, col in enumerate(numerical_cols):\n",
    "    ax = axes[i]\n",
    "    \n",
    "    # Extract values from the PySpark DataFrame and filter out null values\n",
    "    values = df_pyspark.select(col).filter(col + \" is not null\").rdd.flatMap(lambda x: x).collect()\n",
    "    \n",
    "    # Plot boxplot with horizontal orientation\n",
    "    sns.boxplot(y=values, ax=ax, color='skyblue', width=0.5)\n",
    "    ax.set_title(f'Boxplot of {col}')\n",
    "    ax.set_xlabel(col)\n",
    "\n",
    "# Adjust layout\n",
    "plt.tight_layout()\n",
    "plt.show()\n"
   ]
  },
  {
   "cell_type": "markdown",
   "metadata": {},
   "source": [
    "#### Numerical Columns Relationship with Price"
   ]
  },
  {
   "cell_type": "code",
   "execution_count": 21,
   "metadata": {
    "scrolled": true
   },
   "outputs": [
    {
     "name": "stdout",
     "output_type": "stream",
     "text": [
      "Correlation between living_space and price: 0.010981535704223977\n",
      "Correlation between bathroom_number and price: 0.47008254484596457\n",
      "Correlation between floor_level and price: -0.0012104086901564282\n",
      "Correlation between bedroom_number and price: 0.38911363104128793\n"
     ]
    }
   ],
   "source": [
    "\n",
    "for column in numerical_cols:\n",
    "    correlation = df_pyspark.select(column, 'price').corr(column, 'price')\n",
    "    print(f\"Correlation between {column} and price: {correlation}\")\n"
   ]
  },
  {
   "cell_type": "code",
   "execution_count": 22,
   "metadata": {
    "scrolled": false
   },
   "outputs": [
    {
     "data": {
      "image/png": "[encoded data removed]",
      "text/plain": [
       "<Figure size 576x1728 with 4 Axes>"
      ]
     },
     "metadata": {
      "needs_background": "light"
     },
     "output_type": "display_data"
    }
   ],
   "source": [
    "from pyspark.sql.functions import avg\n",
    "import matplotlib.pyplot as plt\n",
    "\n",
    "numerical_columns = ['bathroom_number', 'built_year', 'premium', 'bedroom_number']\n",
    "\n",
    "# Calculate the average price for each numerical variable\n",
    "average_prices = []\n",
    "\n",
    "for col in numerical_columns:\n",
    "    avg_price = df_pyspark.groupBy(col).agg(avg(\"price\").alias(\"average_price\"))\n",
    "    # Sort by the numerical column\n",
    "    avg_price = avg_price.sort(col)\n",
    "    average_prices.append(avg_price)\n",
    "\n",
    "# Set up subplots\n",
    "fig, axes = plt.subplots(nrows=len(numerical_columns), figsize=(8, 6 * len(numerical_columns)))\n",
    "\n",
    "# Plot bar charts for each numerical column\n",
    "for i, col in enumerate(numerical_columns):\n",
    "    ax = axes[i]\n",
    "    # Extract values from the PySpark DataFrame and handle None values\n",
    "    x_values = [float(row[col]) if row[col] is not None else 0 for row in average_prices[i].collect()]\n",
    "    y_values = [float(row['average_price']) for row in average_prices[i].collect()]\n",
    "    \n",
    "    # Use Matplotlib to create bar plot\n",
    "    ax.bar(x_values, y_values, color='pink', edgecolor='black')\n",
    "    ax.set_title(f'Average Price by {col}')\n",
    "    ax.set_xlabel(col)\n",
    "    ax.set_ylabel('Average Price')\n",
    "\n",
    "# Adjust layout\n",
    "plt.tight_layout()\n",
    "plt.show()\n"
   ]
  },
  {
   "cell_type": "code",
   "execution_count": 23,
   "metadata": {
    "scrolled": false
   },
   "outputs": [
    {
     "data": {
      "image/png": "[encoded data removed]",
      "text/plain": [
       "<Figure size 576x432 with 1 Axes>"
      ]
     },
     "metadata": {
      "needs_background": "light"
     },
     "output_type": "display_data"
    }
   ],
   "source": [
    "# Plot scatter plots\n",
    "numerical_columns = ['living_space']\n",
    "\n",
    "from pyspark.sql.functions import col\n",
    "for col_name in numerical_columns:\n",
    "    plt.figure(figsize=(8, 6))\n",
    "    plt.scatter(df_pyspark.select(col(col_name)).collect(), df_pyspark.select(\"price\").collect(), alpha=0.5)\n",
    "    plt.title(f\"Scatter plot between {col_name} and price\")\n",
    "    plt.xlabel(col_name)\n",
    "    plt.ylabel(\"Price\")\n",
    "    plt.show()\n"
   ]
  },
  {
   "cell_type": "markdown",
   "metadata": {},
   "source": [
    "### Exploring Categorical Data"
   ]
  },
  {
   "cell_type": "code",
   "execution_count": 24,
   "metadata": {},
   "outputs": [
    {
     "name": "stdout",
     "output_type": "stream",
     "text": [
      "+-----------------+--------+--------------+---------+-------+--------------------+-------------+--------+\n",
      "|sub_property_type|currency| property_type|     city|  state|             address|listing_label|  tenure|\n",
      "+-----------------+--------+--------------+---------+-------+--------------------+-------------+--------+\n",
      "|         For Sale|    Baht|         Condo|    Dusit|Bangkok|Samsen Road, Dusi...|       NORMAL|Freehold|\n",
      "|         For Sale|    Baht|         Condo|    Dusit|Bangkok|Samsen Road, Dusi...|       NORMAL|Freehold|\n",
      "|         For Sale|    Baht|Detached House|Nong Chok|Bangkok|Mit Maitri Road, ...|    CORPORATE|Freehold|\n",
      "|         For Sale|    Baht|Detached House|Nong Chok|Bangkok|Soi Mitmaitri 2, ...|       NORMAL|Freehold|\n",
      "|         For Sale|    Baht|         Condo| Bang Rak|Bangkok|- Rama 4 Road, Si...|    CORPORATE|Freehold|\n",
      "+-----------------+--------+--------------+---------+-------+--------------------+-------------+--------+\n",
      "only showing top 5 rows\n",
      "\n"
     ]
    }
   ],
   "source": [
    "df_pyspark.select(categorical_cols).show(5)"
   ]
  },
  {
   "cell_type": "markdown",
   "metadata": {},
   "source": [
    "#### Counts of Each Variable"
   ]
  },
  {
   "cell_type": "code",
   "execution_count": 25,
   "metadata": {
    "scrolled": true
   },
   "outputs": [
    {
     "name": "stdout",
     "output_type": "stream",
     "text": [
      "Number of unique values in sub_property_type: 2\n",
      "Number of unique values in currency: 1\n",
      "Number of unique values in property_type: 4\n",
      "Number of unique values in city: 89\n",
      "Number of unique values in state: 17\n",
      "Number of unique values in address: 1686\n",
      "Number of unique values in listing_label: 3\n",
      "Number of unique values in tenure: 3\n"
     ]
    }
   ],
   "source": [
    "from pyspark.sql.functions import countDistinct\n",
    "\n",
    "for column in categorical_cols:\n",
    "    # Use countDistinct to calculate the number of unique values in each column\n",
    "    unique_count = df_pyspark.agg(countDistinct(column)).collect()[0][0]\n",
    "    print(f\"Number of unique values in {column}: {unique_count}\")\n"
   ]
  },
  {
   "cell_type": "code",
   "execution_count": 26,
   "metadata": {},
   "outputs": [
    {
     "data": {
      "image/png": "[encoded data removed]",
      "text/plain": [
       "<Figure size 720x1080 with 3 Axes>"
      ]
     },
     "metadata": {
      "needs_background": "light"
     },
     "output_type": "display_data"
    }
   ],
   "source": [
    "from pyspark.sql.functions import avg\n",
    "import matplotlib.pyplot as plt\n",
    "\n",
    "# List of categorical columns\n",
    "cat_columns = ['sub_property_type', 'property_type', 'tenure']\n",
    "\n",
    "# Calculate the average price for each categorical variable\n",
    "average_prices = []\n",
    "\n",
    "for col in cat_columns:\n",
    "    avg_price = df_pyspark.groupBy(col).agg(avg(\"price\").alias(\"average_price\"))\n",
    "    average_prices.append(avg_price)\n",
    "\n",
    "# Plotting\n",
    "fig, axes = plt.subplots(nrows=len(cat_columns), figsize=(10, 5 * len(cat_columns)))\n",
    "\n",
    "for i, (col, avg_price) in enumerate(zip(cat_columns, average_prices)):\n",
    "    ax = axes[i] if len(cat_columns) > 1 else axes\n",
    "    \n",
    "    # Convert PySpark DataFrame to Pandas Series\n",
    "    x_values = [str(row[col]) for row in avg_price.collect()]  # Convert to strings\n",
    "    y_values = [float(row['average_price']) for row in avg_price.collect()]\n",
    "\n",
    "    # Use Matplotlib to create bar plot\n",
    "    ax.bar(x_values, y_values, color='pink', edgecolor='black')\n",
    "    ax.set_title(f\"Average price by {col}\")\n",
    "    ax.set_ylabel(\"Average Price\")\n",
    "    ax.set_xlabel(col)\n",
    "\n",
    "plt.tight_layout()\n",
    "plt.show()\n",
    "\n"
   ]
  },
  {
   "cell_type": "markdown",
   "metadata": {},
   "source": [
    "### Grouping and Filtering"
   ]
  },
  {
   "cell_type": "code",
   "execution_count": 27,
   "metadata": {},
   "outputs": [
    {
     "name": "stdout",
     "output_type": "stream",
     "text": [
      "Number of properties built in the last 10 years: 30543\n"
     ]
    }
   ],
   "source": [
    "from pyspark.sql.functions import col\n",
    "current_year = F.year(F.current_date())\n",
    "\n",
    "# Define the threshold year for the last 10 years\n",
    "threshold_year = current_year - 10\n",
    "\n",
    "# Filter properties built in the last 10 years\n",
    "df_last_10_years = df_pyspark.filter(col(\"built_year\") >= threshold_year)\n",
    "\n",
    "count_last_10_years = df_last_10_years.count()\n",
    "\n",
    "print(f\"Number of properties built in the last 10 years: {count_last_10_years}\")\n",
    "\n"
   ]
  },
  {
   "cell_type": "code",
   "execution_count": 28,
   "metadata": {},
   "outputs": [
    {
     "name": "stdout",
     "output_type": "stream",
     "text": [
      "+--------------------------+-----+\n",
      "|floor_level_range         |count|\n",
      "+--------------------------+-----+\n",
      "|floor_level_0_50          |40306|\n",
      "|floor_level_101_150       |59   |\n",
      "|floor_level_151_200       |5    |\n",
      "|floor_level_201_1000000000|205  |\n",
      "|floor_level_51_100        |785  |\n",
      "+--------------------------+-----+\n",
      "\n"
     ]
    }
   ],
   "source": [
    "from pyspark.sql.functions import expr\n",
    "ranges = [\n",
    "    (0, 50),\n",
    "    (51, 100),\n",
    "    (101, 150),\n",
    "    (151,200),\n",
    "    (201,1000000000)\n",
    "]\n",
    "copy = df_pyspark\n",
    "# Create a new column 'floor_level_range' based on the specified ranges\n",
    "for start, end in ranges:\n",
    "    copy = copy.withColumn(\n",
    "        f\"floor_level_{start}_{end}\",\n",
    "        expr(f\"CASE WHEN floor_level BETWEEN {start} AND {end} THEN 'floor_level_{start}_{end}' ELSE NULL END\")\n",
    "    )\n",
    "\n",
    "# Combine the range columns into a single column 'floor_level_range'\n",
    "floor_range = copy.withColumn(\"floor_level_range\", expr(\"CONCAT_WS(',', \" + \", \".join([f\"floor_level_{start}_{end}\" for start, end in ranges]) + \")\"))\n",
    "\n",
    "# Group by the 'floor_level_range' and count\n",
    "result = floor_range.groupBy(\"floor_level_range\").count().orderBy(\"floor_level_range\")\n",
    "\n",
    "# Show the result\n",
    "result.show(truncate=False)"
   ]
  },
  {
   "cell_type": "code",
   "execution_count": 29,
   "metadata": {},
   "outputs": [
    {
     "name": "stdout",
     "output_type": "stream",
     "text": [
      "+-----------------+------------+---------------+--------+--------------+-----------+-----------+-----------+-------------+----------+-----------+-------+--------------+--------------------+-------------+-----------+--------+--------+\n",
      "|sub_property_type|living_space|bathroom_number|currency| property_type|property_id|       city|floor_level|        state|built_year|   latitude|premium|bedroom_number|             address|listing_label|  longitude|  tenure|   price|\n",
      "+-----------------+------------+---------------+--------+--------------+-----------+-----------+-----------+-------------+----------+-----------+-------+--------------+--------------------+-------------+-----------+--------+--------+\n",
      "|         For Sale|      878.34|              9|    Baht|     Townhouse|    9123972|   Yan Nawa|          5|      Bangkok|      2016|  13.686206|      0|            10|Yan Nawa Road, Ch...|    CORPORATE| 100.537212|Freehold|85000000|\n",
      "|         For Sale|       850.0|              9|    Baht|         Condo|   10052873|Huai Khwang|          4|      Bangkok|      2011|  13.778395|      0|            10|62 Pracharajbumpe...|       NORMAL| 100.574172|Freehold|13000000|\n",
      "|         For Sale|        67.0|              2|    Baht|         Condo|    9624155|Huai Khwang|         26|      Bangkok|      2012|  13.744204|      0|            10|              #NAME?|    CORPORATE| 100.585341|Freehold| 6500000|\n",
      "|         For Sale|       300.0|              9|    Baht|     Apartment|   10003879|  Bueng Kum|          5|      Bangkok|      2019|  13.776403|      0|            10|. ถนนเสรีไทย แขวง...|    CORPORATE| 100.661409|Freehold|44000000|\n",
      "|         For Sale|      4300.0|              9|    Baht|     Apartment|    9835669| Suan Luang|          5|      Bangkok|      2018|  13.743283|      0|            10|              #NAME?|    CORPORATE| 100.603216|Freehold|88000000|\n",
      "|         For Sale|      1616.0|              9|    Baht|     Apartment|    9747076|  Lat Phrao|          4|      Bangkok|      2012|  13.812971|      0|            10|Soi Nakniwas 45, ...|    CORPORATE| 100.610308|Freehold|29000000|\n",
      "|         For Sale|        60.0|              2|    Baht|         Condo|    9988030|   Watthana|          7|      Bangkok|      2011|13.70622533|      0|            10|2077 Sukhumvit Ro...|    CORPORATE|100.6012631|Freehold| 7600000|\n",
      "|         For Sale|       782.0|              6|    Baht|Detached House|    9793048|  Bang Plee|          3| Samut Prakan|      2003|13.64217225|      0|             9|Srinakarin Road, ...|       NORMAL|100.6357796|Freehold|79000000|\n",
      "|         For Sale|        29.0|              1|    Baht|         Condo|    9949428|Bang Lamung|         11|    Chon Buri|      2014|  12.930522|      0|            11|88/9 Pattayasaiso...|    CORPORATE| 100.883643|Freehold| 2800000|\n",
      "|         For Sale|       183.0|              9|    Baht|Detached House|    7641037|  Sam Phran|          2|Nakhon Pathom|      2019|13.71940167|      0|             9|Phutthamonthon Sa...|    CORPORATE|100.3299757|Freehold|30360000|\n",
      "+-----------------+------------+---------------+--------+--------------+-----------+-----------+-----------+-------------+----------+-----------+-------+--------------+--------------------+-------------+-----------+--------+--------+\n",
      "\n"
     ]
    }
   ],
   "source": [
    "# Filtering for Potential Errors\n",
    "unrealistic_rows_bedroom = df_pyspark.filter((col(\"bedroom_number\") >= 9))\n",
    "unrealistic_rows_bedroom.show()"
   ]
  },
  {
   "cell_type": "code",
   "execution_count": 30,
   "metadata": {},
   "outputs": [
    {
     "name": "stdout",
     "output_type": "stream",
     "text": [
      "+-----------------+------------+---------------+--------+-------------+-----------+-------------+-----------+-------+----------+-----------+-------+--------------+--------------------+-------------+-----------+---------+----------+------------+\n",
      "|sub_property_type|living_space|bathroom_number|currency|property_type|property_id|         city|floor_level|  state|built_year|   latitude|premium|bedroom_number|             address|listing_label|  longitude|   tenure|     price|priceoutlier|\n",
      "+-----------------+------------+---------------+--------+-------------+-----------+-------------+-----------+-------+----------+-----------+-------+--------------+--------------------+-------------+-----------+---------+----------+------------+\n",
      "|         For Sale|      709.42|              5|    Baht|        Condo|    9922189|   Khlong San|         51|Bangkok|      2018|13.72812789|      0|             4|117 Charoen Nakor...|    CORPORATE|100.5110346| Freehold| 485000000|        true|\n",
      "|         For Sale|      605.05|              4|    Baht|        Condo|    8793201|   Khlong San|          5|Bangkok|      2018|13.72812789|      0|             6|117 Charoen Nakor...|    CORPORATE|100.5110346| Freehold| 428870000|        true|\n",
      "|         For Sale|      1180.0|              4|    Baht|        Condo|    9731623|       Sathon|          1|Bangkok|      2012| 13.7214254|      0|             4|3 Sathorn Tai Roa...|    CORPORATE|100.5411675| Freehold| 580000000|        true|\n",
      "|         For Sale|      1054.0|              6|    Baht|        Condo|    9862871|Bang Kho Laem|          6|Bangkok|      2021|  13.712088|      0|             5|64 Charoen Krung ...|    CORPORATE| 100.510114|Leasehold| 475000000|        true|\n",
      "|         For Sale|      1053.0|              5|    Baht|        Condo|    9854320|Bang Kho Laem|         73|Bangkok|      2021|  13.712088|      0|             5|64 Charoen Krung ...|    CORPORATE| 100.510114|Leasehold| 474192000|        true|\n",
      "|         For Sale|      1008.0|              5|    Baht|        Condo|    9854318|Bang Kho Laem|         73|Bangkok|      2021|  13.712088|      0|             5|64 Charoen Krung ...|    CORPORATE| 100.510114|Leasehold| 453933000|        true|\n",
      "|         For Sale|      1000.0|              6|    Baht|        Condo|    9534628|Bang Kho Laem|         70|Bangkok|      2021|  13.712088|      0|             5|64 Charoen Krung ...|    CORPORATE| 100.510114|Leasehold| 450000000|        true|\n",
      "|         For Sale|       36.53|              1|    Baht|        Condo|   10058475|       Prawet|         25|Bangkok|      2010|13.67279093|      0|             0|688 Srinakarin Ro...|    CORPORATE|100.6452738| Freehold|1396396324|        true|\n",
      "+-----------------+------------+---------------+--------+-------------+-----------+-------------+-----------+-------+----------+-----------+-------+--------------+--------------------+-------------+-----------+---------+----------+------------+\n",
      "\n"
     ]
    }
   ],
   "source": [
    "\n",
    "# Calculate the quartiles for floor_level\n",
    "quantiles = df_pyspark.stat.approxQuantile(\"price\", [0.25, 0.75], 0.01)\n",
    "\n",
    "# Calculate the IQR for floor_level\n",
    "lower_q, upper_q = quantiles\n",
    "iqr = upper_q - lower_q\n",
    "\n",
    "# Define a threshold for outlier detection\n",
    "threshold = 100\n",
    "\n",
    "# Flag rows with extreme outliers for floor_level\n",
    "df_pyspark = df_pyspark.withColumn(\"priceoutlier\", \n",
    "    (col(\"price\") < lower_q - threshold * iqr) | (col(\"price\") > upper_q + threshold * iqr)\n",
    ")\n",
    "\n",
    "# Show the flagged outliers for floor_level\n",
    "df_pyspark.filter(\"priceoutlier\").show()"
   ]
  },
  {
   "cell_type": "code",
   "execution_count": 31,
   "metadata": {
    "scrolled": true
   },
   "outputs": [
    {
     "name": "stdout",
     "output_type": "stream",
     "text": [
      "Number of Rows with price 0 in df_pyspark: 23\n",
      "+-----------------+------------+---------------+--------+--------------+-----------+----------------+-----------+------------+----------+-----------+-------+--------------+--------------------+-------------+-----------+--------+-----+------------+\n",
      "|sub_property_type|living_space|bathroom_number|currency| property_type|property_id|            city|floor_level|       state|built_year|   latitude|premium|bedroom_number|             address|listing_label|  longitude|  tenure|price|priceoutlier|\n",
      "+-----------------+------------+---------------+--------+--------------+-----------+----------------+-----------+------------+----------+-----------+-------+--------------+--------------------+-------------+-----------+--------+-----+------------+\n",
      "|         For Sale|        31.4|              1|    Baht|         Condo|   10035956|       Bang Kapi|          5|     Bangkok|      2015|   13.76327|      0|             1|845 Ramkhamhaeng ...|    CORPORATE| 100.640729|Freehold|    0|       false|\n",
      "|         For Sale|        50.0|              1|    Baht|         Condo|    8459512|    Phra Khanong|          8|     Bangkok|      2017|  13.689137|      0|             2|113/1 Soi Sukhumv...|    CORPORATE|100.6025889|Freehold|    0|       false|\n",
      "|         For Sale|        53.0|              1|    Baht|         Condo|   10080227|       Thon Buri|         17|     Bangkok|      2013|  13.707402|      0|             1|99 Charoennakhon ...|    CORPORATE|  100.49624|Freehold|    0|       false|\n",
      "|         For Sale|        45.0|              1|    Baht|         Condo|    8763132|       Thon Buri|         11|     Bangkok|      2012|  13.717714|      0|             1|18 Ratchadaphisek...|       NORMAL|    100.477|Freehold|    0|       false|\n",
      "|         For Sale|        85.0|              2|    Baht|         Condo|    6602053|     Huai Khwang|         20|     Bangkok|      2014|  13.748475|      0|             2|. Petchaburi Road...|    CORPORATE| 100.565677|Freehold|    0|       false|\n",
      "|         For Sale|        35.0|              1|    Baht|         Condo|    7749434|     Huai Khwang|          4|     Bangkok|      2013|  13.771014|      0|             1|- Soi Ratchadapis...|    CORPORATE| 100.573858|Freehold|    0|       false|\n",
      "|         For Sale|       129.0|              3|    Baht|Detached House|   10028052| Bang Khun Thian|          2|     Bangkok|      2013|  13.615959|      0|             3|Rama II Rd., Tha ...|    CORPORATE|  100.43711|Freehold|    0|       false|\n",
      "|         For Sale|        25.0|              1|    Baht|         Condo|   10079272|   Phasi Charoen|          2|     Bangkok|      2020|  13.718176|      0|             0|99 ซอยเพชรเกษม 46...|    CORPORATE| 100.445775|Freehold|    0|       false|\n",
      "|         For Sale|        58.0|              1|    Baht|         Condo|    8019339|   Phasi Charoen|          1|     Bangkok|      2016|13.70909132|      0|             2|218/19 Kallapraph...|    CORPORATE|100.4513138|Freehold|    0|       false|\n",
      "|         For Sale|        36.0|              1|    Baht|         Condo|    8409499|        Bang Sue|         40|     Bangkok|      2014|  13.805574|      0|             1|- Pracharat Sai 2...|    CORPORATE| 100.525418|Freehold|    0|       false|\n",
      "|         For Sale|        36.0|              1|    Baht|         Condo|    8409264|        Bang Sue|         40|     Bangkok|      2014|  13.805574|      0|             1|- Pracharat Sai 2...|    CORPORATE| 100.525418|Freehold|    0|       false|\n",
      "|         For Sale|        35.0|              1|    Baht|         Condo|    9535791|       Chatuchak|         24|     Bangkok|      2019|  13.855906|      0|             1|2999 ถนนพหลโยธิน ...|    CORPORATE| 100.584884|Freehold|    0|       false|\n",
      "|         For Sale|        24.0|              1|    Baht|         Condo|    9771154|       Chatuchak|          2|     Bangkok|      2014|  13.814019|      0|             1|- Soi Ladprao 1 L...|    CORPORATE| 100.564862|Freehold|    0|       false|\n",
      "|         For Sale|        30.0|              1|    Baht|         Condo|    8568566|     Khlong Toei|          8|     Bangkok|      2015|  13.721765|      0|             1|- Soi Sukhumvit 4...|    CORPORATE| 100.580699|Freehold|    0|       false|\n",
      "|         For Sale|        40.0|              1|    Baht|         Condo|    8433520|     Khlong Toei|         31|     Bangkok|      2017|  13.711724|      0|             1|Soi Sukhumvit 48,...|    CORPORATE| 100.594785|Freehold|    0|       false|\n",
      "|         For Sale|        46.0|              1|    Baht|         Condo|    7342048|     Ratchathewi|         44|     Bangkok|      2012|  13.749787|      0|             1|1655 Petchburi Ro...|    CORPORATE| 100.562047|Freehold|    0|       false|\n",
      "|         For Sale|        58.0|              1|    Baht|         Condo|    9522967|     Ratchathewi|          1|     Bangkok|      2013|  13.749032|      0|             1|1032 Soi Petchbur...|    CORPORATE| 100.543564|Freehold|    0|       false|\n",
      "|         For Sale|       186.0|              4|    Baht|         Condo|    8534535|        Watthana|         24|     Bangkok|      2010|  13.737239|      0|             4|889 Soi Sukhumvit...|    CORPORATE| 100.583582|Freehold|    0|       false|\n",
      "|         For Sale|        44.0|              1|    Baht|         Condo|    8344927|        Watthana|         28|     Bangkok|      2014|13.70750515|      0|             2|2059 Sukhumvit Ro...|    CORPORATE|100.6004302|Freehold|    0|       false|\n",
      "|         For Sale|        76.0|              2|    Baht|         Condo|    6977937|         Bang Na|          5|     Bangkok|      2013|  13.667795|      0|             1|- Soi Bangna-Trat...|    CORPORATE| 100.650371|Freehold|    0|       false|\n",
      "|         For Sale|        30.0|              1|    Baht|         Condo|    8475171|         Bang Bo|          3|Samut Prakan|      2014|13.60370028|      0|             1|- Soi ABAC Bangna...|    CORPORATE|100.8472181|Freehold|    0|       false|\n",
      "|         For Sale|        27.0|              1|    Baht|         Condo|    9809693|Muang Nonthaburi|          5|  Nonthaburi|      2015|13.84476218|      0|             1|              #NAME?|       NORMAL|100.5275843|Freehold|    0|       false|\n",
      "|         For Sale|       24.08|              1|    Baht|         Condo|    9483554|     Bang Lamung|         14|   Chon Buri|      2014|  12.871658|      0|             1|Jomtien Saisong R...|    CORPORATE| 100.893421|Freehold|    0|       false|\n",
      "+-----------------+------------+---------------+--------+--------------+-----------+----------------+-----------+------------+----------+-----------+-------+--------------+--------------------+-------------+-----------+--------+-----+------------+\n",
      "\n"
     ]
    }
   ],
   "source": [
    "\n",
    "# Filter rows where 'price' is equal to 0\n",
    "zero_price_rows = df_pyspark.filter(col(\"price\") == 0)\n",
    "print(\"Number of Rows with price 0 in df_pyspark:\", zero_price_rows.count())\n",
    "# Display the rows with price equal to 0\n",
    "zero_price_rows.show(30)"
   ]
  },
  {
   "cell_type": "markdown",
   "metadata": {},
   "source": [
    "### Missing Value Treatment"
   ]
  },
  {
   "cell_type": "code",
   "execution_count": 32,
   "metadata": {},
   "outputs": [
    {
     "name": "stdout",
     "output_type": "stream",
     "text": [
      "Column 'sub_property_type' has 0 null values.\n",
      "Column 'living_space' has 50 null values.\n",
      "Column 'bathroom_number' has 0 null values.\n",
      "Column 'currency' has 0 null values.\n",
      "Column 'property_type' has 0 null values.\n",
      "Column 'property_id' has 0 null values.\n",
      "Column 'city' has 0 null values.\n",
      "Column 'floor_level' has 0 null values.\n",
      "Column 'state' has 0 null values.\n",
      "Column 'built_year' has 0 null values.\n",
      "Column 'latitude' has 0 null values.\n",
      "Column 'premium' has 0 null values.\n",
      "Column 'bedroom_number' has 0 null values.\n",
      "Column 'address' has 0 null values.\n",
      "Column 'listing_label' has 0 null values.\n",
      "Column 'longitude' has 0 null values.\n",
      "Column 'tenure' has 0 null values.\n",
      "Column 'price' has 0 null values.\n",
      "Column 'priceoutlier' has 0 null values.\n"
     ]
    }
   ],
   "source": [
    "# Check for null values in each column\n",
    "null_counts = df_pyspark.select([col(c).isNull().cast('int').alias(c) for c in df_pyspark.columns])\n",
    "\n",
    "# Display the count of null values in each column\n",
    "for column in df_pyspark.columns:\n",
    "    null_count = null_counts.agg({column: 'sum'}).collect()[0][0]\n",
    "    print(f\"Column '{column}' has {null_count} null values.\")"
   ]
  },
  {
   "cell_type": "code",
   "execution_count": 33,
   "metadata": {
    "scrolled": true
   },
   "outputs": [
    {
     "name": "stdout",
     "output_type": "stream",
     "text": [
      "+-----------------+------------+---------------+--------+-------------+-----------+-----------+-----------+-------+----------+-----------+-------+--------------+--------------------+-------------+-----------+--------+--------+------------+\n",
      "|sub_property_type|living_space|bathroom_number|currency|property_type|property_id|       city|floor_level|  state|built_year|   latitude|premium|bedroom_number|             address|listing_label|  longitude|  tenure|   price|priceoutlier|\n",
      "+-----------------+------------+---------------+--------+-------------+-----------+-----------+-----------+-------+----------+-----------+-------+--------------+--------------------+-------------+-----------+--------+--------+------------+\n",
      "|         For Sale|        null|              1|    Baht|        Condo|    6462781|Khlong Toei|         14|Bangkok|      2018|  13.725635|      0|             2|68 Sukhumvit 24 A...|    CORPORATE| 100.566196|Freehold|13000000|       false|\n",
      "|         For Sale|        null|              1|    Baht|        Condo|    7132380|Khlong Toei|          2|Bangkok|      2018|  13.725123|      0|             2|70 Sukhumvit 24 A...|    CORPORATE| 100.565924|Freehold|12890000|       false|\n",
      "|         For Sale|        null|              1|    Baht|        Condo|    9541118|Khlong Toei|          2|Bangkok|      2017|  13.711724|      0|             2|Soi Sukhumvit 48,...|    CORPORATE| 100.594785|Freehold| 5500000|       false|\n",
      "|         For Sale|        null|              1|    Baht|        Condo|    8811098|Khlong Toei|          5|Bangkok|      2013|13.71523862|      0|             2|              #NAME?|    CORPORATE|100.5905981|Freehold| 8500000|       false|\n",
      "|         For Sale|        null|              1|    Baht|        Condo|    8807642|Khlong Toei|          5|Bangkok|      2013|13.71523862|      0|             2|              #NAME?|    CORPORATE|100.5905981|Freehold| 8500000|       false|\n",
      "|         For Sale|        null|              1|    Baht|        Condo|    9699881|Khlong Toei|          8|Bangkok|      2021|  13.735653|      0|             2|28 Soi Sukhumvit ...|    CORPORATE| 100.556987|Freehold|12870000|       false|\n",
      "|         For Sale|        null|              1|    Baht|        Condo|    9848077|Khlong Toei|         17|Bangkok|      2018| 13.7047129|      0|             2|Soi Sukhumvit 50,...|    CORPORATE|100.5943438|Freehold| 6000000|       false|\n",
      "|         For Sale|        null|              1|    Baht|        Condo|    9756624|Khlong Toei|         47|Bangkok|      2021|  13.715821|      0|             2|3641 Rama 4 Road,...|    CORPORATE| 100.575019|Freehold| 6065000|       false|\n",
      "|         For Sale|        null|              1|    Baht|        Condo|    9604622|Khlong Toei|         17|Bangkok|      2018| 13.7047129|      0|             2|Soi Sukhumvit 50,...|    CORPORATE|100.5943438|Freehold| 6890000|       false|\n",
      "|         For Sale|        null|              1|    Baht|        Condo|    9637790|Khlong Toei|         47|Bangkok|      2020|  13.720791|      0|             2|Soi Sukhumvit 36,...|    CORPORATE|  100.57622|Freehold| 8480000|       false|\n",
      "|         For Sale|        null|              1|    Baht|        Condo|    7307325|Khlong Toei|         34|Bangkok|      2013|  13.722473|      0|             2|ซอยสุขุมวิท 63 แข...|    CORPORATE|  100.58455|Freehold| 9200000|       false|\n",
      "|         For Sale|        null|              1|    Baht|        Condo|    9968894|Khlong Toei|         32|Bangkok|      2012|  13.712022|      0|             2|- Rama 4 Road, Ph...|    CORPORATE| 100.584435|Freehold| 2000000|       false|\n",
      "|         For Sale|        null|              1|    Baht|        Condo|    7524545|Khlong Toei|         43|Bangkok|      2018|  13.746369|      0|             2|- Sukhumvit 21 Ro...|    CORPORATE| 100.562791|Freehold|32000000|       false|\n",
      "|         For Sale|        null|              1|    Baht|        Condo|    9994361|Khlong Toei|         12|Bangkok|      1999|13.72684166|      0|             2|758/18  Soi Sukhu...|    CORPORATE|100.5734449|Freehold| 7500000|       false|\n",
      "|         For Sale|        null|              1|    Baht|        Condo|    8427275|Khlong Toei|         20|Bangkok|      2013|13.71523862|      0|             2|              #NAME?|    CORPORATE|100.5905981|Freehold| 7690000|       false|\n",
      "|         For Sale|        null|              1|    Baht|        Condo|    8446604|Khlong Toei|         10|Bangkok|      2013|13.71523862|      0|             2|              #NAME?|    CORPORATE|100.5905981|Freehold| 7490000|       false|\n",
      "|         For Sale|        null|              1|    Baht|        Condo|    8528918|Khlong Toei|         11|Bangkok|      2013|13.71523862|      0|             2|              #NAME?|    CORPORATE|100.5905981|Freehold| 8560000|       false|\n",
      "|         For Sale|        null|              1|    Baht|        Condo|    8528972|Khlong Toei|         32|Bangkok|      2013|13.71523862|      0|             2|              #NAME?|    CORPORATE|100.5905981|Freehold|10605000|       false|\n",
      "|         For Sale|        null|              1|    Baht|        Condo|    8419980|Khlong Toei|         11|Bangkok|      2013|13.71523862|      0|             2|              #NAME?|    CORPORATE|100.5905981|Freehold| 8560000|       false|\n",
      "|         For Sale|        null|              1|    Baht|        Condo|    9992948|Khlong Toei|          6|Bangkok|      2019|  13.705177|      0|             2|Soi Roem Charoen ...|    CORPORATE| 100.592245|Freehold| 4190000|       false|\n",
      "|         For Sale|        null|              1|    Baht|        Condo|   10013648|Khlong Toei|          7|Bangkok|      2017|  13.711724|      0|             2|Soi Sukhumvit 48,...|    CORPORATE| 100.594785|Freehold| 4990000|       false|\n",
      "|         For Sale|        null|              1|    Baht|        Condo|    7669759|Khlong Toei|         77|Bangkok|      2017|  13.711724|      0|             2|Soi Sukhumvit 48,...|       NORMAL| 100.594785|Freehold| 5700000|       false|\n",
      "|         For Sale|        null|              1|    Baht|        Condo|    8715657|Khlong Toei|         27|Bangkok|      1999|13.72684166|      0|             2|758/18  Soi Sukhu...|    CORPORATE|100.5734449|Freehold| 7700000|       false|\n",
      "|         For Sale|        null|              1|    Baht|        Condo|    8942274|Khlong Toei|         17|Bangkok|      1999|13.72684166|      0|             2|758/18  Soi Sukhu...|    CORPORATE|100.5734449|Freehold| 7700000|       false|\n",
      "|         For Sale|        null|              1|    Baht|        Condo|    9402573|Khlong Toei|         31|Bangkok|      1999|13.72684166|      0|             2|758/18  Soi Sukhu...|    CORPORATE|100.5734449|Freehold| 6500000|       false|\n",
      "|         For Sale|        null|              1|    Baht|        Condo|    9996647|Khlong Toei|          5|Bangkok|      2013|13.71523862|      0|             2|              #NAME?|    CORPORATE|100.5905981|Freehold| 8500000|       false|\n",
      "|         For Sale|        null|              1|    Baht|        Condo|    9600638|Khlong Toei|         46|Bangkok|      1999|13.72684166|      0|             2|758/18  Soi Sukhu...|    CORPORATE|100.5734449|Freehold| 7500000|       false|\n",
      "|         For Sale|        null|              1|    Baht|        Condo|    9605969|Khlong Toei|         42|Bangkok|      2009|13.72334617|      0|             2|93 Soi Sukhumvit ...|    CORPORATE|100.5670858|Freehold|23000000|       false|\n",
      "|         For Sale|        null|              1|    Baht|        Condo|    9601251|Khlong Toei|         32|Bangkok|      2012|  13.720854|      0|             2|              #NAME?|    CORPORATE| 100.578565|Freehold| 9350000|       false|\n",
      "|         For Sale|        null|              1|    Baht|        Condo|    9921961|Khlong Toei|         34|Bangkok|      2013|13.71523862|      0|             2|              #NAME?|    CORPORATE|100.5905981|Freehold|10400000|       false|\n",
      "|         For Sale|        null|              1|    Baht|        Condo|    9973214|Khlong Toei|         46|Bangkok|      1999|13.72684166|      0|             2|758/18  Soi Sukhu...|    CORPORATE|100.5734449|Freehold| 5500000|       false|\n",
      "|         For Sale|        null|              1|    Baht|        Condo|    9648847|Khlong Toei|         25|Bangkok|      2012|13.72840653|      0|             2|              #NAME?|    CORPORATE|100.5710471|Freehold|14990000|       false|\n",
      "|         For Sale|        null|              1|    Baht|        Condo|    9827732|Khlong Toei|         31|Bangkok|      2017|  13.711724|      0|             2|Soi Sukhumvit 48,...|    CORPORATE| 100.594785|Freehold| 4350000|       false|\n",
      "|         For Sale|        null|              1|    Baht|        Condo|    9606613|Khlong Toei|         31|Bangkok|      2017|  13.711724|      0|             2|Soi Sukhumvit 48,...|    CORPORATE| 100.594785|Freehold| 5300000|       false|\n",
      "|         For Sale|        null|              1|    Baht|        Condo|    9680876|Khlong Toei|         31|Bangkok|      2017|  13.711724|      0|             2|Soi Sukhumvit 48,...|    CORPORATE| 100.594785|Freehold| 5400000|       false|\n",
      "|         For Sale|        null|              1|    Baht|        Condo|    9854666|Khlong Toei|         34|Bangkok|      2013|13.71523862|      0|             2|              #NAME?|    CORPORATE|100.5905981|Freehold| 8480000|       false|\n",
      "|         For Sale|        null|              1|    Baht|        Condo|    9854636|Khlong Toei|         46|Bangkok|      1999|13.72684166|      0|             2|758/18  Soi Sukhu...|    CORPORATE|100.5734449|Freehold| 6490000|       false|\n",
      "|         For Sale|        null|              1|    Baht|        Condo|    9797153|Khlong Toei|         34|Bangkok|      2013|13.71523862|      0|             2|              #NAME?|    CORPORATE|100.5905981|Freehold| 7490000|       false|\n",
      "|         For Sale|        null|              1|    Baht|        Condo|    9854699|Khlong Toei|         34|Bangkok|      2013|13.71523862|      0|             2|              #NAME?|    CORPORATE|100.5905981|Freehold| 7500000|       false|\n",
      "|         For Sale|        null|              1|    Baht|        Condo|    9603865|Khlong Toei|         34|Bangkok|      2013|13.71523862|      0|             2|              #NAME?|    CORPORATE|100.5905981|Freehold| 9800000|       false|\n",
      "|         For Sale|        null|              1|    Baht|        Condo|    9756604|Khlong Toei|         46|Bangkok|      1999|13.72684166|      0|             2|758/18  Soi Sukhu...|    CORPORATE|100.5734449|Freehold| 8000000|       false|\n",
      "|         For Sale|        null|              1|    Baht|        Condo|    9921925|Khlong Toei|         34|Bangkok|      2013|13.71523862|      0|             2|              #NAME?|    CORPORATE|100.5905981|Freehold| 7500000|       false|\n",
      "|         For Sale|        null|              1|    Baht|        Condo|    9827710|Khlong Toei|         32|Bangkok|      2012|  13.720854|      0|             2|              #NAME?|    CORPORATE| 100.578565|Freehold| 8780000|       false|\n",
      "|         For Sale|        null|              1|    Baht|        Condo|    9601907|Khlong Toei|         32|Bangkok|      2012|  13.720854|      0|             2|              #NAME?|    CORPORATE| 100.578565|Freehold| 9990000|       false|\n",
      "|         For Sale|        null|              1|    Baht|        Condo|    9827564|Khlong Toei|         36|Bangkok|      2012|  13.723893|      0|             2|              #NAME?|    CORPORATE| 100.566539|Freehold|10500000|       false|\n",
      "|         For Sale|        null|              1|    Baht|        Condo|    9601038|Khlong Toei|         32|Bangkok|      2012|  13.720854|      0|             2|              #NAME?|    CORPORATE| 100.578565|Freehold| 9790000|       false|\n",
      "|         For Sale|        null|              1|    Baht|        Condo|    9601136|Khlong Toei|         33|Bangkok|      2013|13.72429464|      0|             2|772/662 Sukhumvit...|    CORPORATE|100.5772023|Freehold| 9600000|       false|\n",
      "|         For Sale|        null|              1|    Baht|        Condo|    7581901|Khlong Toei|         27|Bangkok|      2012|  13.712022|      0|             2|- Rama 4 Road, Ph...|    CORPORATE| 100.584435|Freehold| 4400000|       false|\n",
      "|         For Sale|        null|              1|    Baht|        Condo|    9864544|Khlong Toei|         31|Bangkok|      2012|  13.712022|      0|             2|- Rama 4 Road, Ph...|    CORPORATE| 100.584435|Freehold| 4300000|       false|\n",
      "|         For Sale|        null|              1|    Baht|        Condo|    8798713|Khlong Toei|          4|Bangkok|      1998|  13.708414|      0|             2|- Soi Phoomchitr ...|    CORPORATE| 100.592703|Freehold| 3650000|       false|\n",
      "+-----------------+------------+---------------+--------+-------------+-----------+-----------+-----------+-------+----------+-----------+-------+--------------+--------------------+-------------+-----------+--------+--------+------------+\n",
      "\n"
     ]
    }
   ],
   "source": [
    "df_pyspark.filter(col(\"living_space\").isNull()).show(50)"
   ]
  },
  {
   "cell_type": "code",
   "execution_count": 34,
   "metadata": {
    "scrolled": true
   },
   "outputs": [
    {
     "name": "stdout",
     "output_type": "stream",
     "text": [
      "+-----------------+------------+---------------+--------+--------------+-----------+---------+-----------+-------+----------+-----------+-------+--------------+--------------------+-------------+-----------+--------+--------+------------+\n",
      "|sub_property_type|living_space|bathroom_number|currency| property_type|property_id|     city|floor_level|  state|built_year|   latitude|premium|bedroom_number|             address|listing_label|  longitude|  tenure|   price|priceoutlier|\n",
      "+-----------------+------------+---------------+--------+--------------+-----------+---------+-----------+-------+----------+-----------+-------+--------------+--------------------+-------------+-----------+--------+--------+------------+\n",
      "|         For Sale|       76.86|              2|    Baht|         Condo|    9942777|    Dusit|          6|Bangkok|      2010|13.79101869|      0|             2|Samsen Road, Dusi...|       NORMAL|100.5162452|Freehold| 5500000|       false|\n",
      "|         For Sale|        42.0|              1|    Baht|         Condo|    9807686|    Dusit|          4|Bangkok|      2010|13.79101869|      0|             1|Samsen Road, Dusi...|       NORMAL|100.5162452|Freehold| 4100000|       false|\n",
      "|         For Sale|       123.0|              2|    Baht|Detached House|    8934387|Nong Chok|          2|Bangkok|      2012|13.85948084|      0|             3|Mit Maitri Road, ...|    CORPORATE|100.8482369|Freehold| 1650000|       false|\n",
      "|         For Sale|       180.0|              2|    Baht|Detached House|    9836450|Nong Chok|          2|Bangkok|      2011|  13.859683|      0|             4|Soi Mitmaitri 2, ...|       NORMAL| 100.857774|Freehold| 3650000|       false|\n",
      "|         For Sale|       35.35|              1|    Baht|         Condo|    9407447| Bang Rak|         56|Bangkok|      2018|13.73158352|      0|             1|- Rama 4 Road, Si...|    CORPORATE|100.5311729|Freehold| 7850000|       false|\n",
      "|         For Sale|        70.0|              2|    Baht|         Condo|    9753414| Bang Rak|          3|Bangkok|      2013|13.72303261|      0|             2|98 Sathorn Nua Ro...|       NORMAL|100.5255951|Freehold|11500000|       false|\n",
      "|         For Sale|       78.26|              2|    Baht|         Condo|    6111715| Bang Rak|         25|Bangkok|      2016|13.72245682|      0|             2|78 Pan Road, Silo...|       NORMAL|100.5235408|Freehold|14700000|       false|\n",
      "|         For Sale|        40.0|              1|    Baht|         Condo|    8289876| Bang Rak|         15|Bangkok|      2016|  13.719843|      1|             1|158 Sathorn Nua R...|    CORPORATE| 100.522067|Freehold| 8400000|       false|\n",
      "|         For Sale|        37.0|              1|    Baht|         Condo|    9823002| Bang Rak|         10|Bangkok|      2010|13.72264955|      1|             1|48 Soi Sathorn 10...|    CORPORATE|100.5272987|Freehold| 4590000|       false|\n",
      "|         For Sale|       37.47|              1|    Baht|         Condo|   10051786| Bang Rak|          8|Bangkok|      2013|  13.725086|      1|             1|- Soi Pipat 2 Sil...|       NORMAL|  100.53313|Freehold| 5300000|       false|\n",
      "|         For Sale|        55.0|              1|    Baht|         Condo|   10038818| Bang Rak|         26|Bangkok|      2018|13.73158352|      1|             2|- Rama 4 Road, Si...|    CORPORATE|100.5311729|Freehold|14700000|       false|\n",
      "|         For Sale|       118.0|              2|    Baht|         Condo|    8994828| Bang Rak|          2|Bangkok|      2020|  13.723172|      1|             2|Pramuan Road, Sil...|       NORMAL| 100.522001|Freehold|30000000|       false|\n",
      "|         For Sale|      111.37|              2|    Baht|         Condo|    9200498| Bang Rak|         50|Bangkok|      2001|13.72223437|      0|             2|              #NAME?|    CORPORATE| 100.517004|Freehold| 9190000|       false|\n",
      "|         For Sale|      111.37|              2|    Baht|         Condo|    9200506| Bang Rak|         50|Bangkok|      2001|13.72223437|      0|             2|              #NAME?|    CORPORATE| 100.517004|Freehold| 9190000|       false|\n",
      "|         For Sale|        69.5|              2|    Baht|         Condo|    8758603| Bang Rak|         12|Bangkok|      2016|  13.719843|      0|             2|158 Sathorn Nua R...|    CORPORATE| 100.522067|Freehold|12500000|       false|\n",
      "|         For Sale|        52.7|              1|    Baht|         Condo|    9291328| Bang Rak|         25|Bangkok|      2014|  13.720017|      0|             2|Sathorn, Silom, B...|    CORPORATE| 100.521281|Freehold| 5500000|       false|\n",
      "|         For Sale|        66.0|              2|    Baht|         Condo|    8507060| Bang Rak|         12|Bangkok|      2013|  13.719531|      0|             2|88 Soi Surasak Su...|    CORPORATE| 100.519467|Freehold| 9370000|       false|\n",
      "|         For Sale|        34.0|              1|    Baht|         Condo|    8507098| Bang Rak|         21|Bangkok|      2013|  13.719531|      0|             1|88 Soi Surasak Su...|    CORPORATE| 100.519467|Freehold| 5100000|       false|\n",
      "|         For Sale|        34.5|              1|    Baht|         Condo|    9482676| Bang Rak|         25|Bangkok|      2016|  13.726304|      0|             1|166 Silom Road, B...|    CORPORATE| 100.526875|Freehold| 7990000|       false|\n",
      "|         For Sale|        34.5|              1|    Baht|         Condo|    9561268| Bang Rak|         25|Bangkok|      2018|13.73158352|      0|             1|- Rama 4 Road, Si...|    CORPORATE|100.5311729|Freehold| 7990000|       false|\n",
      "+-----------------+------------+---------------+--------+--------------+-----------+---------+-----------+-------+----------+-----------+-------+--------------+--------------------+-------------+-----------+--------+--------+------------+\n",
      "only showing top 20 rows\n",
      "\n"
     ]
    }
   ],
   "source": [
    "from pyspark.sql.functions import col, avg, lit\n",
    "# Impute missing values with the average living space of the city \"Khlong Toei\"\n",
    "city = \"Khlong Toei\"\n",
    "\n",
    "# Calculate the average living space for Khlong Toei\n",
    "average_living_space = df_pyspark.filter(col(\"city\") == city).agg(avg(\"living_space\").alias(\"avg_living_space\")).collect()[0][\"avg_living_space\"]\n",
    "\n",
    "# Impute missing values\n",
    "df_pyspark = df_pyspark.withColumn(\"living_space\", F.when(col(\"city\") == city, F.coalesce(col(\"living_space\"), lit(average_living_space))).otherwise(col(\"living_space\")))\n",
    "\n",
    "# Show the DataFrame after imputation\n",
    "df_pyspark.show()\n"
   ]
  },
  {
   "cell_type": "markdown",
   "metadata": {},
   "source": [
    "### Dropping Unnecessary Columns"
   ]
  },
  {
   "cell_type": "code",
   "execution_count": 35,
   "metadata": {},
   "outputs": [],
   "source": [
    "\n",
    "\n",
    "columns_to_drop = ['property_id','currency']\n",
    "# Drop the specified columns\n",
    "df_pyspark = df_pyspark.drop(*columns_to_drop)\n"
   ]
  },
  {
   "cell_type": "markdown",
   "metadata": {},
   "source": [
    "### Exploratory Data Analysis and Data Cleansing : Report"
   ]
  },
  {
   "cell_type": "markdown",
   "metadata": {},
   "source": [
    "The dataset underwent a comprehensive examination. This involved checking for null values, exploring data types, and visualising the target variable (price) through descriptive statistics and plots. Numerical data was scrutinised for skewness, kurtosis, and outliers, while relationships with the target variable were assessed visually. Categorical data was explored, and average prices were visualised by category. Grouping and filtering operations were performed to identify potential errors and trends within the dataset. Missing values were treated, with imputation strategies applied where necessary. Finally, unnecessary columns were dropped to streamline the dataset for subsequent machine learning modelling, ensuring it is well-prepared and cleansed for predictive analytics.\n"
   ]
  },
  {
   "cell_type": "markdown",
   "metadata": {},
   "source": [
    "There are 50 rows with missing living space in the dataset. Upon closer inspection, I noticed that all the missing rows are from the same city 'Khlong Toei.' Hence, I have chosen to impute the missing living space with the median living space of that city, ensuring a more accurate representation of the property characteristics in 'Khlong Toei' and maintaining the integrity of the dataset"
   ]
  },
  {
   "cell_type": "markdown",
   "metadata": {},
   "source": [
    "To prepare for the next step, several noteworthy trends, abnormalities, and potential errors have been identified. The 'Living space' distribution exhibits an extreme right skewness with a value of 116, indicating a significant departure from a symmetric distribution. Additionally, there are 8 listings with prices exceeding 100 times the Interquartile Range (IQR), marking them as extreme outliers that warrant special attention. Furthermore, 23 rows have a 'Price' value of 0, a situation that requires careful handling as it is unrealistic for a property listing to be offered for free. Finally, outliers have been detected in both the 'Bedroom number' and 'Bathroom number' columns, suggesting potential data anomalies in these features. Addressing these observations will be crucial for ensuring the reliability and accuracy of the subsequent analysis and predictive modelling."
   ]
  },
  {
   "cell_type": "markdown",
   "metadata": {},
   "source": [
    "## Data Wrangling and Transformation"
   ]
  },
  {
   "cell_type": "markdown",
   "metadata": {},
   "source": [
    "### Creating New Features"
   ]
  },
  {
   "cell_type": "code",
   "execution_count": 36,
   "metadata": {},
   "outputs": [],
   "source": [
    "from pyspark.sql.functions import year,current_date\n",
    "\n",
    "df_pyspark = df_pyspark.withColumn('age_of_property',year(current_date())- col('built_year'))"
   ]
  },
  {
   "cell_type": "code",
   "execution_count": 37,
   "metadata": {},
   "outputs": [
    {
     "name": "stdout",
     "output_type": "stream",
     "text": [
      "+-----------+-----------------+\n",
      "|floor_level|high_level_binary|\n",
      "+-----------+-----------------+\n",
      "|          6|                0|\n",
      "|          4|                0|\n",
      "|          2|                0|\n",
      "|          2|                0|\n",
      "|         56|                1|\n",
      "|          3|                0|\n",
      "|         25|                0|\n",
      "|         15|                0|\n",
      "|         10|                0|\n",
      "|          8|                0|\n",
      "+-----------+-----------------+\n",
      "only showing top 10 rows\n",
      "\n"
     ]
    }
   ],
   "source": [
    "# Define the threshold for considering a floor as \"high level\"\n",
    "from pyspark.sql.functions import when, col\n",
    "high_level_threshold = 50\n",
    "\n",
    "# Create a new column 'high_level_binary' based on the 'floor_level'\n",
    "df_pyspark = df_pyspark.withColumn(\n",
    "    'high_level_binary',\n",
    "    when(col('floor_level') >= high_level_threshold, 1).otherwise(0)\n",
    ")\n",
    "\n",
    "# Show a few rows of the DataFrame with the new column\n",
    "df_pyspark.select('floor_level', 'high_level_binary').show(10)"
   ]
  },
  {
   "cell_type": "markdown",
   "metadata": {},
   "source": [
    "### Outlier Handling"
   ]
  },
  {
   "cell_type": "code",
   "execution_count": 38,
   "metadata": {
    "scrolled": true
   },
   "outputs": [],
   "source": [
    "cap_value = 70 \n",
    "\n",
    "# Identify and handle outliers for floor level\n",
    "df_pyspark = df_pyspark.withColumn(\n",
    "    \"floor_level\",\n",
    "    expr(\"CASE WHEN floor_level < 0 THEN 0 \" \n",
    "         \"WHEN floor_level > {} THEN {} ELSE floor_level END\"\n",
    "         .format(cap_value, cap_value))\n",
    ")\n",
    "\n"
   ]
  },
  {
   "cell_type": "code",
   "execution_count": 39,
   "metadata": {},
   "outputs": [],
   "source": [
    "from pyspark.sql.functions import col\n",
    "\n",
    "\n",
    "capped_price_df = df_pyspark.withColumn(\"price\", when(col(\"price\") > upper_q + threshold * iqr, upper_q + threshold * iqr).otherwise(col(\"price\")))\n",
    "df_pyspark = capped_price_df\n",
    "\n"
   ]
  },
  {
   "cell_type": "code",
   "execution_count": 40,
   "metadata": {
    "scrolled": true
   },
   "outputs": [
    {
     "name": "stdout",
     "output_type": "stream",
     "text": [
      "+-----------------+------------+---------------+--------------+---------+-----------+-------+----------+-----------+-------+--------------+--------------------+-------------+-----------+--------+---------+------------+---------------+-----------------+\n",
      "|sub_property_type|living_space|bathroom_number| property_type|     city|floor_level|  state|built_year|   latitude|premium|bedroom_number|             address|listing_label|  longitude|  tenure|    price|priceoutlier|age_of_property|high_level_binary|\n",
      "+-----------------+------------+---------------+--------------+---------+-----------+-------+----------+-----------+-------+--------------+--------------------+-------------+-----------+--------+---------+------------+---------------+-----------------+\n",
      "|         For Sale|       76.86|              2|         Condo|    Dusit|          6|Bangkok|      2010|13.79101869|      0|             2|Samsen Road, Dusi...|       NORMAL|100.5162452|Freehold|5500000.0|       false|             13|                0|\n",
      "|         For Sale|        42.0|              1|         Condo|    Dusit|          4|Bangkok|      2010|13.79101869|      0|             1|Samsen Road, Dusi...|       NORMAL|100.5162452|Freehold|4100000.0|       false|             13|                0|\n",
      "|         For Sale|       123.0|              2|Detached House|Nong Chok|          2|Bangkok|      2012|13.85948084|      0|             3|Mit Maitri Road, ...|    CORPORATE|100.8482369|Freehold|1650000.0|       false|             11|                0|\n",
      "|         For Sale|       180.0|              2|Detached House|Nong Chok|          2|Bangkok|      2011|  13.859683|      0|             4|Soi Mitmaitri 2, ...|       NORMAL| 100.857774|Freehold|3650000.0|       false|             12|                0|\n",
      "|         For Sale|       35.35|              1|         Condo| Bang Rak|         56|Bangkok|      2018|13.73158352|      0|             1|- Rama 4 Road, Si...|    CORPORATE|100.5311729|Freehold|7850000.0|       false|              5|                1|\n",
      "|         For Sale|        70.0|              2|         Condo| Bang Rak|          3|Bangkok|      2013|13.72303261|      0|             2|98 Sathorn Nua Ro...|       NORMAL|100.5255951|Freehold|   1.15E7|       false|             10|                0|\n",
      "|         For Sale|       78.26|              2|         Condo| Bang Rak|         25|Bangkok|      2016|13.72245682|      0|             2|78 Pan Road, Silo...|       NORMAL|100.5235408|Freehold|   1.47E7|       false|              7|                0|\n",
      "|         For Sale|        40.0|              1|         Condo| Bang Rak|         15|Bangkok|      2016|  13.719843|      1|             1|158 Sathorn Nua R...|    CORPORATE| 100.522067|Freehold|8400000.0|       false|              7|                0|\n",
      "|         For Sale|        37.0|              1|         Condo| Bang Rak|         10|Bangkok|      2010|13.72264955|      1|             1|48 Soi Sathorn 10...|    CORPORATE|100.5272987|Freehold|4590000.0|       false|             13|                0|\n",
      "|         For Sale|       37.47|              1|         Condo| Bang Rak|          8|Bangkok|      2013|  13.725086|      1|             1|- Soi Pipat 2 Sil...|       NORMAL|  100.53313|Freehold|5300000.0|       false|             10|                0|\n",
      "|         For Sale|        55.0|              1|         Condo| Bang Rak|         26|Bangkok|      2018|13.73158352|      1|             2|- Rama 4 Road, Si...|    CORPORATE|100.5311729|Freehold|   1.47E7|       false|              5|                0|\n",
      "|         For Sale|       118.0|              2|         Condo| Bang Rak|          2|Bangkok|      2020|  13.723172|      1|             2|Pramuan Road, Sil...|       NORMAL| 100.522001|Freehold|    3.0E7|       false|              3|                0|\n",
      "|         For Sale|      111.37|              2|         Condo| Bang Rak|         50|Bangkok|      2001|13.72223437|      0|             2|              #NAME?|    CORPORATE| 100.517004|Freehold|9190000.0|       false|             22|                1|\n",
      "|         For Sale|      111.37|              2|         Condo| Bang Rak|         50|Bangkok|      2001|13.72223437|      0|             2|              #NAME?|    CORPORATE| 100.517004|Freehold|9190000.0|       false|             22|                1|\n",
      "|         For Sale|        69.5|              2|         Condo| Bang Rak|         12|Bangkok|      2016|  13.719843|      0|             2|158 Sathorn Nua R...|    CORPORATE| 100.522067|Freehold|   1.25E7|       false|              7|                0|\n",
      "|         For Sale|        52.7|              1|         Condo| Bang Rak|         25|Bangkok|      2014|  13.720017|      0|             2|Sathorn, Silom, B...|    CORPORATE| 100.521281|Freehold|5500000.0|       false|              9|                0|\n",
      "|         For Sale|        66.0|              2|         Condo| Bang Rak|         12|Bangkok|      2013|  13.719531|      0|             2|88 Soi Surasak Su...|    CORPORATE| 100.519467|Freehold|9370000.0|       false|             10|                0|\n",
      "|         For Sale|        34.0|              1|         Condo| Bang Rak|         21|Bangkok|      2013|  13.719531|      0|             1|88 Soi Surasak Su...|    CORPORATE| 100.519467|Freehold|5100000.0|       false|             10|                0|\n",
      "|         For Sale|        34.5|              1|         Condo| Bang Rak|         25|Bangkok|      2016|  13.726304|      0|             1|166 Silom Road, B...|    CORPORATE| 100.526875|Freehold|7990000.0|       false|              7|                0|\n",
      "|         For Sale|        34.5|              1|         Condo| Bang Rak|         25|Bangkok|      2018|13.73158352|      0|             1|- Rama 4 Road, Si...|    CORPORATE|100.5311729|Freehold|7990000.0|       false|              5|                0|\n",
      "+-----------------+------------+---------------+--------------+---------+-----------+-------+----------+-----------+-------+--------------+--------------------+-------------+-----------+--------+---------+------------+---------------+-----------------+\n",
      "only showing top 20 rows\n",
      "\n"
     ]
    }
   ],
   "source": [
    "from pyspark.ml.stat import Summarizer\n",
    "from pyspark.sql.functions import col, when, lit\n",
    "from pyspark.sql import SparkSession\n",
    "from pyspark.ml.feature import Bucketizer\n",
    "\n",
    "# Define bin edges\n",
    "bin_edges = [float('-inf'), 50, 100, 500, 1000, float('inf')]\n",
    "\n",
    "# Create a Bucketizer to bin 'living_space'\n",
    "bucketizer = Bucketizer(splits=bin_edges, inputCol=\"living_space\", outputCol=\"living_space_bin\")\n",
    "\n",
    "# Apply the bucketizer to the DataFrame\n",
    "df_pyspark = bucketizer.transform(df_pyspark)\n",
    "\n",
    "# Loop through each bin value\n",
    "for bin_value in range(len(bin_edges) - 1):\n",
    "    # Filter DataFrame for rows with living_space_bin equal to bin_value\n",
    "    bin_condition = (col(\"living_space_bin\") == bin_value)\n",
    "    bin_df = df_pyspark.filter(bin_condition)\n",
    "    \n",
    "    # Calculate the median price for the current bin\n",
    "    median_price = (\n",
    "        bin_df\n",
    "        .selectExpr(\"percentile_approx(price, 0.5) as median_price\")\n",
    "        .collect()[0][\"median_price\"]\n",
    "    )\n",
    "    \n",
    "    # Impute 0 values in 'price' with the median price of the current bin\n",
    "    df_pyspark = df_pyspark.withColumn(\"price\", when((col(\"price\") == 0) & bin_condition, lit(median_price)).otherwise(col(\"price\")))\n",
    "df_pyspark = df_pyspark.drop(\"avg_price\",\"living_space_bin\")\n",
    "# Show the updated DataFrame\n",
    "df_pyspark.show()"
   ]
  },
  {
   "cell_type": "code",
   "execution_count": 41,
   "metadata": {},
   "outputs": [],
   "source": [
    "## Trial Code for Winsorization\n",
    "\n",
    "# from pyspark.sql.functions import col, expr, lit, when\n",
    "\n",
    "# columns_to_winsorize = ['bedroom_number','bathroom_number']\n",
    "\n",
    "# # Define winsorization limits (e.g., 5th and 95th percentiles)\n",
    "# lower_limit = 0.05\n",
    "# upper_limit = 0.95\n",
    "\n",
    "# # Apply winsorization to specified columns\n",
    "# for column in columns_to_winsorize:\n",
    "#     # Calculate quantiles for winsorization\n",
    "#     quantiles = df_pyspark.approxQuantile(column, [lower_limit, upper_limit], 0.01)\n",
    "\n",
    "#     # Extract lower and upper bounds\n",
    "#     lower_bound, upper_bound = quantiles\n",
    "\n",
    "#     # Apply winsorization to the specified column\n",
    "#     df_pyspark = df_pyspark.withColumn(\n",
    "#         f\"winsorized_{column}\",\n",
    "#         when(col(column) < lower_bound, lower_bound)\n",
    "#         .when(col(column) > upper_bound, upper_bound)\n",
    "#         .otherwise(col(column))\n",
    "#     )\n",
    "# df_pyspark = df_pyspark.drop(*columns_to_winsorize)"
   ]
  },
  {
   "cell_type": "code",
   "execution_count": 42,
   "metadata": {},
   "outputs": [],
   "source": [
    "## Trial Code to Impute 0 by Median of Each City\n",
    "\n",
    "# # Calculate the average price for each city\n",
    "# window_spec = Window.partitionBy(\"city\")\n",
    "# df_pyspark = df_pyspark.withColumn(\"avg_price\", avg(\"price\").over(window_spec))\n",
    "\n",
    "# # Replace 0 values in 'price' with the average price of the city\n",
    "# df_pyspark = df_pyspark.withColumn(\"price\", when(col(\"price\") == 0, col(\"avg_price\")).otherwise(col(\"price\")))\n",
    "\n",
    "# # Drop the temporary 'avg_price' column\n",
    "# df_pyspark = df_pyspark.drop(\"avg_price\")\n",
    "\n",
    "# # Show the updated DataFrame\n",
    "# df_pyspark.show()"
   ]
  },
  {
   "cell_type": "code",
   "execution_count": 43,
   "metadata": {},
   "outputs": [],
   "source": [
    "##Trial Code to Drop all 0 Prices\n",
    "# df_pyspark = df_pyspark.filter(col(\"price\") != 0)"
   ]
  },
  {
   "cell_type": "markdown",
   "metadata": {},
   "source": [
    "### Categorical Data Encoding"
   ]
  },
  {
   "cell_type": "code",
   "execution_count": 44,
   "metadata": {},
   "outputs": [],
   "source": [
    "from functools import reduce\n",
    "from pyspark.ml import Pipeline\n",
    "from pyspark.ml.feature import OneHotEncoder, StringIndexer\n",
    "from pyspark.sql.functions import col\n",
    "                    \n",
    "# # Specify the categorical columns\n",
    "categorical_vars = ['sub_property_type', 'property_type', 'city', 'state', 'tenure','listing_label','address']\n",
    "# Create stages for StringIndexer and OneHotEncoder\n",
    "                    \n",
    "stage_string = [StringIndexer(inputCol=c, outputCol=c+\"_string_encoded\") for c in categorical_vars]\n",
    "stage_one_hot = [OneHotEncoder(inputCol=c+\"_string_encoded\", outputCol=c+\"_one_hot\") for c in categorical_vars]\n",
    "\n",
    "# Create Pipeline\n",
    "pipeline = Pipeline(stages=stage_string + stage_one_hot)\n",
    "pyspark_index_ohe = pipeline.fit(df_pyspark).transform(df_pyspark)\n",
    "\n",
    "# Create the new DataFrame with both sets of columns\n",
    "df_pyspark = pyspark_index_ohe"
   ]
  },
  {
   "cell_type": "code",
   "execution_count": 45,
   "metadata": {},
   "outputs": [],
   "source": [
    "df_pyspark = df_pyspark.drop(*categorical_vars)"
   ]
  },
  {
   "cell_type": "code",
   "execution_count": 46,
   "metadata": {
    "scrolled": true
   },
   "outputs": [
    {
     "name": "stdout",
     "output_type": "stream",
     "text": [
      "+------------+---------------+-----------+----------+-----------+-------+--------------+-----------+---------+------------+---------------+-----------------+--------------------------------+----------------------------+-------------------+--------------------+---------------------+----------------------------+----------------------+-------------------------+---------------------+---------------+--------------+--------------+---------------------+-------------------+\n",
      "|living_space|bathroom_number|floor_level|built_year|   latitude|premium|bedroom_number|  longitude|    price|priceoutlier|age_of_property|high_level_binary|sub_property_type_string_encoded|property_type_string_encoded|city_string_encoded|state_string_encoded|tenure_string_encoded|listing_label_string_encoded|address_string_encoded|sub_property_type_one_hot|property_type_one_hot|   city_one_hot| state_one_hot|tenure_one_hot|listing_label_one_hot|    address_one_hot|\n",
      "+------------+---------------+-----------+----------+-----------+-------+--------------+-----------+---------+------------+---------------+-----------------+--------------------------------+----------------------------+-------------------+--------------------+---------------------+----------------------------+----------------------+-------------------------+---------------------+---------------+--------------+--------------+---------------------+-------------------+\n",
      "|       76.86|              2|          6|      2010|13.79101869|      0|             2|100.5162452|5500000.0|       false|             13|                0|                             0.0|                         0.0|               80.0|                 0.0|                  0.0|                         1.0|                1344.0|            (1,[0],[1.0])|        (3,[0],[1.0])|(88,[80],[1.0])|(16,[0],[1.0])| (2,[0],[1.0])|        (2,[1],[1.0])|(1685,[1344],[1.0])|\n",
      "|        42.0|              1|          4|      2010|13.79101869|      0|             1|100.5162452|4100000.0|       false|             13|                0|                             0.0|                         0.0|               80.0|                 0.0|                  0.0|                         1.0|                1344.0|            (1,[0],[1.0])|        (3,[0],[1.0])|(88,[80],[1.0])|(16,[0],[1.0])| (2,[0],[1.0])|        (2,[1],[1.0])|(1685,[1344],[1.0])|\n",
      "|       123.0|              2|          2|      2012|13.85948084|      0|             3|100.8482369|1650000.0|       false|             11|                0|                             0.0|                         1.0|               82.0|                 0.0|                  0.0|                         0.0|                1531.0|            (1,[0],[1.0])|        (3,[1],[1.0])|(88,[82],[1.0])|(16,[0],[1.0])| (2,[0],[1.0])|        (2,[0],[1.0])|(1685,[1531],[1.0])|\n",
      "|       180.0|              2|          2|      2011|  13.859683|      0|             4| 100.857774|3650000.0|       false|             12|                0|                             0.0|                         1.0|               82.0|                 0.0|                  0.0|                         1.0|                1590.0|            (1,[0],[1.0])|        (3,[1],[1.0])|(88,[82],[1.0])|(16,[0],[1.0])| (2,[0],[1.0])|        (2,[1],[1.0])|(1685,[1590],[1.0])|\n",
      "|       35.35|              1|         56|      2018|13.73158352|      0|             1|100.5311729|7850000.0|       false|              5|                1|                             0.0|                         0.0|               17.0|                 0.0|                  0.0|                         0.0|                  28.0|            (1,[0],[1.0])|        (3,[0],[1.0])|(88,[17],[1.0])|(16,[0],[1.0])| (2,[0],[1.0])|        (2,[0],[1.0])|  (1685,[28],[1.0])|\n",
      "|        70.0|              2|          3|      2013|13.72303261|      0|             2|100.5255951|   1.15E7|       false|             10|                0|                             0.0|                         0.0|               17.0|                 0.0|                  0.0|                         1.0|                 196.0|            (1,[0],[1.0])|        (3,[0],[1.0])|(88,[17],[1.0])|(16,[0],[1.0])| (2,[0],[1.0])|        (2,[1],[1.0])| (1685,[196],[1.0])|\n",
      "|       78.26|              2|         25|      2016|13.72245682|      0|             2|100.5235408|   1.47E7|       false|              7|                0|                             0.0|                         0.0|               17.0|                 0.0|                  0.0|                         1.0|                 569.0|            (1,[0],[1.0])|        (3,[0],[1.0])|(88,[17],[1.0])|(16,[0],[1.0])| (2,[0],[1.0])|        (2,[1],[1.0])| (1685,[569],[1.0])|\n",
      "|        40.0|              1|         15|      2016|  13.719843|      1|             1| 100.522067|8400000.0|       false|              7|                0|                             0.0|                         0.0|               17.0|                 0.0|                  0.0|                         0.0|                 241.0|            (1,[0],[1.0])|        (3,[0],[1.0])|(88,[17],[1.0])|(16,[0],[1.0])| (2,[0],[1.0])|        (2,[0],[1.0])| (1685,[241],[1.0])|\n",
      "|        37.0|              1|         10|      2010|13.72264955|      1|             1|100.5272987|4590000.0|       false|             13|                0|                             0.0|                         0.0|               17.0|                 0.0|                  0.0|                         0.0|                 588.0|            (1,[0],[1.0])|        (3,[0],[1.0])|(88,[17],[1.0])|(16,[0],[1.0])| (2,[0],[1.0])|        (2,[0],[1.0])| (1685,[588],[1.0])|\n",
      "|       37.47|              1|          8|      2013|  13.725086|      1|             1|  100.53313|5300000.0|       false|             10|                0|                             0.0|                         0.0|               17.0|                 0.0|                  0.0|                         1.0|                 961.0|            (1,[0],[1.0])|        (3,[0],[1.0])|(88,[17],[1.0])|(16,[0],[1.0])| (2,[0],[1.0])|        (2,[1],[1.0])| (1685,[961],[1.0])|\n",
      "|        55.0|              1|         26|      2018|13.73158352|      1|             2|100.5311729|   1.47E7|       false|              5|                0|                             0.0|                         0.0|               17.0|                 0.0|                  0.0|                         0.0|                  28.0|            (1,[0],[1.0])|        (3,[0],[1.0])|(88,[17],[1.0])|(16,[0],[1.0])| (2,[0],[1.0])|        (2,[0],[1.0])|  (1685,[28],[1.0])|\n",
      "|       118.0|              2|          2|      2020|  13.723172|      1|             2| 100.522001|    3.0E7|       false|              3|                0|                             0.0|                         0.0|               17.0|                 0.0|                  0.0|                         1.0|                 197.0|            (1,[0],[1.0])|        (3,[0],[1.0])|(88,[17],[1.0])|(16,[0],[1.0])| (2,[0],[1.0])|        (2,[1],[1.0])| (1685,[197],[1.0])|\n",
      "|      111.37|              2|         50|      2001|13.72223437|      0|             2| 100.517004|9190000.0|       false|             22|                1|                             0.0|                         0.0|               17.0|                 0.0|                  0.0|                         0.0|                   0.0|            (1,[0],[1.0])|        (3,[0],[1.0])|(88,[17],[1.0])|(16,[0],[1.0])| (2,[0],[1.0])|        (2,[0],[1.0])|   (1685,[0],[1.0])|\n",
      "|      111.37|              2|         50|      2001|13.72223437|      0|             2| 100.517004|9190000.0|       false|             22|                1|                             0.0|                         0.0|               17.0|                 0.0|                  0.0|                         0.0|                   0.0|            (1,[0],[1.0])|        (3,[0],[1.0])|(88,[17],[1.0])|(16,[0],[1.0])| (2,[0],[1.0])|        (2,[0],[1.0])|   (1685,[0],[1.0])|\n",
      "|        69.5|              2|         12|      2016|  13.719843|      0|             2| 100.522067|   1.25E7|       false|              7|                0|                             0.0|                         0.0|               17.0|                 0.0|                  0.0|                         0.0|                 241.0|            (1,[0],[1.0])|        (3,[0],[1.0])|(88,[17],[1.0])|(16,[0],[1.0])| (2,[0],[1.0])|        (2,[0],[1.0])| (1685,[241],[1.0])|\n",
      "|        52.7|              1|         25|      2014|  13.720017|      0|             2| 100.521281|5500000.0|       false|              9|                0|                             0.0|                         0.0|               17.0|                 0.0|                  0.0|                         0.0|                 413.0|            (1,[0],[1.0])|        (3,[0],[1.0])|(88,[17],[1.0])|(16,[0],[1.0])| (2,[0],[1.0])|        (2,[0],[1.0])| (1685,[413],[1.0])|\n",
      "|        66.0|              2|         12|      2013|  13.719531|      0|             2| 100.519467|9370000.0|       false|             10|                0|                             0.0|                         0.0|               17.0|                 0.0|                  0.0|                         0.0|                 249.0|            (1,[0],[1.0])|        (3,[0],[1.0])|(88,[17],[1.0])|(16,[0],[1.0])| (2,[0],[1.0])|        (2,[0],[1.0])| (1685,[249],[1.0])|\n",
      "|        34.0|              1|         21|      2013|  13.719531|      0|             1| 100.519467|5100000.0|       false|             10|                0|                             0.0|                         0.0|               17.0|                 0.0|                  0.0|                         0.0|                 249.0|            (1,[0],[1.0])|        (3,[0],[1.0])|(88,[17],[1.0])|(16,[0],[1.0])| (2,[0],[1.0])|        (2,[0],[1.0])| (1685,[249],[1.0])|\n",
      "|        34.5|              1|         25|      2016|  13.726304|      0|             1| 100.526875|7990000.0|       false|              7|                0|                             0.0|                         0.0|               17.0|                 0.0|                  0.0|                         0.0|                 137.0|            (1,[0],[1.0])|        (3,[0],[1.0])|(88,[17],[1.0])|(16,[0],[1.0])| (2,[0],[1.0])|        (2,[0],[1.0])| (1685,[137],[1.0])|\n",
      "|        34.5|              1|         25|      2018|13.73158352|      0|             1|100.5311729|7990000.0|       false|              5|                0|                             0.0|                         0.0|               17.0|                 0.0|                  0.0|                         0.0|                  28.0|            (1,[0],[1.0])|        (3,[0],[1.0])|(88,[17],[1.0])|(16,[0],[1.0])| (2,[0],[1.0])|        (2,[0],[1.0])|  (1685,[28],[1.0])|\n",
      "+------------+---------------+-----------+----------+-----------+-------+--------------+-----------+---------+------------+---------------+-----------------+--------------------------------+----------------------------+-------------------+--------------------+---------------------+----------------------------+----------------------+-------------------------+---------------------+---------------+--------------+--------------+---------------------+-------------------+\n",
      "only showing top 20 rows\n",
      "\n"
     ]
    }
   ],
   "source": [
    "df_pyspark.show()"
   ]
  },
  {
   "cell_type": "markdown",
   "metadata": {},
   "source": [
    "### Numerical Data Transformation"
   ]
  },
  {
   "cell_type": "code",
   "execution_count": 47,
   "metadata": {},
   "outputs": [
    {
     "name": "stdout",
     "output_type": "stream",
     "text": [
      "+------------+----------------+\n",
      "|living_space|living_space_bin|\n",
      "+------------+----------------+\n",
      "|       76.86|            16.0|\n",
      "|        42.0|            11.0|\n",
      "|       123.0|            17.0|\n",
      "|       180.0|            18.0|\n",
      "|       35.35|             9.0|\n",
      "|        70.0|            16.0|\n",
      "|       78.26|            16.0|\n",
      "|        40.0|            10.0|\n",
      "|        37.0|            10.0|\n",
      "|       37.47|            10.0|\n",
      "|        55.0|            14.0|\n",
      "|       118.0|            17.0|\n",
      "|      111.37|            17.0|\n",
      "|      111.37|            17.0|\n",
      "|        69.5|            16.0|\n",
      "|        52.7|            13.0|\n",
      "|        66.0|            15.0|\n",
      "|        34.0|             8.0|\n",
      "|        34.5|             8.0|\n",
      "|        34.5|             8.0|\n",
      "+------------+----------------+\n",
      "only showing top 20 rows\n",
      "\n"
     ]
    }
   ],
   "source": [
    "from pyspark.ml.feature import QuantileDiscretizer\n",
    "\n",
    "num_buckets = 20\n",
    "\n",
    "quantile_discretizer = QuantileDiscretizer(numBuckets=num_buckets, inputCol=\"living_space\", outputCol=\"living_space_bin\")\n",
    "\n",
    "df_pyspark = quantile_discretizer.fit(df_pyspark).transform(df_pyspark)\n",
    "\n",
    "df_pyspark.select(\"living_space\", \"living_space_bin\").show()\n",
    "\n",
    "bin_counts = df_pyspark.groupBy(\"living_space_bin\").count()"
   ]
  },
  {
   "cell_type": "code",
   "execution_count": 48,
   "metadata": {},
   "outputs": [],
   "source": [
    "## Trial Code for Log Transformation\n",
    "\n",
    "# from pyspark.sql.functions import col, expr\n",
    "# # Logarithmic transformation\n",
    "# df_pyspark = df_pyspark.withColumn(\"living_space_transformed\", F.log1p(col(\"living_space\")))\n",
    "\n",
    "# # Show the DataFrame after winsorization and transformation\n",
    "# df_pyspark.select(\"living_space\", \"living_space_transformed\").show()\n",
    "# df_pyspark = df_pyspark.drop(\"living_space\")"
   ]
  },
  {
   "cell_type": "code",
   "execution_count": 49,
   "metadata": {},
   "outputs": [],
   "source": [
    "# # Trial Code for Square Root Transformation\n",
    "# df_pyspark = df_pyspark.withColumn(\"living_space_sqrt\", F.sqrt(col(\"living_space\")))\n",
    "# df_pyspark = df_pyspark.drop(\"living_space\")"
   ]
  },
  {
   "cell_type": "markdown",
   "metadata": {},
   "source": [
    "### Train Test Split"
   ]
  },
  {
   "cell_type": "code",
   "execution_count": 50,
   "metadata": {},
   "outputs": [
    {
     "name": "stdout",
     "output_type": "stream",
     "text": [
      "Column 'living_space' has 0 null values.\n",
      "Column 'bathroom_number' has 0 null values.\n",
      "Column 'floor_level' has 0 null values.\n",
      "Column 'built_year' has 0 null values.\n",
      "Column 'latitude' has 0 null values.\n",
      "Column 'premium' has 0 null values.\n",
      "Column 'bedroom_number' has 0 null values.\n",
      "Column 'longitude' has 0 null values.\n",
      "Column 'price' has 0 null values.\n",
      "Column 'priceoutlier' has 0 null values.\n",
      "Column 'age_of_property' has 0 null values.\n",
      "Column 'high_level_binary' has 0 null values.\n",
      "Column 'sub_property_type_string_encoded' has 0 null values.\n",
      "Column 'property_type_string_encoded' has 0 null values.\n",
      "Column 'city_string_encoded' has 0 null values.\n",
      "Column 'state_string_encoded' has 0 null values.\n",
      "Column 'tenure_string_encoded' has 0 null values.\n",
      "Column 'listing_label_string_encoded' has 0 null values.\n",
      "Column 'address_string_encoded' has 0 null values.\n",
      "Column 'sub_property_type_one_hot' has 0 null values.\n",
      "Column 'property_type_one_hot' has 0 null values.\n",
      "Column 'city_one_hot' has 0 null values.\n",
      "Column 'state_one_hot' has 0 null values.\n",
      "Column 'tenure_one_hot' has 0 null values.\n",
      "Column 'listing_label_one_hot' has 0 null values.\n",
      "Column 'address_one_hot' has 0 null values.\n",
      "Column 'living_space_bin' has 0 null values.\n"
     ]
    }
   ],
   "source": [
    "# Check for null values in each column\n",
    "null_counts = df_pyspark.select([col(c).isNull().cast('int').alias(c) for c in df_pyspark.columns])\n",
    "\n",
    "# Display the count of null values in each column\n",
    "for column in df_pyspark.columns:\n",
    "    null_count = null_counts.agg({column: 'sum'}).collect()[0][0]\n",
    "    print(f\"Column '{column}' has {null_count} null values.\")"
   ]
  },
  {
   "cell_type": "code",
   "execution_count": 51,
   "metadata": {},
   "outputs": [],
   "source": [
    "(X_train, X_test) = df_pyspark.randomSplit([0.8, 0.2], seed=42)"
   ]
  },
  {
   "cell_type": "code",
   "execution_count": 52,
   "metadata": {},
   "outputs": [
    {
     "name": "stdout",
     "output_type": "stream",
     "text": [
      "(33191, 27)\n"
     ]
    }
   ],
   "source": [
    "print((X_train.count(), len(X_train.columns)))"
   ]
  },
  {
   "cell_type": "code",
   "execution_count": 53,
   "metadata": {},
   "outputs": [
    {
     "name": "stdout",
     "output_type": "stream",
     "text": [
      "(8169, 27)\n"
     ]
    }
   ],
   "source": [
    "print((X_test.count(), len(X_test.columns)))"
   ]
  },
  {
   "cell_type": "code",
   "execution_count": 54,
   "metadata": {},
   "outputs": [
    {
     "name": "stdout",
     "output_type": "stream",
     "text": [
      "+------------+---------------+-----------+----------+-----------+-------+--------------+-----------+---------+------------+---------------+-----------------+--------------------------------+----------------------------+-------------------+--------------------+---------------------+----------------------------+----------------------+-------------------------+---------------------+---------------+--------------+--------------+---------------------+-------------------+----------------+\n",
      "|living_space|bathroom_number|floor_level|built_year|   latitude|premium|bedroom_number|  longitude|    price|priceoutlier|age_of_property|high_level_binary|sub_property_type_string_encoded|property_type_string_encoded|city_string_encoded|state_string_encoded|tenure_string_encoded|listing_label_string_encoded|address_string_encoded|sub_property_type_one_hot|property_type_one_hot|   city_one_hot| state_one_hot|tenure_one_hot|listing_label_one_hot|    address_one_hot|living_space_bin|\n",
      "+------------+---------------+-----------+----------+-----------+-------+--------------+-----------+---------+------------+---------------+-----------------+--------------------------------+----------------------------+-------------------+--------------------+---------------------+----------------------------+----------------------+-------------------------+---------------------+---------------+--------------+--------------+---------------------+-------------------+----------------+\n",
      "|        20.0|              1|          7|      2021|13.80287539|      0|             1|100.5699943|2500000.0|       false|              2|                0|                             0.0|                         0.0|                2.0|                 0.0|                  0.0|                         0.0|                1588.0|            (1,[0],[1.0])|        (3,[0],[1.0])| (88,[2],[1.0])|(16,[0],[1.0])| (2,[0],[1.0])|        (2,[0],[1.0])|(1685,[1588],[1.0])|             0.0|\n",
      "|        20.0|              1|         20|      2016|13.71397143|      0|             1|100.4718368|2000000.0|       false|              7|                0|                             0.0|                         0.0|               13.0|                 0.0|                  0.0|                         0.0|                 442.0|            (1,[0],[1.0])|        (3,[0],[1.0])|(88,[13],[1.0])|(16,[0],[1.0])| (2,[0],[1.0])|        (2,[0],[1.0])| (1685,[442],[1.0])|             0.0|\n",
      "|        20.0|              1|         38|      2018|  13.698429|      0|             1| 100.604787|3900000.0|       false|              5|                0|                             0.0|                         0.0|                4.0|                 0.0|                  0.0|                         0.0|                  21.0|            (1,[0],[1.0])|        (3,[0],[1.0])| (88,[4],[1.0])|(16,[0],[1.0])| (2,[0],[1.0])|        (2,[0],[1.0])|  (1685,[21],[1.0])|             0.0|\n",
      "|        21.0|              1|          1|      2014|13.80616955|      0|             1|100.5289486|1990000.0|       false|              9|                0|                             0.0|                         0.0|                8.0|                 0.0|                  0.0|                         0.0|                 506.0|            (1,[0],[1.0])|        (3,[0],[1.0])| (88,[8],[1.0])|(16,[0],[1.0])| (2,[0],[1.0])|        (2,[0],[1.0])| (1685,[506],[1.0])|             0.0|\n",
      "|        21.0|              1|          1|      2015|  13.742949|      0|             0| 100.588961|3500000.0|       false|              8|                0|                             0.0|                         0.0|                0.0|                 0.0|                  0.0|                         0.0|                   0.0|            (1,[0],[1.0])|        (3,[0],[1.0])| (88,[0],[1.0])|(16,[0],[1.0])| (2,[0],[1.0])|        (2,[0],[1.0])|   (1685,[0],[1.0])|             0.0|\n",
      "|        21.0|              1|          1|      2016|  13.737126|      0|             1| 100.745827| 970000.0|       false|              7|                0|                             0.0|                         0.0|               29.0|                 0.0|                  0.0|                         0.0|                  95.0|            (1,[0],[1.0])|        (3,[0],[1.0])|(88,[29],[1.0])|(16,[0],[1.0])| (2,[0],[1.0])|        (2,[0],[1.0])|  (1685,[95],[1.0])|             0.0|\n",
      "|        21.0|              1|          2|      2011|  13.788892|      0|             1| 100.580659|1890000.0|       false|             12|                0|                             0.0|                         0.0|                0.0|                 0.0|                  0.0|                         0.0|                 546.0|            (1,[0],[1.0])|        (3,[0],[1.0])| (88,[0],[1.0])|(16,[0],[1.0])| (2,[0],[1.0])|        (2,[0],[1.0])| (1685,[546],[1.0])|             0.0|\n",
      "|        21.0|              1|          2|      2014|13.68428388|      0|             0|100.6040554|1490000.0|       false|              9|                0|                             0.0|                         0.0|                4.0|                 0.0|                  0.0|                         0.0|                  27.0|            (1,[0],[1.0])|        (3,[0],[1.0])| (88,[4],[1.0])|(16,[0],[1.0])| (2,[0],[1.0])|        (2,[0],[1.0])|  (1685,[27],[1.0])|             0.0|\n",
      "|        21.0|              1|          2|      2014|13.68524746|      0|             0|100.6042924|1610000.0|       false|              9|                0|                             0.0|                         0.0|                4.0|                 0.0|                  0.0|                         0.0|                  33.0|            (1,[0],[1.0])|        (3,[0],[1.0])| (88,[4],[1.0])|(16,[0],[1.0])| (2,[0],[1.0])|        (2,[0],[1.0])|  (1685,[33],[1.0])|             0.0|\n",
      "|        21.0|              1|          2|      2016|  13.737126|      0|             0| 100.745827|1200000.0|       false|              7|                0|                             0.0|                         0.0|               29.0|                 0.0|                  0.0|                         0.0|                  95.0|            (1,[0],[1.0])|        (3,[0],[1.0])|(88,[29],[1.0])|(16,[0],[1.0])| (2,[0],[1.0])|        (2,[0],[1.0])|  (1685,[95],[1.0])|             0.0|\n",
      "|        21.0|              1|          3|      2014|13.68524746|      0|             1|100.6042924|1600000.0|       false|              9|                0|                             0.0|                         0.0|                4.0|                 0.0|                  0.0|                         0.0|                  33.0|            (1,[0],[1.0])|        (3,[0],[1.0])| (88,[4],[1.0])|(16,[0],[1.0])| (2,[0],[1.0])|        (2,[0],[1.0])|  (1685,[33],[1.0])|             0.0|\n",
      "|        21.0|              1|          3|      2016|  13.737126|      0|             0| 100.745827| 925000.0|       false|              7|                0|                             0.0|                         0.0|               29.0|                 0.0|                  0.0|                         0.0|                  95.0|            (1,[0],[1.0])|        (3,[0],[1.0])|(88,[29],[1.0])|(16,[0],[1.0])| (2,[0],[1.0])|        (2,[0],[1.0])|  (1685,[95],[1.0])|             0.0|\n",
      "|        21.0|              1|          4|      2016|  13.733237|      0|             0| 100.526269|4840000.0|       false|              7|                0|                             0.0|                         0.0|               17.0|                 0.0|                  0.0|                         0.0|                  25.0|            (1,[0],[1.0])|        (3,[0],[1.0])|(88,[17],[1.0])|(16,[0],[1.0])| (2,[0],[1.0])|        (2,[0],[1.0])|  (1685,[25],[1.0])|             0.0|\n",
      "|        21.0|              1|          5|      2014|13.68524746|      0|             0|100.6042924|1390000.0|       false|              9|                0|                             0.0|                         0.0|                4.0|                 0.0|                  0.0|                         0.0|                  33.0|            (1,[0],[1.0])|        (3,[0],[1.0])| (88,[4],[1.0])|(16,[0],[1.0])| (2,[0],[1.0])|        (2,[0],[1.0])|  (1685,[33],[1.0])|             0.0|\n",
      "|        21.0|              1|          5|      2014|13.68524746|      0|             0|100.6042924|1600000.0|       false|              9|                0|                             0.0|                         0.0|                4.0|                 0.0|                  0.0|                         0.0|                  33.0|            (1,[0],[1.0])|        (3,[0],[1.0])| (88,[4],[1.0])|(16,[0],[1.0])| (2,[0],[1.0])|        (2,[0],[1.0])|  (1685,[33],[1.0])|             0.0|\n",
      "|        21.0|              1|          5|      2017|  13.679495|      0|             0|  100.62431|1400000.0|       false|              6|                0|                             0.0|                         0.0|                4.0|                 0.0|                  0.0|                         0.0|                 386.0|            (1,[0],[1.0])|        (3,[0],[1.0])| (88,[4],[1.0])|(16,[0],[1.0])| (2,[0],[1.0])|        (2,[0],[1.0])| (1685,[386],[1.0])|             0.0|\n",
      "|        21.0|              1|          5|      2017|  13.679495|      0|             0|  100.62431|1450000.0|       false|              6|                0|                             0.0|                         0.0|                4.0|                 0.0|                  0.0|                         0.0|                 386.0|            (1,[0],[1.0])|        (3,[0],[1.0])| (88,[4],[1.0])|(16,[0],[1.0])| (2,[0],[1.0])|        (2,[0],[1.0])| (1685,[386],[1.0])|             0.0|\n",
      "|        21.0|              1|          5|      2017|  13.679495|      0|             1|  100.62431|1537000.0|       false|              6|                0|                             0.0|                         0.0|                4.0|                 0.0|                  0.0|                         0.0|                 386.0|            (1,[0],[1.0])|        (3,[0],[1.0])| (88,[4],[1.0])|(16,[0],[1.0])| (2,[0],[1.0])|        (2,[0],[1.0])| (1685,[386],[1.0])|             0.0|\n",
      "|        21.0|              1|          7|      2014|13.68524746|      0|             0|100.6042924|1350000.0|       false|              9|                0|                             0.0|                         0.0|                4.0|                 0.0|                  0.0|                         0.0|                  33.0|            (1,[0],[1.0])|        (3,[0],[1.0])| (88,[4],[1.0])|(16,[0],[1.0])| (2,[0],[1.0])|        (2,[0],[1.0])|  (1685,[33],[1.0])|             0.0|\n",
      "|        21.0|              1|          7|      2014|13.68524746|      0|             0|100.6042924|1540000.0|       false|              9|                0|                             0.0|                         0.0|                4.0|                 0.0|                  0.0|                         0.0|                  33.0|            (1,[0],[1.0])|        (3,[0],[1.0])| (88,[4],[1.0])|(16,[0],[1.0])| (2,[0],[1.0])|        (2,[0],[1.0])|  (1685,[33],[1.0])|             0.0|\n",
      "+------------+---------------+-----------+----------+-----------+-------+--------------+-----------+---------+------------+---------------+-----------------+--------------------------------+----------------------------+-------------------+--------------------+---------------------+----------------------------+----------------------+-------------------------+---------------------+---------------+--------------+--------------+---------------------+-------------------+----------------+\n",
      "only showing top 20 rows\n",
      "\n"
     ]
    }
   ],
   "source": [
    "X_train.show()"
   ]
  },
  {
   "cell_type": "markdown",
   "metadata": {},
   "source": [
    "### Consolidating X columns"
   ]
  },
  {
   "cell_type": "code",
   "execution_count": 55,
   "metadata": {},
   "outputs": [],
   "source": [
    "from pyspark.ml.feature import VectorAssembler\n",
    "numerical_columns = [col for col in df_pyspark.columns if col != 'price']\n",
    "featureassembler=VectorAssembler(inputCols=numerical_columns,outputCol=\"Xcols\")"
   ]
  },
  {
   "cell_type": "code",
   "execution_count": 56,
   "metadata": {},
   "outputs": [],
   "source": [
    "X_train= featureassembler.transform(X_train)"
   ]
  },
  {
   "cell_type": "code",
   "execution_count": 57,
   "metadata": {},
   "outputs": [],
   "source": [
    "X_test= featureassembler.transform(X_test)"
   ]
  },
  {
   "cell_type": "code",
   "execution_count": 58,
   "metadata": {},
   "outputs": [
    {
     "name": "stdout",
     "output_type": "stream",
     "text": [
      "+------------+---------------+-----------+----------+-----------+-------+--------------+-----------+---------+------------+---------------+-----------------+--------------------------------+----------------------------+-------------------+--------------------+---------------------+----------------------------+----------------------+-------------------------+---------------------+---------------+--------------+--------------+---------------------+-------------------+----------------+-----------------------------------------------------------------------------------------------------------------------------------------------------+\n",
      "|living_space|bathroom_number|floor_level|built_year|latitude   |premium|bedroom_number|longitude  |price    |priceoutlier|age_of_property|high_level_binary|sub_property_type_string_encoded|property_type_string_encoded|city_string_encoded|state_string_encoded|tenure_string_encoded|listing_label_string_encoded|address_string_encoded|sub_property_type_one_hot|property_type_one_hot|city_one_hot   |state_one_hot |tenure_one_hot|listing_label_one_hot|address_one_hot    |living_space_bin|Xcols                                                                                                                                                |\n",
      "+------------+---------------+-----------+----------+-----------+-------+--------------+-----------+---------+------------+---------------+-----------------+--------------------------------+----------------------------+-------------------+--------------------+---------------------+----------------------------+----------------------+-------------------------+---------------------+---------------+--------------+--------------+---------------------+-------------------+----------------+-----------------------------------------------------------------------------------------------------------------------------------------------------+\n",
      "|20.0        |1              |7          |2021      |13.80287539|0      |1             |100.5699943|2500000.0|false       |2              |0                |0.0                             |0.0                         |2.0                |0.0                 |0.0                  |0.0                         |1588.0                |(1,[0],[1.0])            |(3,[0],[1.0])        |(88,[2],[1.0]) |(16,[0],[1.0])|(2,[0],[1.0]) |(2,[0],[1.0])        |(1685,[1588],[1.0])|0.0             |(1816,[0,1,2,3,4,6,7,9,13,17,18,19,24,110,126,128,1718],[20.0,1.0,7.0,2021.0,13.80287539,1.0,100.5699943,2.0,2.0,1588.0,1.0,1.0,1.0,1.0,1.0,1.0,1.0])|\n",
      "|20.0        |1              |20         |2016      |13.71397143|0      |1             |100.4718368|2000000.0|false       |7              |0                |0.0                             |0.0                         |13.0               |0.0                 |0.0                  |0.0                         |442.0                 |(1,[0],[1.0])            |(3,[0],[1.0])        |(88,[13],[1.0])|(16,[0],[1.0])|(2,[0],[1.0]) |(2,[0],[1.0])        |(1685,[442],[1.0]) |0.0             |(1816,[0,1,2,3,4,6,7,9,13,17,18,19,35,110,126,128,572],[20.0,1.0,20.0,2016.0,13.71397143,1.0,100.4718368,7.0,13.0,442.0,1.0,1.0,1.0,1.0,1.0,1.0,1.0])|\n",
      "|20.0        |1              |38         |2018      |13.698429  |0      |1             |100.604787 |3900000.0|false       |5              |0                |0.0                             |0.0                         |4.0                |0.0                 |0.0                  |0.0                         |21.0                  |(1,[0],[1.0])            |(3,[0],[1.0])        |(88,[4],[1.0]) |(16,[0],[1.0])|(2,[0],[1.0]) |(2,[0],[1.0])        |(1685,[21],[1.0])  |0.0             |(1816,[0,1,2,3,4,6,7,9,13,17,18,19,26,110,126,128,151],[20.0,1.0,38.0,2018.0,13.698429,1.0,100.604787,5.0,4.0,21.0,1.0,1.0,1.0,1.0,1.0,1.0,1.0])     |\n",
      "|21.0        |1              |1          |2014      |13.80616955|0      |1             |100.5289486|1990000.0|false       |9              |0                |0.0                             |0.0                         |8.0                |0.0                 |0.0                  |0.0                         |506.0                 |(1,[0],[1.0])            |(3,[0],[1.0])        |(88,[8],[1.0]) |(16,[0],[1.0])|(2,[0],[1.0]) |(2,[0],[1.0])        |(1685,[506],[1.0]) |0.0             |(1816,[0,1,2,3,4,6,7,9,13,17,18,19,30,110,126,128,636],[21.0,1.0,1.0,2014.0,13.80616955,1.0,100.5289486,9.0,8.0,506.0,1.0,1.0,1.0,1.0,1.0,1.0,1.0])  |\n",
      "|21.0        |1              |1          |2015      |13.742949  |0      |0             |100.588961 |3500000.0|false       |8              |0                |0.0                             |0.0                         |0.0                |0.0                 |0.0                  |0.0                         |0.0                   |(1,[0],[1.0])            |(3,[0],[1.0])        |(88,[0],[1.0]) |(16,[0],[1.0])|(2,[0],[1.0]) |(2,[0],[1.0])        |(1685,[0],[1.0])   |0.0             |(1816,[0,1,2,3,4,7,9,18,19,22,110,126,128,130],[21.0,1.0,1.0,2015.0,13.742949,100.588961,8.0,1.0,1.0,1.0,1.0,1.0,1.0,1.0])                           |\n",
      "+------------+---------------+-----------+----------+-----------+-------+--------------+-----------+---------+------------+---------------+-----------------+--------------------------------+----------------------------+-------------------+--------------------+---------------------+----------------------------+----------------------+-------------------------+---------------------+---------------+--------------+--------------+---------------------+-------------------+----------------+-----------------------------------------------------------------------------------------------------------------------------------------------------+\n",
      "only showing top 5 rows\n",
      "\n"
     ]
    }
   ],
   "source": [
    "# Display a few rows of the vectorized DataFrames\n",
    "X_train.show(5, truncate=False)"
   ]
  },
  {
   "cell_type": "code",
   "execution_count": 59,
   "metadata": {},
   "outputs": [
    {
     "name": "stdout",
     "output_type": "stream",
     "text": [
      "+------------+---------------+-----------+----------+---------+-------+--------------+----------+---------+------------+---------------+-----------------+--------------------------------+----------------------------+-------------------+--------------------+---------------------+----------------------------+----------------------+-------------------------+---------------------+---------------+--------------+--------------+---------------------+------------------+----------------+-------------------------------------------------------------------------------------------------------------------------------------------------+\n",
      "|living_space|bathroom_number|floor_level|built_year|latitude |premium|bedroom_number|longitude |price    |priceoutlier|age_of_property|high_level_binary|sub_property_type_string_encoded|property_type_string_encoded|city_string_encoded|state_string_encoded|tenure_string_encoded|listing_label_string_encoded|address_string_encoded|sub_property_type_one_hot|property_type_one_hot|city_one_hot   |state_one_hot |tenure_one_hot|listing_label_one_hot|address_one_hot   |living_space_bin|Xcols                                                                                                                                            |\n",
      "+------------+---------------+-----------+----------+---------+-------+--------------+----------+---------+------------+---------------+-----------------+--------------------------------+----------------------------+-------------------+--------------------+---------------------+----------------------------+----------------------+-------------------------+---------------------+---------------+--------------+--------------+---------------------+------------------+----------------+-------------------------------------------------------------------------------------------------------------------------------------------------+\n",
      "|20.0        |1              |23         |2013      |13.825072|0      |2             |100.53759 |3450000.0|false       |10             |0                |0.0                             |0.0                         |8.0                |0.0                 |0.0                  |0.0                         |118.0                 |(1,[0],[1.0])            |(3,[0],[1.0])        |(88,[8],[1.0]) |(16,[0],[1.0])|(2,[0],[1.0]) |(2,[0],[1.0])        |(1685,[118],[1.0])|0.0             |(1816,[0,1,2,3,4,6,7,9,13,17,18,19,30,110,126,128,248],[20.0,1.0,23.0,2013.0,13.825072,2.0,100.53759,10.0,8.0,118.0,1.0,1.0,1.0,1.0,1.0,1.0,1.0])|\n",
      "|21.0        |1              |1          |2016      |13.737126|0      |0             |100.745827|990000.0 |false       |7              |0                |0.0                             |0.0                         |29.0               |0.0                 |0.0                  |0.0                         |95.0                  |(1,[0],[1.0])            |(3,[0],[1.0])        |(88,[29],[1.0])|(16,[0],[1.0])|(2,[0],[1.0]) |(2,[0],[1.0])        |(1685,[95],[1.0]) |0.0             |(1816,[0,1,2,3,4,7,9,13,17,18,19,51,110,126,128,225],[21.0,1.0,1.0,2016.0,13.737126,100.745827,7.0,29.0,95.0,1.0,1.0,1.0,1.0,1.0,1.0,1.0])       |\n",
      "|21.0        |1              |1          |2018      |13.698429|0      |1             |100.604787|3900000.0|false       |5              |0                |0.0                             |0.0                         |4.0                |0.0                 |0.0                  |0.0                         |21.0                  |(1,[0],[1.0])            |(3,[0],[1.0])        |(88,[4],[1.0]) |(16,[0],[1.0])|(2,[0],[1.0]) |(2,[0],[1.0])        |(1685,[21],[1.0]) |0.0             |(1816,[0,1,2,3,4,6,7,9,13,17,18,19,26,110,126,128,151],[21.0,1.0,1.0,2018.0,13.698429,1.0,100.604787,5.0,4.0,21.0,1.0,1.0,1.0,1.0,1.0,1.0,1.0])  |\n",
      "|21.0        |1              |2          |2018      |13.790007|0      |1             |100.583207|1890000.0|false       |5              |0                |0.0                             |0.0                         |0.0                |0.0                 |0.0                  |0.0                         |550.0                 |(1,[0],[1.0])            |(3,[0],[1.0])        |(88,[0],[1.0]) |(16,[0],[1.0])|(2,[0],[1.0]) |(2,[0],[1.0])        |(1685,[550],[1.0])|0.0             |(1816,[0,1,2,3,4,6,7,9,17,18,19,22,110,126,128,680],[21.0,1.0,2.0,2018.0,13.790007,1.0,100.583207,5.0,550.0,1.0,1.0,1.0,1.0,1.0,1.0,1.0])        |\n",
      "|21.0        |1              |5          |2017      |13.679495|0      |0             |100.62431 |1400000.0|false       |6              |0                |0.0                             |0.0                         |4.0                |0.0                 |0.0                  |0.0                         |386.0                 |(1,[0],[1.0])            |(3,[0],[1.0])        |(88,[4],[1.0]) |(16,[0],[1.0])|(2,[0],[1.0]) |(2,[0],[1.0])        |(1685,[386],[1.0])|0.0             |(1816,[0,1,2,3,4,7,9,13,17,18,19,26,110,126,128,516],[21.0,1.0,5.0,2017.0,13.679495,100.62431,6.0,4.0,386.0,1.0,1.0,1.0,1.0,1.0,1.0,1.0])        |\n",
      "+------------+---------------+-----------+----------+---------+-------+--------------+----------+---------+------------+---------------+-----------------+--------------------------------+----------------------------+-------------------+--------------------+---------------------+----------------------------+----------------------+-------------------------+---------------------+---------------+--------------+--------------+---------------------+------------------+----------------+-------------------------------------------------------------------------------------------------------------------------------------------------+\n",
      "only showing top 5 rows\n",
      "\n"
     ]
    }
   ],
   "source": [
    "X_test.show(5, truncate=False)"
   ]
  },
  {
   "cell_type": "markdown",
   "metadata": {},
   "source": [
    "### Feature Scaling"
   ]
  },
  {
   "cell_type": "code",
   "execution_count": 60,
   "metadata": {},
   "outputs": [],
   "source": [
    "#Standard Scaler"
   ]
  },
  {
   "cell_type": "code",
   "execution_count": 61,
   "metadata": {},
   "outputs": [],
   "source": [
    "from pyspark.ml.feature import StandardScaler\n",
    "\n",
    "sScaler = StandardScaler(withMean=True, withStd=True, inputCol=\"Xcols\", outputCol=\"Xcols_sscaled\")"
   ]
  },
  {
   "cell_type": "code",
   "execution_count": 62,
   "metadata": {},
   "outputs": [
    {
     "name": "stdout",
     "output_type": "stream",
     "text": [
      "+------------+---------------+-----------+----------+-----------+-------+--------------+-----------+---------+------------+---------------+-----------------+--------------------------------+----------------------------+-------------------+--------------------+---------------------+----------------------------+----------------------+-------------------------+---------------------+---------------+--------------+--------------+---------------------+-------------------+----------------+--------------------+\n",
      "|living_space|bathroom_number|floor_level|built_year|   latitude|premium|bedroom_number|  longitude|    price|priceoutlier|age_of_property|high_level_binary|sub_property_type_string_encoded|property_type_string_encoded|city_string_encoded|state_string_encoded|tenure_string_encoded|listing_label_string_encoded|address_string_encoded|sub_property_type_one_hot|property_type_one_hot|   city_one_hot| state_one_hot|tenure_one_hot|listing_label_one_hot|    address_one_hot|living_space_bin|       Xcols_sscaled|\n",
      "+------------+---------------+-----------+----------+-----------+-------+--------------+-----------+---------+------------+---------------+-----------------+--------------------------------+----------------------------+-------------------+--------------------+---------------------+----------------------------+----------------------+-------------------------+---------------------+---------------+--------------+--------------+---------------------+-------------------+----------------+--------------------+\n",
      "|        20.0|              1|          7|      2021|13.80287539|      0|             1|100.5699943|2500000.0|       false|              2|                0|                             0.0|                         0.0|                2.0|                 0.0|                  0.0|                         0.0|                1588.0|            (1,[0],[1.0])|        (3,[0],[1.0])| (88,[2],[1.0])|(16,[0],[1.0])| (2,[0],[1.0])|        (2,[0],[1.0])|(1685,[1588],[1.0])|             0.0|[-0.0204617075181...|\n",
      "|        20.0|              1|         20|      2016|13.71397143|      0|             1|100.4718368|2000000.0|       false|              7|                0|                             0.0|                         0.0|               13.0|                 0.0|                  0.0|                         0.0|                 442.0|            (1,[0],[1.0])|        (3,[0],[1.0])|(88,[13],[1.0])|(16,[0],[1.0])| (2,[0],[1.0])|        (2,[0],[1.0])| (1685,[442],[1.0])|             0.0|[-0.0204617075181...|\n",
      "|        20.0|              1|         38|      2018|  13.698429|      0|             1| 100.604787|3900000.0|       false|              5|                0|                             0.0|                         0.0|                4.0|                 0.0|                  0.0|                         0.0|                  21.0|            (1,[0],[1.0])|        (3,[0],[1.0])| (88,[4],[1.0])|(16,[0],[1.0])| (2,[0],[1.0])|        (2,[0],[1.0])|  (1685,[21],[1.0])|             0.0|[-0.0204617075181...|\n",
      "|        21.0|              1|          1|      2014|13.80616955|      0|             1|100.5289486|1990000.0|       false|              9|                0|                             0.0|                         0.0|                8.0|                 0.0|                  0.0|                         0.0|                 506.0|            (1,[0],[1.0])|        (3,[0],[1.0])| (88,[8],[1.0])|(16,[0],[1.0])| (2,[0],[1.0])|        (2,[0],[1.0])| (1685,[506],[1.0])|             0.0|[-0.0202046403778...|\n",
      "|        21.0|              1|          1|      2015|  13.742949|      0|             0| 100.588961|3500000.0|       false|              8|                0|                             0.0|                         0.0|                0.0|                 0.0|                  0.0|                         0.0|                   0.0|            (1,[0],[1.0])|        (3,[0],[1.0])| (88,[0],[1.0])|(16,[0],[1.0])| (2,[0],[1.0])|        (2,[0],[1.0])|   (1685,[0],[1.0])|             0.0|[-0.0202046403778...|\n",
      "|        21.0|              1|          1|      2016|  13.737126|      0|             1| 100.745827| 970000.0|       false|              7|                0|                             0.0|                         0.0|               29.0|                 0.0|                  0.0|                         0.0|                  95.0|            (1,[0],[1.0])|        (3,[0],[1.0])|(88,[29],[1.0])|(16,[0],[1.0])| (2,[0],[1.0])|        (2,[0],[1.0])|  (1685,[95],[1.0])|             0.0|[-0.0202046403778...|\n",
      "|        21.0|              1|          2|      2011|  13.788892|      0|             1| 100.580659|1890000.0|       false|             12|                0|                             0.0|                         0.0|                0.0|                 0.0|                  0.0|                         0.0|                 546.0|            (1,[0],[1.0])|        (3,[0],[1.0])| (88,[0],[1.0])|(16,[0],[1.0])| (2,[0],[1.0])|        (2,[0],[1.0])| (1685,[546],[1.0])|             0.0|[-0.0202046403778...|\n",
      "|        21.0|              1|          2|      2014|13.68428388|      0|             0|100.6040554|1490000.0|       false|              9|                0|                             0.0|                         0.0|                4.0|                 0.0|                  0.0|                         0.0|                  27.0|            (1,[0],[1.0])|        (3,[0],[1.0])| (88,[4],[1.0])|(16,[0],[1.0])| (2,[0],[1.0])|        (2,[0],[1.0])|  (1685,[27],[1.0])|             0.0|[-0.0202046403778...|\n",
      "|        21.0|              1|          2|      2014|13.68524746|      0|             0|100.6042924|1610000.0|       false|              9|                0|                             0.0|                         0.0|                4.0|                 0.0|                  0.0|                         0.0|                  33.0|            (1,[0],[1.0])|        (3,[0],[1.0])| (88,[4],[1.0])|(16,[0],[1.0])| (2,[0],[1.0])|        (2,[0],[1.0])|  (1685,[33],[1.0])|             0.0|[-0.0202046403778...|\n",
      "|        21.0|              1|          2|      2016|  13.737126|      0|             0| 100.745827|1200000.0|       false|              7|                0|                             0.0|                         0.0|               29.0|                 0.0|                  0.0|                         0.0|                  95.0|            (1,[0],[1.0])|        (3,[0],[1.0])|(88,[29],[1.0])|(16,[0],[1.0])| (2,[0],[1.0])|        (2,[0],[1.0])|  (1685,[95],[1.0])|             0.0|[-0.0202046403778...|\n",
      "|        21.0|              1|          3|      2014|13.68524746|      0|             1|100.6042924|1600000.0|       false|              9|                0|                             0.0|                         0.0|                4.0|                 0.0|                  0.0|                         0.0|                  33.0|            (1,[0],[1.0])|        (3,[0],[1.0])| (88,[4],[1.0])|(16,[0],[1.0])| (2,[0],[1.0])|        (2,[0],[1.0])|  (1685,[33],[1.0])|             0.0|[-0.0202046403778...|\n",
      "|        21.0|              1|          3|      2016|  13.737126|      0|             0| 100.745827| 925000.0|       false|              7|                0|                             0.0|                         0.0|               29.0|                 0.0|                  0.0|                         0.0|                  95.0|            (1,[0],[1.0])|        (3,[0],[1.0])|(88,[29],[1.0])|(16,[0],[1.0])| (2,[0],[1.0])|        (2,[0],[1.0])|  (1685,[95],[1.0])|             0.0|[-0.0202046403778...|\n",
      "|        21.0|              1|          4|      2016|  13.733237|      0|             0| 100.526269|4840000.0|       false|              7|                0|                             0.0|                         0.0|               17.0|                 0.0|                  0.0|                         0.0|                  25.0|            (1,[0],[1.0])|        (3,[0],[1.0])|(88,[17],[1.0])|(16,[0],[1.0])| (2,[0],[1.0])|        (2,[0],[1.0])|  (1685,[25],[1.0])|             0.0|[-0.0202046403778...|\n",
      "|        21.0|              1|          5|      2014|13.68524746|      0|             0|100.6042924|1390000.0|       false|              9|                0|                             0.0|                         0.0|                4.0|                 0.0|                  0.0|                         0.0|                  33.0|            (1,[0],[1.0])|        (3,[0],[1.0])| (88,[4],[1.0])|(16,[0],[1.0])| (2,[0],[1.0])|        (2,[0],[1.0])|  (1685,[33],[1.0])|             0.0|[-0.0202046403778...|\n",
      "|        21.0|              1|          5|      2014|13.68524746|      0|             0|100.6042924|1600000.0|       false|              9|                0|                             0.0|                         0.0|                4.0|                 0.0|                  0.0|                         0.0|                  33.0|            (1,[0],[1.0])|        (3,[0],[1.0])| (88,[4],[1.0])|(16,[0],[1.0])| (2,[0],[1.0])|        (2,[0],[1.0])|  (1685,[33],[1.0])|             0.0|[-0.0202046403778...|\n",
      "|        21.0|              1|          5|      2017|  13.679495|      0|             0|  100.62431|1400000.0|       false|              6|                0|                             0.0|                         0.0|                4.0|                 0.0|                  0.0|                         0.0|                 386.0|            (1,[0],[1.0])|        (3,[0],[1.0])| (88,[4],[1.0])|(16,[0],[1.0])| (2,[0],[1.0])|        (2,[0],[1.0])| (1685,[386],[1.0])|             0.0|[-0.0202046403778...|\n",
      "|        21.0|              1|          5|      2017|  13.679495|      0|             0|  100.62431|1450000.0|       false|              6|                0|                             0.0|                         0.0|                4.0|                 0.0|                  0.0|                         0.0|                 386.0|            (1,[0],[1.0])|        (3,[0],[1.0])| (88,[4],[1.0])|(16,[0],[1.0])| (2,[0],[1.0])|        (2,[0],[1.0])| (1685,[386],[1.0])|             0.0|[-0.0202046403778...|\n",
      "|        21.0|              1|          5|      2017|  13.679495|      0|             1|  100.62431|1537000.0|       false|              6|                0|                             0.0|                         0.0|                4.0|                 0.0|                  0.0|                         0.0|                 386.0|            (1,[0],[1.0])|        (3,[0],[1.0])| (88,[4],[1.0])|(16,[0],[1.0])| (2,[0],[1.0])|        (2,[0],[1.0])| (1685,[386],[1.0])|             0.0|[-0.0202046403778...|\n",
      "|        21.0|              1|          7|      2014|13.68524746|      0|             0|100.6042924|1350000.0|       false|              9|                0|                             0.0|                         0.0|                4.0|                 0.0|                  0.0|                         0.0|                  33.0|            (1,[0],[1.0])|        (3,[0],[1.0])| (88,[4],[1.0])|(16,[0],[1.0])| (2,[0],[1.0])|        (2,[0],[1.0])|  (1685,[33],[1.0])|             0.0|[-0.0202046403778...|\n",
      "|        21.0|              1|          7|      2014|13.68524746|      0|             0|100.6042924|1540000.0|       false|              9|                0|                             0.0|                         0.0|                4.0|                 0.0|                  0.0|                         0.0|                  33.0|            (1,[0],[1.0])|        (3,[0],[1.0])| (88,[4],[1.0])|(16,[0],[1.0])| (2,[0],[1.0])|        (2,[0],[1.0])|  (1685,[33],[1.0])|             0.0|[-0.0202046403778...|\n",
      "+------------+---------------+-----------+----------+-----------+-------+--------------+-----------+---------+------------+---------------+-----------------+--------------------------------+----------------------------+-------------------+--------------------+---------------------+----------------------------+----------------------+-------------------------+---------------------+---------------+--------------+--------------+---------------------+-------------------+----------------+--------------------+\n",
      "only showing top 20 rows\n",
      "\n"
     ]
    }
   ],
   "source": [
    "train_sscaled = sScaler.fit(X_train).transform(X_train)\n",
    "train_sscaled = train_sscaled.drop(\"Xcols\")\n",
    "train_sscaled.show()"
   ]
  },
  {
   "cell_type": "code",
   "execution_count": 63,
   "metadata": {
    "scrolled": false
   },
   "outputs": [
    {
     "name": "stdout",
     "output_type": "stream",
     "text": [
      "+------------+---------------+-----------+----------+-----------+-------+--------------+-----------+---------+------------+---------------+-----------------+--------------------------------+----------------------------+-------------------+--------------------+---------------------+----------------------------+----------------------+-------------------------+---------------------+---------------+--------------+--------------+---------------------+------------------+----------------+--------------------+\n",
      "|living_space|bathroom_number|floor_level|built_year|   latitude|premium|bedroom_number|  longitude|    price|priceoutlier|age_of_property|high_level_binary|sub_property_type_string_encoded|property_type_string_encoded|city_string_encoded|state_string_encoded|tenure_string_encoded|listing_label_string_encoded|address_string_encoded|sub_property_type_one_hot|property_type_one_hot|   city_one_hot| state_one_hot|tenure_one_hot|listing_label_one_hot|   address_one_hot|living_space_bin|       Xcols_sscaled|\n",
      "+------------+---------------+-----------+----------+-----------+-------+--------------+-----------+---------+------------+---------------+-----------------+--------------------------------+----------------------------+-------------------+--------------------+---------------------+----------------------------+----------------------+-------------------------+---------------------+---------------+--------------+--------------+---------------------+------------------+----------------+--------------------+\n",
      "|        20.0|              1|         23|      2013|  13.825072|      0|             2|  100.53759|3450000.0|       false|             10|                0|                             0.0|                         0.0|                8.0|                 0.0|                  0.0|                         0.0|                 118.0|            (1,[0],[1.0])|        (3,[0],[1.0])| (88,[8],[1.0])|(16,[0],[1.0])| (2,[0],[1.0])|        (2,[0],[1.0])|(1685,[118],[1.0])|             0.0|[-0.0198454922997...|\n",
      "|        21.0|              1|          1|      2016|  13.737126|      0|             0| 100.745827| 990000.0|       false|              7|                0|                             0.0|                         0.0|               29.0|                 0.0|                  0.0|                         0.0|                  95.0|            (1,[0],[1.0])|        (3,[0],[1.0])|(88,[29],[1.0])|(16,[0],[1.0])| (2,[0],[1.0])|        (2,[0],[1.0])| (1685,[95],[1.0])|             0.0|[-0.0197634321739...|\n",
      "|        21.0|              1|          1|      2018|  13.698429|      0|             1| 100.604787|3900000.0|       false|              5|                0|                             0.0|                         0.0|                4.0|                 0.0|                  0.0|                         0.0|                  21.0|            (1,[0],[1.0])|        (3,[0],[1.0])| (88,[4],[1.0])|(16,[0],[1.0])| (2,[0],[1.0])|        (2,[0],[1.0])| (1685,[21],[1.0])|             0.0|[-0.0197634321739...|\n",
      "|        21.0|              1|          2|      2018|  13.790007|      0|             1| 100.583207|1890000.0|       false|              5|                0|                             0.0|                         0.0|                0.0|                 0.0|                  0.0|                         0.0|                 550.0|            (1,[0],[1.0])|        (3,[0],[1.0])| (88,[0],[1.0])|(16,[0],[1.0])| (2,[0],[1.0])|        (2,[0],[1.0])|(1685,[550],[1.0])|             0.0|[-0.0197634321739...|\n",
      "|        21.0|              1|          5|      2017|  13.679495|      0|             0|  100.62431|1400000.0|       false|              6|                0|                             0.0|                         0.0|                4.0|                 0.0|                  0.0|                         0.0|                 386.0|            (1,[0],[1.0])|        (3,[0],[1.0])| (88,[4],[1.0])|(16,[0],[1.0])| (2,[0],[1.0])|        (2,[0],[1.0])|(1685,[386],[1.0])|             0.0|[-0.0197634321739...|\n",
      "|        21.0|              1|          6|      2016|  13.733237|      0|             0| 100.526269|4890000.0|       false|              7|                0|                             0.0|                         0.0|               17.0|                 0.0|                  0.0|                         0.0|                  25.0|            (1,[0],[1.0])|        (3,[0],[1.0])|(88,[17],[1.0])|(16,[0],[1.0])| (2,[0],[1.0])|        (2,[0],[1.0])| (1685,[25],[1.0])|             0.0|[-0.0197634321739...|\n",
      "|        21.0|              1|         10|      2014|13.72019284|      0|             0| 100.502708|2500000.0|       false|              9|                0|                             0.0|                         0.0|                9.0|                 0.0|                  0.0|                         0.0|                 255.0|            (1,[0],[1.0])|        (3,[0],[1.0])| (88,[9],[1.0])|(16,[0],[1.0])| (2,[0],[1.0])|        (2,[0],[1.0])|(1685,[255],[1.0])|             0.0|[-0.0197634321739...|\n",
      "|        21.0|              1|         11|      2014| 13.7042193|      0|             0|100.6021733|2790000.0|       false|              9|                0|                             0.0|                         0.0|                4.0|                 0.0|                  0.0|                         0.0|                  19.0|            (1,[0],[1.0])|        (3,[0],[1.0])| (88,[4],[1.0])|(16,[0],[1.0])| (2,[0],[1.0])|        (2,[0],[1.0])| (1685,[19],[1.0])|             0.0|[-0.0197634321739...|\n",
      "|        21.0|              1|         18|      2015|  13.717098|      0|             0| 100.482343|2100000.0|       false|              8|                0|                             0.0|                         0.0|               13.0|                 0.0|                  0.0|                         0.0|                   0.0|            (1,[0],[1.0])|        (3,[0],[1.0])|(88,[13],[1.0])|(16,[0],[1.0])| (2,[0],[1.0])|        (2,[0],[1.0])|  (1685,[0],[1.0])|             0.0|[-0.0197634321739...|\n",
      "|        21.0|              1|         20|      2014| 13.7042193|      0|             0|100.6021733|3490000.0|       false|              9|                0|                             0.0|                         0.0|                4.0|                 0.0|                  0.0|                         0.0|                  19.0|            (1,[0],[1.0])|        (3,[0],[1.0])| (88,[4],[1.0])|(16,[0],[1.0])| (2,[0],[1.0])|        (2,[0],[1.0])| (1685,[19],[1.0])|             0.0|[-0.0197634321739...|\n",
      "|        21.0|              1|         20|      2014|  13.755804|      0|             0| 100.565882|3500000.0|       false|              9|                0|                             0.0|                         0.0|                0.0|                 0.0|                  0.0|                         0.0|                  63.0|            (1,[0],[1.0])|        (3,[0],[1.0])| (88,[0],[1.0])|(16,[0],[1.0])| (2,[0],[1.0])|        (2,[0],[1.0])| (1685,[63],[1.0])|             0.0|[-0.0197634321739...|\n",
      "|        21.0|              1|         23|      2016|  13.733237|      0|             0| 100.526269|4390000.0|       false|              7|                0|                             0.0|                         0.0|               17.0|                 0.0|                  0.0|                         0.0|                  25.0|            (1,[0],[1.0])|        (3,[0],[1.0])|(88,[17],[1.0])|(16,[0],[1.0])| (2,[0],[1.0])|        (2,[0],[1.0])| (1685,[25],[1.0])|             0.0|[-0.0197634321739...|\n",
      "|        21.0|              1|         24|      2015|  13.717098|      0|             0| 100.482343|2100000.0|       false|              8|                0|                             0.0|                         0.0|               13.0|                 0.0|                  0.0|                         0.0|                   0.0|            (1,[0],[1.0])|        (3,[0],[1.0])|(88,[13],[1.0])|(16,[0],[1.0])| (2,[0],[1.0])|        (2,[0],[1.0])|  (1685,[0],[1.0])|             0.0|[-0.0197634321739...|\n",
      "|        21.0|              1|         26|      2018|  13.805998|      0|             0|  100.53296|2090000.0|       false|              5|                0|                             0.0|                         0.0|                8.0|                 0.0|                  0.0|                         0.0|                 366.0|            (1,[0],[1.0])|        (3,[0],[1.0])| (88,[8],[1.0])|(16,[0],[1.0])| (2,[0],[1.0])|        (2,[0],[1.0])|(1685,[366],[1.0])|             0.0|[-0.0197634321739...|\n",
      "|        21.0|              1|         30|      2015|13.75571334|      0|             0|100.5663852|3000000.0|       false|              8|                0|                             0.0|                         0.0|                0.0|                 0.0|                  0.0|                         0.0|                 159.0|            (1,[0],[1.0])|        (3,[0],[1.0])| (88,[0],[1.0])|(16,[0],[1.0])| (2,[0],[1.0])|        (2,[0],[1.0])|(1685,[159],[1.0])|             0.0|[-0.0197634321739...|\n",
      "|        21.0|              1|         31|      2015|  13.717098|      0|             1| 100.482343|2930000.0|       false|              8|                0|                             0.0|                         0.0|               13.0|                 0.0|                  0.0|                         0.0|                   0.0|            (1,[0],[1.0])|        (3,[0],[1.0])|(88,[13],[1.0])|(16,[0],[1.0])| (2,[0],[1.0])|        (2,[0],[1.0])|  (1685,[0],[1.0])|             0.0|[-0.0197634321739...|\n",
      "|       21.18|              1|          9|      2014| 13.7042193|      0|             1|100.6021733|2690000.0|       false|              9|                0|                             0.0|                         0.0|                4.0|                 0.0|                  0.0|                         1.0|                  19.0|            (1,[0],[1.0])|        (3,[0],[1.0])| (88,[4],[1.0])|(16,[0],[1.0])| (2,[0],[1.0])|        (2,[1],[1.0])| (1685,[19],[1.0])|             0.0|[-0.0197486613513...|\n",
      "|        21.5|              1|          3|      2016|  13.737126|      0|             0| 100.745827| 969000.0|       false|              7|                0|                             0.0|                         0.0|               29.0|                 0.0|                  0.0|                         1.0|                  95.0|            (1,[0],[1.0])|        (3,[0],[1.0])|(88,[29],[1.0])|(16,[0],[1.0])| (2,[0],[1.0])|        (2,[1],[1.0])| (1685,[95],[1.0])|             0.0|[-0.0197224021110...|\n",
      "|       21.52|              1|          2|      2018|  13.790007|      0|             1| 100.583207|1890000.0|       false|              5|                0|                             0.0|                         0.0|                0.0|                 0.0|                  0.0|                         0.0|                 550.0|            (1,[0],[1.0])|        (3,[0],[1.0])| (88,[0],[1.0])|(16,[0],[1.0])| (2,[0],[1.0])|        (2,[0],[1.0])|(1685,[550],[1.0])|             0.0|[-0.0197207609085...|\n",
      "|       21.52|              1|          2|      2018|  13.790007|      0|             1| 100.583207|2150000.0|       false|              5|                0|                             0.0|                         0.0|                0.0|                 0.0|                  0.0|                         0.0|                 550.0|            (1,[0],[1.0])|        (3,[0],[1.0])| (88,[0],[1.0])|(16,[0],[1.0])| (2,[0],[1.0])|        (2,[0],[1.0])|(1685,[550],[1.0])|             0.0|[-0.0197207609085...|\n",
      "+------------+---------------+-----------+----------+-----------+-------+--------------+-----------+---------+------------+---------------+-----------------+--------------------------------+----------------------------+-------------------+--------------------+---------------------+----------------------------+----------------------+-------------------------+---------------------+---------------+--------------+--------------+---------------------+------------------+----------------+--------------------+\n",
      "only showing top 20 rows\n",
      "\n"
     ]
    }
   ],
   "source": [
    "test_sscaled = sScaler.fit(X_test).transform(X_test)\n",
    "test_sscaled = test_sscaled.drop(\"Xcols\")\n",
    "test_sscaled.show()"
   ]
  },
  {
   "cell_type": "markdown",
   "metadata": {},
   "source": [
    "## Data Wrangling and Transformation : Report"
   ]
  },
  {
   "cell_type": "markdown",
   "metadata": {},
   "source": [
    "Various data wrangling and transformation steps were implemented. New features, such as the 'age_of_property' and a binary 'high_level_binary' column, were created.I capped the floor level column at 70 floors as that is the highest residential storey in Thailand.  For the extreme outliers in price previously flagged out, I capped them by replacing them with the capped value, which is calculated based on the upper quartile (Q3) and the defined threshold. I've split the 'living_space' column into specified ranges. Then, for each range, I calculated the median price and replaced any zero values in the 'price' column within that bin with the calculated median. This ensures more accurate pricing data, improving overall dataset reliability and integrity for subsequent analyses.\n",
    "\n",
    "I addressed categorical variables by encoding them for machine learning models. I specified the categorical columns and created stages for StringIndexer and OneHotEncoder transformations for each column. These transformations convert categorical labels into numerical indices and then into one-hot encoded vectors. The entire process is encapsulated in a Pipeline to ensure consistent application to both the training and test datasets.\n",
    "\n",
    "As previously mentioned, Living Space is very skewed hence, I utilized Quantile Discretization to transform the 'living_space' numerical feature into discrete bins. I specified the number of buckets as 20 and applied the QuantileDiscretizer to create a new column, 'living_space_bin', representing the binned values. This transformation is particularly useful for converting a continuous variable into categorical or ordinal values, making it easier to analyze patterns and relationships. \n",
    "\n",
    "Lastly, after I train test split my dataset and consolidated my X columns using vector assembler to produce a vector for each row “Xcols’ compromising of all the numerical values in the dataset excluding price, I scaled my x train and test using standard scaler, ensuring that all the variables are on the same scale and hence mitigating the impact of varying scales and magnitudes across the different attributes.\n"
   ]
  },
  {
   "cell_type": "markdown",
   "metadata": {},
   "source": [
    "##  Machine Learning Modelling"
   ]
  },
  {
   "cell_type": "markdown",
   "metadata": {},
   "source": [
    "### FInal Check and Tidy-up"
   ]
  },
  {
   "cell_type": "code",
   "execution_count": 64,
   "metadata": {},
   "outputs": [],
   "source": [
    "final_Xtrain = train_sscaled"
   ]
  },
  {
   "cell_type": "code",
   "execution_count": 65,
   "metadata": {},
   "outputs": [],
   "source": [
    "final_Xtest = test_sscaled"
   ]
  },
  {
   "cell_type": "code",
   "execution_count": 66,
   "metadata": {},
   "outputs": [
    {
     "name": "stdout",
     "output_type": "stream",
     "text": [
      "X_train Schema:\n",
      "root\n",
      " |-- living_space: double (nullable = true)\n",
      " |-- bathroom_number: integer (nullable = true)\n",
      " |-- floor_level: integer (nullable = true)\n",
      " |-- built_year: integer (nullable = true)\n",
      " |-- latitude: double (nullable = true)\n",
      " |-- premium: integer (nullable = true)\n",
      " |-- bedroom_number: integer (nullable = true)\n",
      " |-- longitude: double (nullable = true)\n",
      " |-- price: double (nullable = true)\n",
      " |-- priceoutlier: boolean (nullable = true)\n",
      " |-- age_of_property: integer (nullable = true)\n",
      " |-- high_level_binary: integer (nullable = false)\n",
      " |-- sub_property_type_string_encoded: double (nullable = false)\n",
      " |-- property_type_string_encoded: double (nullable = false)\n",
      " |-- city_string_encoded: double (nullable = false)\n",
      " |-- state_string_encoded: double (nullable = false)\n",
      " |-- tenure_string_encoded: double (nullable = false)\n",
      " |-- listing_label_string_encoded: double (nullable = false)\n",
      " |-- address_string_encoded: double (nullable = false)\n",
      " |-- sub_property_type_one_hot: vector (nullable = true)\n",
      " |-- property_type_one_hot: vector (nullable = true)\n",
      " |-- city_one_hot: vector (nullable = true)\n",
      " |-- state_one_hot: vector (nullable = true)\n",
      " |-- tenure_one_hot: vector (nullable = true)\n",
      " |-- listing_label_one_hot: vector (nullable = true)\n",
      " |-- address_one_hot: vector (nullable = true)\n",
      " |-- living_space_bin: double (nullable = true)\n",
      " |-- Xcols: vector (nullable = true)\n",
      "\n",
      "Number of rows in X_train: 33191\n",
      "\n",
      "X_test Schema:\n",
      "root\n",
      " |-- living_space: double (nullable = true)\n",
      " |-- bathroom_number: integer (nullable = true)\n",
      " |-- floor_level: integer (nullable = true)\n",
      " |-- built_year: integer (nullable = true)\n",
      " |-- latitude: double (nullable = true)\n",
      " |-- premium: integer (nullable = true)\n",
      " |-- bedroom_number: integer (nullable = true)\n",
      " |-- longitude: double (nullable = true)\n",
      " |-- price: double (nullable = true)\n",
      " |-- priceoutlier: boolean (nullable = true)\n",
      " |-- age_of_property: integer (nullable = true)\n",
      " |-- high_level_binary: integer (nullable = false)\n",
      " |-- sub_property_type_string_encoded: double (nullable = false)\n",
      " |-- property_type_string_encoded: double (nullable = false)\n",
      " |-- city_string_encoded: double (nullable = false)\n",
      " |-- state_string_encoded: double (nullable = false)\n",
      " |-- tenure_string_encoded: double (nullable = false)\n",
      " |-- listing_label_string_encoded: double (nullable = false)\n",
      " |-- address_string_encoded: double (nullable = false)\n",
      " |-- sub_property_type_one_hot: vector (nullable = true)\n",
      " |-- property_type_one_hot: vector (nullable = true)\n",
      " |-- city_one_hot: vector (nullable = true)\n",
      " |-- state_one_hot: vector (nullable = true)\n",
      " |-- tenure_one_hot: vector (nullable = true)\n",
      " |-- listing_label_one_hot: vector (nullable = true)\n",
      " |-- address_one_hot: vector (nullable = true)\n",
      " |-- living_space_bin: double (nullable = true)\n",
      " |-- Xcols: vector (nullable = true)\n",
      "\n",
      "Number of rows in X_test: 8169\n"
     ]
    }
   ],
   "source": [
    "# Check schema and number of rows for X_train\n",
    "print(\"X_train Schema:\")\n",
    "X_train.printSchema()\n",
    "print(\"Number of rows in X_train:\", final_Xtrain.count())\n",
    "\n",
    "# Check schema and number of rows for X_test\n",
    "print(\"\\nX_test Schema:\")\n",
    "X_test.printSchema()\n",
    "print(\"Number of rows in X_test:\", final_Xtest.count())\n"
   ]
  },
  {
   "cell_type": "markdown",
   "metadata": {},
   "source": [
    "### Train & Test Samples"
   ]
  },
  {
   "cell_type": "code",
   "execution_count": 67,
   "metadata": {},
   "outputs": [
    {
     "name": "stdout",
     "output_type": "stream",
     "text": [
      "+------------+---------------+-----------+----------+-----------+-------+--------------+-----------+---------+------------+---------------+-----------------+--------------------------------+----------------------------+-------------------+--------------------+---------------------+----------------------------+----------------------+-------------------------+---------------------+---------------+--------------+--------------+---------------------+-------------------+----------------+--------------------+\n",
      "|living_space|bathroom_number|floor_level|built_year|   latitude|premium|bedroom_number|  longitude|    price|priceoutlier|age_of_property|high_level_binary|sub_property_type_string_encoded|property_type_string_encoded|city_string_encoded|state_string_encoded|tenure_string_encoded|listing_label_string_encoded|address_string_encoded|sub_property_type_one_hot|property_type_one_hot|   city_one_hot| state_one_hot|tenure_one_hot|listing_label_one_hot|    address_one_hot|living_space_bin|       Xcols_sscaled|\n",
      "+------------+---------------+-----------+----------+-----------+-------+--------------+-----------+---------+------------+---------------+-----------------+--------------------------------+----------------------------+-------------------+--------------------+---------------------+----------------------------+----------------------+-------------------------+---------------------+---------------+--------------+--------------+---------------------+-------------------+----------------+--------------------+\n",
      "|        20.0|              1|          7|      2021|13.80287539|      0|             1|100.5699943|2500000.0|       false|              2|                0|                             0.0|                         0.0|                2.0|                 0.0|                  0.0|                         0.0|                1588.0|            (1,[0],[1.0])|        (3,[0],[1.0])| (88,[2],[1.0])|(16,[0],[1.0])| (2,[0],[1.0])|        (2,[0],[1.0])|(1685,[1588],[1.0])|             0.0|[-0.0204617075181...|\n",
      "|        20.0|              1|         20|      2016|13.71397143|      0|             1|100.4718368|2000000.0|       false|              7|                0|                             0.0|                         0.0|               13.0|                 0.0|                  0.0|                         0.0|                 442.0|            (1,[0],[1.0])|        (3,[0],[1.0])|(88,[13],[1.0])|(16,[0],[1.0])| (2,[0],[1.0])|        (2,[0],[1.0])| (1685,[442],[1.0])|             0.0|[-0.0204617075181...|\n",
      "|        20.0|              1|         38|      2018|  13.698429|      0|             1| 100.604787|3900000.0|       false|              5|                0|                             0.0|                         0.0|                4.0|                 0.0|                  0.0|                         0.0|                  21.0|            (1,[0],[1.0])|        (3,[0],[1.0])| (88,[4],[1.0])|(16,[0],[1.0])| (2,[0],[1.0])|        (2,[0],[1.0])|  (1685,[21],[1.0])|             0.0|[-0.0204617075181...|\n",
      "|        21.0|              1|          1|      2014|13.80616955|      0|             1|100.5289486|1990000.0|       false|              9|                0|                             0.0|                         0.0|                8.0|                 0.0|                  0.0|                         0.0|                 506.0|            (1,[0],[1.0])|        (3,[0],[1.0])| (88,[8],[1.0])|(16,[0],[1.0])| (2,[0],[1.0])|        (2,[0],[1.0])| (1685,[506],[1.0])|             0.0|[-0.0202046403778...|\n",
      "|        21.0|              1|          1|      2015|  13.742949|      0|             0| 100.588961|3500000.0|       false|              8|                0|                             0.0|                         0.0|                0.0|                 0.0|                  0.0|                         0.0|                   0.0|            (1,[0],[1.0])|        (3,[0],[1.0])| (88,[0],[1.0])|(16,[0],[1.0])| (2,[0],[1.0])|        (2,[0],[1.0])|   (1685,[0],[1.0])|             0.0|[-0.0202046403778...|\n",
      "|        21.0|              1|          1|      2016|  13.737126|      0|             1| 100.745827| 970000.0|       false|              7|                0|                             0.0|                         0.0|               29.0|                 0.0|                  0.0|                         0.0|                  95.0|            (1,[0],[1.0])|        (3,[0],[1.0])|(88,[29],[1.0])|(16,[0],[1.0])| (2,[0],[1.0])|        (2,[0],[1.0])|  (1685,[95],[1.0])|             0.0|[-0.0202046403778...|\n",
      "|        21.0|              1|          2|      2011|  13.788892|      0|             1| 100.580659|1890000.0|       false|             12|                0|                             0.0|                         0.0|                0.0|                 0.0|                  0.0|                         0.0|                 546.0|            (1,[0],[1.0])|        (3,[0],[1.0])| (88,[0],[1.0])|(16,[0],[1.0])| (2,[0],[1.0])|        (2,[0],[1.0])| (1685,[546],[1.0])|             0.0|[-0.0202046403778...|\n",
      "|        21.0|              1|          2|      2014|13.68428388|      0|             0|100.6040554|1490000.0|       false|              9|                0|                             0.0|                         0.0|                4.0|                 0.0|                  0.0|                         0.0|                  27.0|            (1,[0],[1.0])|        (3,[0],[1.0])| (88,[4],[1.0])|(16,[0],[1.0])| (2,[0],[1.0])|        (2,[0],[1.0])|  (1685,[27],[1.0])|             0.0|[-0.0202046403778...|\n",
      "|        21.0|              1|          2|      2014|13.68524746|      0|             0|100.6042924|1610000.0|       false|              9|                0|                             0.0|                         0.0|                4.0|                 0.0|                  0.0|                         0.0|                  33.0|            (1,[0],[1.0])|        (3,[0],[1.0])| (88,[4],[1.0])|(16,[0],[1.0])| (2,[0],[1.0])|        (2,[0],[1.0])|  (1685,[33],[1.0])|             0.0|[-0.0202046403778...|\n",
      "|        21.0|              1|          2|      2016|  13.737126|      0|             0| 100.745827|1200000.0|       false|              7|                0|                             0.0|                         0.0|               29.0|                 0.0|                  0.0|                         0.0|                  95.0|            (1,[0],[1.0])|        (3,[0],[1.0])|(88,[29],[1.0])|(16,[0],[1.0])| (2,[0],[1.0])|        (2,[0],[1.0])|  (1685,[95],[1.0])|             0.0|[-0.0202046403778...|\n",
      "+------------+---------------+-----------+----------+-----------+-------+--------------+-----------+---------+------------+---------------+-----------------+--------------------------------+----------------------------+-------------------+--------------------+---------------------+----------------------------+----------------------+-------------------------+---------------------+---------------+--------------+--------------+---------------------+-------------------+----------------+--------------------+\n",
      "only showing top 10 rows\n",
      "\n"
     ]
    }
   ],
   "source": [
    "final_Xtrain.show(10)"
   ]
  },
  {
   "cell_type": "code",
   "execution_count": 68,
   "metadata": {},
   "outputs": [
    {
     "name": "stdout",
     "output_type": "stream",
     "text": [
      "+------------+---------------+-----------+----------+-----------+-------+--------------+-----------+---------+------------+---------------+-----------------+--------------------------------+----------------------------+-------------------+--------------------+---------------------+----------------------------+----------------------+-------------------------+---------------------+---------------+--------------+--------------+---------------------+------------------+----------------+--------------------+\n",
      "|living_space|bathroom_number|floor_level|built_year|   latitude|premium|bedroom_number|  longitude|    price|priceoutlier|age_of_property|high_level_binary|sub_property_type_string_encoded|property_type_string_encoded|city_string_encoded|state_string_encoded|tenure_string_encoded|listing_label_string_encoded|address_string_encoded|sub_property_type_one_hot|property_type_one_hot|   city_one_hot| state_one_hot|tenure_one_hot|listing_label_one_hot|   address_one_hot|living_space_bin|       Xcols_sscaled|\n",
      "+------------+---------------+-----------+----------+-----------+-------+--------------+-----------+---------+------------+---------------+-----------------+--------------------------------+----------------------------+-------------------+--------------------+---------------------+----------------------------+----------------------+-------------------------+---------------------+---------------+--------------+--------------+---------------------+------------------+----------------+--------------------+\n",
      "|        20.0|              1|         23|      2013|  13.825072|      0|             2|  100.53759|3450000.0|       false|             10|                0|                             0.0|                         0.0|                8.0|                 0.0|                  0.0|                         0.0|                 118.0|            (1,[0],[1.0])|        (3,[0],[1.0])| (88,[8],[1.0])|(16,[0],[1.0])| (2,[0],[1.0])|        (2,[0],[1.0])|(1685,[118],[1.0])|             0.0|[-0.0198454922997...|\n",
      "|        21.0|              1|          1|      2016|  13.737126|      0|             0| 100.745827| 990000.0|       false|              7|                0|                             0.0|                         0.0|               29.0|                 0.0|                  0.0|                         0.0|                  95.0|            (1,[0],[1.0])|        (3,[0],[1.0])|(88,[29],[1.0])|(16,[0],[1.0])| (2,[0],[1.0])|        (2,[0],[1.0])| (1685,[95],[1.0])|             0.0|[-0.0197634321739...|\n",
      "|        21.0|              1|          1|      2018|  13.698429|      0|             1| 100.604787|3900000.0|       false|              5|                0|                             0.0|                         0.0|                4.0|                 0.0|                  0.0|                         0.0|                  21.0|            (1,[0],[1.0])|        (3,[0],[1.0])| (88,[4],[1.0])|(16,[0],[1.0])| (2,[0],[1.0])|        (2,[0],[1.0])| (1685,[21],[1.0])|             0.0|[-0.0197634321739...|\n",
      "|        21.0|              1|          2|      2018|  13.790007|      0|             1| 100.583207|1890000.0|       false|              5|                0|                             0.0|                         0.0|                0.0|                 0.0|                  0.0|                         0.0|                 550.0|            (1,[0],[1.0])|        (3,[0],[1.0])| (88,[0],[1.0])|(16,[0],[1.0])| (2,[0],[1.0])|        (2,[0],[1.0])|(1685,[550],[1.0])|             0.0|[-0.0197634321739...|\n",
      "|        21.0|              1|          5|      2017|  13.679495|      0|             0|  100.62431|1400000.0|       false|              6|                0|                             0.0|                         0.0|                4.0|                 0.0|                  0.0|                         0.0|                 386.0|            (1,[0],[1.0])|        (3,[0],[1.0])| (88,[4],[1.0])|(16,[0],[1.0])| (2,[0],[1.0])|        (2,[0],[1.0])|(1685,[386],[1.0])|             0.0|[-0.0197634321739...|\n",
      "|        21.0|              1|          6|      2016|  13.733237|      0|             0| 100.526269|4890000.0|       false|              7|                0|                             0.0|                         0.0|               17.0|                 0.0|                  0.0|                         0.0|                  25.0|            (1,[0],[1.0])|        (3,[0],[1.0])|(88,[17],[1.0])|(16,[0],[1.0])| (2,[0],[1.0])|        (2,[0],[1.0])| (1685,[25],[1.0])|             0.0|[-0.0197634321739...|\n",
      "|        21.0|              1|         10|      2014|13.72019284|      0|             0| 100.502708|2500000.0|       false|              9|                0|                             0.0|                         0.0|                9.0|                 0.0|                  0.0|                         0.0|                 255.0|            (1,[0],[1.0])|        (3,[0],[1.0])| (88,[9],[1.0])|(16,[0],[1.0])| (2,[0],[1.0])|        (2,[0],[1.0])|(1685,[255],[1.0])|             0.0|[-0.0197634321739...|\n",
      "|        21.0|              1|         11|      2014| 13.7042193|      0|             0|100.6021733|2790000.0|       false|              9|                0|                             0.0|                         0.0|                4.0|                 0.0|                  0.0|                         0.0|                  19.0|            (1,[0],[1.0])|        (3,[0],[1.0])| (88,[4],[1.0])|(16,[0],[1.0])| (2,[0],[1.0])|        (2,[0],[1.0])| (1685,[19],[1.0])|             0.0|[-0.0197634321739...|\n",
      "|        21.0|              1|         18|      2015|  13.717098|      0|             0| 100.482343|2100000.0|       false|              8|                0|                             0.0|                         0.0|               13.0|                 0.0|                  0.0|                         0.0|                   0.0|            (1,[0],[1.0])|        (3,[0],[1.0])|(88,[13],[1.0])|(16,[0],[1.0])| (2,[0],[1.0])|        (2,[0],[1.0])|  (1685,[0],[1.0])|             0.0|[-0.0197634321739...|\n",
      "|        21.0|              1|         20|      2014| 13.7042193|      0|             0|100.6021733|3490000.0|       false|              9|                0|                             0.0|                         0.0|                4.0|                 0.0|                  0.0|                         0.0|                  19.0|            (1,[0],[1.0])|        (3,[0],[1.0])| (88,[4],[1.0])|(16,[0],[1.0])| (2,[0],[1.0])|        (2,[0],[1.0])| (1685,[19],[1.0])|             0.0|[-0.0197634321739...|\n",
      "+------------+---------------+-----------+----------+-----------+-------+--------------+-----------+---------+------------+---------------+-----------------+--------------------------------+----------------------------+-------------------+--------------------+---------------------+----------------------------+----------------------+-------------------------+---------------------+---------------+--------------+--------------+---------------------+------------------+----------------+--------------------+\n",
      "only showing top 10 rows\n",
      "\n"
     ]
    }
   ],
   "source": [
    "final_Xtest.show(10)"
   ]
  },
  {
   "cell_type": "markdown",
   "metadata": {},
   "source": [
    "### Machine Modelling"
   ]
  },
  {
   "cell_type": "markdown",
   "metadata": {},
   "source": [
    "### Linear Regressor"
   ]
  },
  {
   "cell_type": "code",
   "execution_count": 69,
   "metadata": {},
   "outputs": [],
   "source": [
    "from pyspark.ml.regression import LinearRegression\n",
    "\n",
    "regressor=LinearRegression(featuresCol=\"Xcols_sscaled\", labelCol='price')\n",
    "regressor=regressor.fit(final_Xtrain)"
   ]
  },
  {
   "cell_type": "code",
   "execution_count": 70,
   "metadata": {},
   "outputs": [
    {
     "data": {
      "text/plain": [
       "pyspark.ml.regression.LinearRegressionModel"
      ]
     },
     "execution_count": 70,
     "metadata": {},
     "output_type": "execute_result"
    }
   ],
   "source": [
    "type(regressor)"
   ]
  },
  {
   "cell_type": "code",
   "execution_count": 71,
   "metadata": {
    "scrolled": true
   },
   "outputs": [
    {
     "data": {
      "text/plain": [
       "DenseVector([44163.2424, 5480382.7702, 300779.5164, 306093.8338, 262281.5969, -75846.0234, 1577930.0374, -462314.1087, 5103657.0466, -306093.8337, 4019.9716, -53853.6859, -1388649.1467, -453385.7699, -79406.4494, -42268.888, 103840.2576, -2441664.9457, 53853.6859, -714370.2491, 2166113.4837, 1473305.4041, -397976.6284, 1042833.0133, -254477.2549, 942097.7861, 81719.7238, 262925.8917, -715772.14, -303076.1778, -570523.6978, 24010.425, -30586.236, -422039.0843, 143679.1244, -293374.0429, -237586.1187, 229066.6604, -169290.4671, 438316.0752, -26102.3872, 761213.631, -253227.9703, -436008.0761, 209367.9485, -173270.7884, -295125.0464, 1308478.74, -218201.2924, -180314.5111, -336687.7639, -132706.9596, -108115.0655, 2215.565, -124668.9152, -99102.6266, -101961.6125, -115773.5565, 30431.5314, -19349.5943, -722.7101, -154641.2282, -266382.0342, 58917.5091, -19767.117, -45657.534, -65788.4159, 80398.3696, -94671.029, -56813.3913, -201179.9824, -276761.9346, -41015.7217, 116989.5801, -273657.8438, -10100.4368, -28612.3988, -64852.4782, -42081.1604, -52380.0498, 101829.9138, -7727.4172, 15414.8966, -114054.4326, -85083.7571, 14616.1745, -27032.3627, -146668.3467, -167234.8876, 49471.7523, -176898.4777, -158933.7523, -2460.2748, -82349.4663, -55038.4466, 45280.064, 42171.8154, -59774.2066, 57609.4109, 34787.4515, 47050.6393, 56205.5625, 39758.7161, 38933.2357, -42802.8148, 42462.8772, -53214.2095, 27352.8793, 0.0, 9589.0539, 161785.6389, -108746.5696, -210992.5257, 167595.4611, -108115.0655, -68279.0431, 93452.4689, -37216.7797, 116989.5801, -5527.1024, -79480.1713, -139965.0932, 59451.6004, 34787.4515, 47050.6393, 56205.5625, 37711.4337, -30870.0564, -3738.3392, -97410.118, -221405.8214, -224126.18, -42866.7963, -204367.1666, -548178.8409, -203074.8287, 1911501.3432, -23312.8818, -23738.2846, 98394.0174, 73886.8567, -17932.3503, 3462.9544, -356950.7689, 29495.5119, -119015.72, -168114.8357, -99944.6584, -16954.2109, -122013.2655, -432852.9427, -147778.3853, 153918.537, 429529.0919, -50930.5524, -104066.2081, -404582.2263, -152304.2378, 17256.8632, -289507.9725, -229421.1243, -31308.6679, 356391.6296, -184789.6722, -69829.2643, -92518.7936, -4476.2441, -97964.3562, -119237.7614, -43635.589, -137192.6495, -68560.8815, 271840.2717, -144656.4642, 1084.2046, 22453.0629, 771373.6998, -32863.9076, -5326.7001, -38347.6299, -67245.9482, -230032.4984, 63762.2046, -70632.9454, -39759.7927, -65979.5912, -89102.7838, 57777.407, 39749.8, -63685.479, -70943.8862, -13639.1695, 16946.9442, -12814.0323, 19865.4099, -30235.4083, -63016.0511, -80140.7404, -263345.4619, -164685.0231, 93405.8413, -3481.6283, 46753.6077, -158578.7782, 17298.5331, 56498.5156, 1819.3496, -97107.7077, -14654.9095, -680938.1021, 3593.0828, 49476.8843, 49309.36, -42435.1876, 51211.4064, 12685.8147, 294701.7417, -12404.2507, 55657.0747, -54914.3293, -47181.1238, 202970.3767, -83210.1877, -192708.3293, -16201.0292, -76847.0107, -137942.5417, 39981.2535, 17901.1759, 5206.2589, -131287.4402, 46059.1218, 108188.9318, -129416.9677, 29493.569, 51739.1169, -44533.0929, 70799.3072, 53595.8119, -116192.5375, -174267.7711, 70040.2374, 93737.7101, -130329.9824, -146968.1317, 4378.8979, -536285.6434, -58299.4471, 45384.4555, -5546.3311, -9566.226, -68513.2633, -137811.5033, 192800.2268, 203560.8992, 12817.0242, -78966.8231, -16903.3195, -218152.0327, -113475.1909, -47154.9303, 801559.1903, -89173.0182, 456505.1294, -55649.4164, -7238.8941, 17198.2387, 131731.9008, 777625.2842, 3460.3222, -46271.4661, -9190.1335, 398087.1996, -140252.8433, 2768321.0537, 71148.9196, 56780.4905, -11074.5429, -720243.8362, -126656.7117, -69120.8346, 22394.5267, 138371.1972, 81435.2555, 56615.6668, 22640.2725, -26625.0329, 56335.4573, 14913.7655, 44817.0723, 45708.2439, -10448.3769, -67539.9764, -101327.7344, 38992.0777, 84604.0212, -564675.9446, 137441.1736, -115762.3365, -35686.4246, -27348.0413, 223578.9818, 61964.5881, 63776.3051, 26651.3657, 27864.2186, 119272.1157, 534831.1469, -125394.8044, 183416.5455, -56148.41, -22879.454, 80629.6613, 15858.1324, 8080.4172, 19514.9055, -100266.8479, 51993.8267, 52463.8678, 35927.3156, -88954.3954, 5802.7481, 27532.4052, 34503.4163, 56146.2526, 7915.3789, 26035.695, 146247.1762, -80522.6463, 220047.5569, -38054.0025, -8871.3047, -53131.2556, -98550.3584, -29954.5651, 69666.3703, 347445.9369, -54271.0947, -72166.4932, 94185.8557, 33354.8972, 33264.2849, -6151.8394, 84110.9996, 16860.0143, -39426.9414, -199784.1505, -120074.6902, -785017.2639, -115896.7867, 86210.3775, 33746.5106, -11719.9448, 83046.6682, -19060.0051, 77862.5726, -78409.1508, -46187.0912, 125972.7977, -8537.1168, -41360.9036, 120287.6471, 80856.3424, 71951.0475, 8288.0432, -361483.0406, -31841.4819, 10941.2602, 2837.2375, 46885.3836, 45108.9366, 123373.3799, -19739.091, -72054.5823, 24604.7057, -101983.2264, 53655.937, 241388.8269, -25036.2539, -53855.1191, 66300.2291, -32570.8916, -14210.4624, 43783.5007, -31662.4385, -32776.626, -3839.5067, 703087.7671, -63850.6148, 35998.5323, 22037.7386, 131421.0792, 257310.2103, -12144.9116, 4997.302, 187646.9286, 61097.2312, 46786.2055, 8014.5287, 51103.7694, 81383.8532, -1192.4914, -56689.8186, 48490.6718, -6393.4825, 71824.331, -9790.2962, 39395.2997, -90025.0881, 368932.2848, -19915.8206, 327558.3688, 31411.1949, 75817.8059, -35119.4642, 70924.5965, -644201.0675, -1275.2161, 189538.4426, 42468.1259, 60637.8772, 65037.5942, 8743.6745, -12999.4889, -7892.0516, -32677.6748, 25008.795, 14881.9693, 311703.1136, 81574.0669, 16261.0421, 71193.5587, -66208.1625, -148794.2713, 54230.1493, -384166.7842, 9466.3002, 37948.5792, -20028.452, 67210.182, 42584.2775, 100486.5801, 99637.2696, 44119.169, -12587.6169, 246496.9348, 66834.9465, 525865.7811, -134411.9438, 48463.4572, -23195.7339, 11995.3317, 62870.9816, 17649.9031, 10258.951, -30606.4874, 45231.6561, 47429.0131, 80612.1906, 27305.0295, 8003.0594, 34583.5867, 71671.3641, 452251.6072, -56293.4207, 55707.4258, 14248.9167, 38615.487, 2622349.3432, 131973.3698, 95266.2945, -14218.4215, -34293.5389, 118967.9091, 20715.8155, -36765.7832, 69029.5906, 28725.741, -1581.6041, 9329.694, 106183.6652, 22622.9446, 84850.7307, 23211.0989, 63261.0191, 179687.7545, 50736.1061, -14832.1318, -37872.0016, 56843.494, -26512.7074, -33399.5646, 65967.5232, 451541.8606, 38679.4941, -3275.2545, 81334.5906, 50653.77, 54964.263, 56714.6828, -111600.6482, 8656.4921, 1253.4823, 81080.01, 13603.3799, 990742.9381, 109340.7519, 60393.7316, 23429.2591, 108622.1285, -781.5849, -84515.3149, 64077.2732, 46265.0132, 30001.7214, 1039861.8104, -33879.8766, 91839.9049, 7152.7742, -7790.3204, 64407.6664, 71896.3644, -115885.6936, 15007.8691, 85118.1235, 45789.171, -19293.3126, 1614795.3499, 221690.3979, 50548.4981, 131465.4378, 107047.0786, 79857.1308, -3166.7258, 109597.7291, 85822.7471, 88867.7564, 79715.0033, 729612.4434, -220148.0814, 134134.497, 150082.4832, 9658.5172, -80.2801, 54691.1821, 7222.9889, 43185.8392, 3870.6724, 66132.396, 91058.226, -36531.4044, 26651.9763, 51387.5878, 22077.1347, 11927.8372, 49568.5679, 82330.1354, -57028.8427, 54910.0483, 72228.1939, -55092.4578, 12680.6767, 58984.1132, 50984.57, 31578.4767, -89908.3177, 785336.5547, 36661.1617, -617776.5988, -463749.2698, 7656.2628, 101132.7671, 55902.7705, 16826.4288, -19634.178, 5285.2694, 27780.3559, -7340.8954, 54108.5988, -20459.7614, -40051.3841, 72946.195, 68369.7102, 170923.2018, 48479.5541, 72843.1765, 164338.3498, 13177.8974, 16428.3947, 17415.6555, 28416.4162, 111434.0664, 55341.5146, -8860.0299, 108404.0665, 94253.4845, 3021.741, 53388.9045, 72811.8145, 121659.9382, 20823.0133, 44967.4009, 7753.0564, 88731.6425, 155723.8288, 112184.1861, 37778.2354, 112572.2851, 48397.4717, -398616.9278, -267183.3029, 84905.7178, -1150.9967, 27915.6688, 63253.9322, 109316.0687, 98729.8749, 61843.7485, 66111.3044, -441273.7811, -37381.8894, 84065.4219, 1566224.7021, 82543.6366, 83319.8502, -399049.7142, 47369.8221, -379502.5206, 28686.4442, 41243.8478, 79438.8246, 12309.3398, 38774.2338, 87334.7089, 183994.864, 35034.4052, 103237.8521, 125101.2538, -128488.941, 26798.1045, 450353.7767, 300299.6084, 86062.9748, -50583.5428, 67046.9728, -56119.6331, 27915.8624, 22194.6005, 26041.044, 19615.2668, 1256679.8014, 42943.0847, 67671.467, 62860.3524, 182841.5485, 85057.0732, -34190.0094, 57111.6404, -23015.246, 26805.9415, -46734.9191, -23747.9479, 45101.5947, 77529.7833, -26789.3111, 48472.1458, 72222.2842, 64658.5778, -29424.0289, 80753.4267, 12832.066, 48071.0353, 31397.7866, 253359.2138, -417900.798, 207922.9919, 55878.2257, 125396.0078, 103516.376, 135917.3594, 25143.7478, 79777.0091, 89316.512, -4807.4346, 49192.8606, 11478.8908, 48693.0217, 491878.4296, 36799.8137, 200992.4079, 79621.7096, 61257.343, 45894.5002, 2467.4787, 8820.1602, 48118.5241, 88277.984, 38499.2607, 9324.4696, 94840.1004, 48591.1535, 42398.8048, 132470.8318, 57535.1597, -147147.6407, 64218.5917, -287543.1395, 39355.8423, 73114.4077, 21304.265, 10081.0559, 25231.976, 63705.4151, 139588.412, -83887.9564, 94008.2744, 85070.6788, 53862.2934, 53121.7627, -32200.4588, 26301.4955, 57493.563, 61814.8471, 33499.3989, 87695.679, 65362.8867, 99552.0823, 59583.1971, 66923.5695, 117590.1723, 124463.7446, 51345.7423, -23684.485, 107958.9309, -2142.1536, 30749.3007, 49019.5447, 110194.8301, 31755.9443, 60427.0721, 25139.8881, 697268.3266, -214001.2424, -355232.9442, 24227.3082, 88802.8136, 26183.3551, 77973.3592, 31002.7452, 89623.7083, 61817.9322, -8494.1427, 22752.2328, 40478.5921, 57581.9412, 100749.4323, 98437.6946, 34046.7548, 52479.0811, 12869.3738, 1451.3118, 959.3427, -119705.0053, -125682.2226, -344348.6855, -262437.0838, 38869.3249, 70597.9356, 58557.3252, -249197.8378, 63998.8622, 23569.6723, 52839.9261, 77152.7279, 110314.6692, 96924.0326, -278509.4699, 23495.4159, 47409.3019, 31345.3435, 79527.0792, 20797.0156, 49471.7523, 14470.0618, 88917.045, 104575.3375, 81751.9732, -31582.5931, 6257.1093, -211281.5723, 93602.0969, 17275.5758, -28308.9832, 64754.9976, 158494.36, 160598.3705, 85602.4661, -108916.6287, 99043.7306, 56626.9747, 95444.1174, 71888.3378, 97569.226, 41652.6167, -103672.5201, 16679.596, 44442.7668, 25504.5465, 38565.5092, 24218.1609, 38871.7203, 36957.7591, 44130.1129, 57265.0543, 75268.4054, 60932.0124, 49188.605, 29388.064, 50872.1206, 6863.8147, 133862.3577, 55829.8463, 67486.1274, 82828.6186, 55031.7491, 5292.5188, 66201.4449, 69641.0634, -91917.1863, -290814.7664, 15255.9859, -313596.9837, -263614.9253, 91468.8695, -422581.7644, 62074.0151, 5681.4042, 84277.591, -282004.0931, 160412.515, -264831.7513, 84626.0455, -344138.5343, 21344.5625, 351032.1631, -159771.1724, 78681.0204, 114001.0116, 104441.8578, 63086.0035, 83192.4064, 40029.721, 47567.1462, 77188.9449, 79061.274, 75815.1665, 30386.2911, -138061.2855, 79680.125, 170318.3628, 77032.1369, 24724.6656, 42819.0184, 48031.0613, 68366.0945, 75192.6547, 50663.5563, 58908.3442, 251919.676, 67329.1703, 133738.6301, -237677.0823, 39075.4555, 36040.5612, 78538.1432, 66366.1676, -99721.7112, 97936.76, -206643.2417, -253810.2958, -467615.6072, -245099.1023, -69007.3506, 43051.3418, 9381.9795, 49151.624, -412016.8862, 15005.0185, 80622.7409, 51373.9315, 80600.7076, 21783.0821, 66502.994, 47774.0521, 142953.6201, 98528.8156, 82938.2192, 31544.2688, 106993.124, 177702.7459, 87664.9976, 59333.1467, 66366.9339, 61193.7008, 108423.3712, 163021.5525, 65716.6976, 87395.5645, 58631.262, 67086.0945, 95717.4915, 83823.5831, 127483.9232, 105617.6912, 43175.1599, 259745.9492, -2488.7735, -361881.9652, -314824.0259, -6080.0469, 37439.2115, 44714.5096, 91589.0144, -362545.9801, -178399.3159, -129927.988, -205416.2592, -205598.2691, 50660.5824, 9106.92, 31534.3759, -160179.5581, 55724.6134, 44858.1304, 65620.9159, 43990.4799, 79410.2484, 48145.3703, 33214.5101, 100636.8769, -1727.4892, 179400.1678, 38724.2024, -16106.707, 16669.9885, 74731.9109, 1391112.1848, 71392.5171, 76471.9793, 63419.0066, 50969.4753, 66184.9988, 117309.9657, 78527.5475, 39226.6757, 180263.3502, 62121.988, -182074.1275, -297521.9562, 36591.9032, 19993.0008, 59451.4712, 65376.2958, -177701.0842, 70793.9251, 95534.6033, 23894.1364, 98850.8666, 61088.548, 54355.3177, 78002.0356, 46719.9225, 79605.0432, -286026.5267, 59435.8264, 319728.0942, 93623.2394, 7681.4572, 58188.8912, 6238.2518, 38717.0039, 35236.8112, 58628.8721, 70292.2331, 6910.7249, 50267.8914, 53948.8661, -34020.4109, 83898.0175, 2210.5526, 11405.2569, 95201.5785, 108426.2649, 67813.9472, 79492.8147, 4521.3284, 92528.6207, 109061.6283, 55658.9637, 89799.6499, 74560.0036, -21869.0943, 30407.8385, 95981.5075, 246238.7172, 96156.9892, 76361.6824, -246084.3039, 102093.7545, -118200.8008, 61412.9075, 34278.7552, 126413.1777, 67117.3624, 86186.6996, 30355.798, 71190.4234, -161470.9379, -978.6373, 62927.3923, 72807.0881, 34650.2339, -281015.9489, -202471.0405, -185820.0435, 39685.175, 73332.4705, 66582.2819, 111434.7367, 41890.3123, 41373.8839, 91846.5157, 67579.6028, 15013.2218, 73424.4216, 115614.9308, 64419.0621, 118883.486, 26517.2589, 79647.799, 46419.0391, 99630.2014, 63437.6748, 64405.4716, 2213.9515, 83641.6268, 7561.7876, 32091.0533, 66262.8106, 77217.2392, -51648.8395, 150869.5053, 99647.3424, -229869.7045, -71793.1619, 96661.611, 101573.8547, -9314.8915, -130143.2904, -278058.7851, 4669.2673, 98707.9984, 97365.6155, -102295.1631, -208702.0826, 54444.1747, 71635.1598, 62823.6675, -178596.4784, 71873.955, -214285.9045, 68556.7291, 161692.152, 9667.5101, 109802.806, 62059.7963, -216458.4652, -220244.8512, 46806.2924, 116209.2281, -221534.5415, 154524.3327, 20918.2541, 71788.7177, -254509.6355, 135335.399, 25761.2789, -166348.4712, 64665.9346, 47866.9324, 18415.6873, 67953.5449, 59247.7525, 144631.0425, 67884.8414, 71713.274, 78033.5635, 67325.0134, 90567.3061, 96271.9689, -214757.5858, 70262.1269, 261541.5032, 27081.8826, 45626.4451, -191356.0724, -94262.395, 66979.436, 108128.6721, 68011.5003, -192668.2792, 93516.9157, 40337.1178, -264268.8083, 44766.9861, 95588.1629, 67411.6883, 121989.9049, 80194.2972, 64669.7324, -140446.0983, -142269.104, 100078.1109, 98612.3404, -24160.3411, -221573.1176, -290627.1418, -247676.2854, -248008.5446, -217028.2109, 69876.7997, -62004.4636, 45287.9325, -154807.8569, -110467.5586, -247853.3645, -78112.1015, 95838.3108, -111459.7863, 30071.2675, -233296.3602, -58041.1798, -61572.6113, -34318.9948, 73442.7772, -217971.6276, 78614.9778, -143988.2887, 84051.8161, -136627.6378, 65636.3996, 69804.6315, 73111.5778, 21328.6221, 51116.4868, 29839.2704, 74393.2568, 5960.5917, 35343.7516, 54229.3649, 42597.8552, 96098.7965, 55391.297, 119683.9697, 50661.3957, 65110.1357, 102747.5134, 82211.7991, 19689.7758, 61003.0378, 371872.0456, 46886.1787, 122500.5167, 110096.0873, 87359.1535, 74865.5752, 33192.2862, 39266.354, 41276.8772, 75229.9426, 76825.7862, 49251.8551, -39122.0482, -211527.0758, 22866.4475, 121103.4845, 424781.2245, -78898.8666, 73948.9813, -92001.2145, -194758.8829, -35162.0771, 56642.6352, 2375.6379, 72059.1574, 41718.7038, 43643.1551, -123281.0736, -420974.2738, -129023.6253, 73563.3309, 90431.0071, 43224.1298, 83293.7038, -52127.2854, 104143.4206, 11121.2484, -116628.9714, -108963.6831, -175424.0439, 42171.8154, -79538.3988, 78991.4541, 20714.6794, 19041.1119, -74488.467, 65364.3571, -142240.9388, -235067.2277, 52456.6427, -159744.0521, -148755.4587, 69511.1672, 90329.372, -59774.2066, 72514.4767, 39192.0418, -146225.1369, 42008.4164, 4671.6353, 95332.014, 27612.9988, 51530.3982, -195104.5268, 69899.2439, 76057.5982, 64538.2199, 64249.1965, 74979.615, 82046.9101, 32155.3914, 81936.9901, 67962.7842, 47344.475, 66995.486, 100576.6428, 74936.4446, 16558.3182, 58114.4809, 65961.6486, 89931.7704, 93706.0945, 85886.7582, 77069.0651, 92356.157, 170991.834, 23361.3806, 44015.4535, -174386.9621, 35190.8345, 62147.7092, 43282.525, 69014.7334, 57333.5839, 48685.4518, 25711.5409, 24652.801, 40147.5995, 44119.7929, 83695.3789, 64118.8009, 120724.41, 17900.8405, 4934.4568, -43082.1674, 104333.0761, -93826.0264, 59354.6895, -162482.6359, 48867.5016, 65432.7493, -63287.8562, 22893.2539, 59770.2363, -179033.4071, -147456.9813, 122953.8965, 49728.6349, 20787.1673, -53141.8456, 185876.841, -156306.9284, 69862.2906, 67847.958, 80060.3769, 39730.1023, 63978.3823, 74649.7198, 63434.913, -112662.4004, -57417.9236, 95074.5555, 59259.7644, -156093.7478, -26772.3765, -94366.0259, 47964.7378, 18775.9667, 124964.6626, -44411.2244, 74772.2284, 93680.782, -103564.3112, 47241.0131, -218585.546, 94102.0679, -18492.4853, 103694.7576, 58354.5204, -119390.0257, 60460.694, 72917.5981, -136306.4623, 160615.9147, 84642.4695, 86402.4324, 65625.7901, -856.4415, 10313.6365, -7729.6076, -75473.6132, -66878.276, 63175.2368, 107129.6359, 39891.563, -146649.0056, -169749.1335, 35189.9905, -132243.5959, -115352.0726, 38228.3512, 107993.8431, 29473.5782, -71699.4455, -115518.4394, -112860.7411, 26536.4276, 88740.1107, 29264.5691, -74140.7132, 55308.0523, -163834.7401, 180585.1924, 45341.1197, 35197.6756, 126387.8003, 64743.3739, -221262.2518, 82343.4585, -1163.44, 96253.3495, 40885.7686, 106927.4264, 64286.7677, 172625.7596, 84191.108, 77907.153, 79118.9676, 73181.3256, 66427.3674, 62659.0215, 48870.0804, 220193.2137, 44931.658, 22289.9673, 133563.0491, 0.0, 113180.9915, 53531.9866, 0.0, 72443.7826, 33614.2799, 64972.322, 116768.117, 64270.8857, 31446.6148, 22784.524, 74468.2175, 71620.9602, 35663.1403, 38968.6174, -14272.9204, 52104.9729, 43899.3056, 31961.3674, -141001.5375, 104001.5184, 90149.7796, 241526.274, -135789.2371, 61700.0197, 46276.1585, 42462.8772, -117138.0358, -84670.5736, 112355.9117, -154427.0127, 22515.2022, -35461.793, 35494.3942, 43985.5481, 54805.8997, 35397.747, 23006.7692, -104741.5388, 303271.9633, 48596.7175, 60496.2047, 51088.6166, 57156.7982, 76182.7688, -7019.5618, 36652.1471, -53214.2095, -127630.3819, -99706.9944, 91658.469, 79187.934, -106043.4963, -23122.3447, 218342.1206, -22458.318, -48118.6692, 77610.569, 102508.8414, -91690.291, 53047.1002, 19910.1329, 405547.8718, -39860.6918, 9051.4674, 1338719.8023, -35421.7606, -88311.11, 42948.1632, 930951.3925, 49156.1406, -83820.9087, -123859.0548, 38933.2357, -127130.1019, 142.9098, 54186.3315, 31708.4076, 57599.9006, 91856.9498, 100013.5131, 46592.0917, -72637.2497, -60126.578, -30323.3883, 58385.9994, -63754.7917, 35463.1068, 65363.9163, -134239.8069, 28283.854, 4452.269, -102908.174, -123909.5199, 80060.3504, 55209.2385, -137050.7544, -54356.8606, 39758.7161, 236461.416, -53746.7844, 90237.2497, -62492.1343, 77208.9339, -70530.2391, 64304.5775, 90803.7266, 78664.8505, 938798.7691, -27604.8775, 0.0, 94471.2614, -169598.955, -53739.4775, 76050.8305, -35249.3346, 92446.7279, -74389.0425, 89755.2881, 54964.5141, 112065.3599, 73990.9688, -90355.4939, -88706.5262, -20749.7975, 44413.2291, 0.0, 92894.118, 0.0, -76958.8077, -7871.6375, -54901.3473, -103612.8066, 2857.3713, -23904.5669, -61749.8323, 115183.4748, -54505.2349, -153718.087, 68049.0244, 100925.3995, -71372.7268, 21923.7324, -114488.4656, -36557.1324, -49961.875, 28917.5972, -24810.6363, 89772.2806, 51834.8644, 79326.8881, 79717.7475, 84140.4419, 57986.218, 78023.1721, 72082.8005, 0.0, 53100.5776, 85150.3002, 96850.5572, -17937.1504, -46372.9098, 61566.5516, 55028.1588, 44524.4997, 57698.4262, 21109.1572, 16039.1718, 77474.2586, 0.0, 64738.1823, 51334.5255, 56454.8006, 37020.0832, 37902.493, 54299.6606, 0.0, 0.0, 43120.7446, 53060.2364, 29630.5385, 66522.0495, 41489.294, 30336.3555, 0.0, 0.0, 39936.3495, 62378.1639, 28591.6417, 0.0, 61845.5783, 67694.8367, 31114.7634, 56480.7339, 77207.3421, 45327.4176, 57995.5935, 47418.735, -69066.3074, 54358.9728, 89760.1735, 36345.6423, 23315.0155, 142311.3345, 0.0, 97018.7035, -5427.7827, 41906.0661, 22273.3413, 67881.6105, 0.0, 51747.6673, 20075.6012, 48025.2335, -66263.1518, 51405.2951, 70861.6325, 47448.0196, 38720.3428, 129562.9121, 0.0, 11852.3294, 79921.5491, 52202.6603, 0.0, 51104.3766, 51555.4469, -22112.5088, 29999.7709, 65194.4217, 29286.0118, -20324.2345, 38627.8814, 46173.3465, -114369.5474, -87980.5526, 0.0, 56280.8224, 104791.3777, -34187.8606, 8807.6154, 88148.2856, 0.0, 0.0, 61240.8524, 89190.8063, 56275.7615, 54736.4869, 62685.6782, 0.0, 61862.0048, 0.0, 70548.6868, -90167.0769, 0.0, 73268.0939, -87585.4816, 0.0, 0.0, 48961.1832, -99727.3485, 52035.0231, 51579.8973, 55827.9028, 0.0, 0.0, 42847.6243, 76925.2313, -175473.3752, -39073.2167, -50939.1135, 46142.6177, 0.0, 51033.5219, 95554.3894, -71790.6945, -70105.3057, -85985.9133, -29245.906, -9629.743, 48117.1236, 75932.2325, -18965.8379, 0.0, 0.0, -32380.6087, 41493.9101, -253561.8584, -78437.6573, 51350.0685, 71460.0108, -57061.3338, 19762.6493, 0.0, -63910.3894, 27352.8793, 52193.7539, 60070.7063, 68597.4779, 64104.0356, 78151.0709, 79669.1736, 0.0, 9589.0539, 0.0, 85410.4158, 0.0, 0.0, -39032.136, 27704.5923, 0.0, 50859.3758, 0.0, 0.0, -82548.9005, -86001.0293, 0.0, -24785.7916, -72638.1592, -9322.8382, 84335.9249, 55848.8442, -17120.6292, -57373.1149, 0.0, 0.0, -40869.7619, 80896.8552, 0.0, 0.0, -20429.4285, 0.0, 56225.4515, -167981.3207, -168720.5193, 4587.0457, 0.0, 0.0, 0.0, 54819.7422, 0.0, 43164.9031, 46949.6987, 58809.1288, -28150.8006, -99830.681, 32965.7212, 62480.6642, -107086.1938, 54291.1159, -84229.0603, 63114.9055, 0.0, 64690.6285, 50411.2684, -46869.3776, 0.0, 18643.0999, 0.0, 0.0, -90738.3464, -14972.0112, -5612.8282, 72963.6711, 92000.9581, -45212.2815, -61646.2949, 20183.5149, 0.0, 0.0, -27559.2357, -21352.8148, 0.0, -43315.285, -7349.5622, 0.0, -39839.278, -22598.8545, 3150.0194, -87304.1738, -59292.917, 74729.7682, 76330.2593, -7889.5993, 33967.5135, 89991.8525, 42663.4871, 41706.6283, -112312.634, 19271.4791, -17306.7765, -70291.7741, 0.0, -55493.4153, -44647.1189, 74408.1332, 61480.4075, -75269.939, 42068.5476, -100696.7057, 74244.0154, 0.0, 411524.0072, 208196.1705, 68581.068, 79122.0204, 0.0, -1773.0199, 28422.4287, 93632.2829, 56746.0634, 100886.363, 0.0, 57591.446, 49587.305, -46608.7983, 0.0, 55911.403, 88591.9319, 75901.2992, 72517.5397, 48868.5149, 69453.6179, 81702.8036, 70529.3208, 0.0, 0.0, 77745.5766, 0.0, 78732.0139, 71717.3814, 80984.2768, 58463.0916, -25242.7073, -45663.4565, 0.0, 46514.5173, 142572.7731, 47198.1213, -1169385.8009])"
      ]
     },
     "execution_count": 71,
     "metadata": {},
     "output_type": "execute_result"
    }
   ],
   "source": [
    "# Coefficients\n",
    "regressor.coefficients"
   ]
  },
  {
   "cell_type": "code",
   "execution_count": 72,
   "metadata": {},
   "outputs": [
    {
     "data": {
      "text/plain": [
       "6590114.866469553"
      ]
     },
     "execution_count": 72,
     "metadata": {},
     "output_type": "execute_result"
    }
   ],
   "source": [
    "# Intercept\n",
    "regressor.intercept"
   ]
  },
  {
   "cell_type": "code",
   "execution_count": 73,
   "metadata": {
    "scrolled": true
   },
   "outputs": [
    {
     "data": {
      "text/plain": [
       "[Row(living_space=20.0, bathroom_number=1, floor_level=7, built_year=2021, latitude=13.80287539, premium=0, bedroom_number=1, longitude=100.5699943, price=2500000.0, priceoutlier=False, age_of_property=2, high_level_binary=0, sub_property_type_string_encoded=0.0, property_type_string_encoded=0.0, city_string_encoded=2.0, state_string_encoded=0.0, tenure_string_encoded=0.0, listing_label_string_encoded=0.0, address_string_encoded=1588.0, sub_property_type_one_hot=SparseVector(1, {0: 1.0}), property_type_one_hot=SparseVector(3, {0: 1.0}), city_one_hot=SparseVector(88, {2: 1.0}), state_one_hot=SparseVector(16, {0: 1.0}), tenure_one_hot=SparseVector(2, {0: 1.0}), listing_label_one_hot=SparseVector(2, {0: 1.0}), address_one_hot=SparseVector(1685, {1588: 1.0}), living_space_bin=0.0, Xcols_sscaled=DenseVector([-0.0205, -0.4321, -0.679, 1.6489, 0.0881, -0.1193, -0.3412, 0.0677, -0.0155, -1.6489, -0.1863, -0.0771, -0.1826, -0.7665, -0.2767, -0.059, -0.2868, 4.4246, 0.0771, 0.1936, -0.1441, -0.1265, -0.3561, -0.322, 3.5547, -0.276, -0.2191, -0.2001, -0.1909, -0.1798, -0.1776, -0.174, -0.1694, -0.1673, -0.1659, -0.161, -0.1593, -0.159, -0.1533, -0.1488, -0.1389, -0.1216, -0.1198, -0.1189, -0.1107, -0.1092, -0.1076, -0.1037, -0.1017, -0.0963, -0.0932, -0.0887, -0.0869, -0.0864, -0.0821, -0.0804, -0.08, -0.0724, -0.0692, -0.0687, -0.062, -0.0582, -0.0569, -0.053, -0.0516, -0.0504, -0.046, -0.0422, -0.0422, -0.0364, -0.0356, -0.0339, -0.0352, -0.0325, -0.036, -0.0334, -0.0347, -0.0347, -0.0301, -0.033, -0.0325, -0.0275, -0.0263, -0.0233, -0.0233, -0.022, -0.0239, -0.022, -0.0182, -0.0182, -0.0174, -0.0145, -0.0165, -0.0165, -0.0134, -0.011, -0.0095, -0.0095, -0.0095, -0.0078, -0.0095, -0.0095, -0.0078, -0.0078, -0.0078, -0.0078, -0.0078, -0.0055, 0.0, -0.0055, 0.3644, -0.2159, -0.1945, -0.1263, -0.0869, -0.0689, -0.046, -0.0466, -0.0325, -0.0339, -0.0296, -0.0226, -0.0134, -0.0078, -0.0095, -0.0095, 0.0602, -0.0587, 0.2876, -0.2868, -0.4483, -0.0973, -0.0883, -0.0866, -0.0819, -0.0792, -0.0726, -0.0761, -0.0705, -0.0707, -0.0702, -0.0726, -0.0713, -0.0667, -0.0655, -0.0632, -0.0644, -0.0637, -0.0622, -0.061, -0.062, -0.0592, -0.0592, -0.0592, -0.0577, -0.0577, -0.0574, -0.0566, -0.0552, -0.0566, -0.0552, -0.0552, -0.0536, -0.0552, -0.0536, -0.0516, -0.0541, -0.0527, -0.055, -0.0524, -0.0536, -0.0521, -0.053, -0.0533, -0.0513, -0.051, -0.0536, -0.0521, -0.0507, -0.0504, -0.0485, -0.0498, -0.0492, -0.0495, -0.0507, -0.0495, -0.0476, -0.0476, -0.0495, -0.0463, -0.0488, -0.0453, -0.0485, -0.0473, -0.046, -0.0473, -0.0463, -0.0463, -0.0456, -0.0453, -0.0433, -0.0469, -0.046, -0.046, -0.0436, -0.046, -0.0453, -0.046, -0.0469, -0.0453, -0.0429, -0.0433, -0.045, -0.0456, -0.0422, -0.0446, -0.0433, -0.045, -0.046, -0.044, -0.0443, -0.0446, -0.0436, -0.0446, -0.0426, -0.046, -0.044, -0.0443, -0.0415, -0.0436, -0.0443, -0.0436, -0.0415, -0.0436, -0.0411, -0.0418, -0.0426, -0.0415, -0.0407, -0.0411, -0.0422, -0.04, -0.0388, -0.0392, -0.0411, -0.0415, -0.04, -0.0381, -0.0392, -0.0404, -0.0385, -0.0396, -0.04, -0.0364, -0.0407, -0.0396, -0.0385, -0.0404, -0.0411, -0.0381, -0.0396, -0.0377, -0.0392, -0.04, -0.0388, -0.0377, -0.0385, -0.0385, -0.0381, -0.0373, -0.04, -0.0381, -0.0373, -0.04, -0.0368, -0.0388, -0.0381, -0.0364, -0.0385, -0.0388, -0.0388, -0.0377, -0.0381, -0.0368, -0.0364, -0.0381, -0.0352, -0.036, -0.036, -0.0373, -0.036, -0.036, -0.0373, -0.0368, -0.0364, -0.0388, -0.0368, -0.0373, -0.0368, -0.0377, -0.0352, -0.0368, -0.036, -0.0381, -0.0352, -0.0364, -0.0364, -0.0352, -0.0356, -0.0356, -0.0364, -0.0343, -0.0343, -0.0356, -0.0334, -0.036, -0.0368, -0.0352, -0.036, -0.0347, -0.0356, -0.0352, -0.0352, -0.0347, -0.0352, -0.0356, -0.032, -0.0356, -0.0339, -0.036, -0.0343, -0.0334, -0.0339, -0.0343, -0.0325, -0.0347, -0.0347, -0.033, -0.0291, -0.0339, -0.033, -0.0339, -0.033, -0.0334, -0.0339, -0.0347, -0.0347, -0.0343, -0.033, -0.0343, -0.0347, -0.033, -0.0325, -0.032, -0.0334, -0.0334, -0.032, -0.032, -0.0339, -0.033, -0.033, -0.0306, -0.0315, -0.0315, -0.0325, -0.0306, -0.0315, -0.0315, -0.032, -0.0301, -0.0315, -0.033, -0.032, -0.0311, -0.0325, -0.0315, -0.033, -0.0311, -0.0339, -0.0291, -0.0315, -0.0306, -0.0315, -0.0306, -0.0325, -0.0339, -0.033, -0.0315, -0.0306, -0.0285, -0.0301, -0.0311, -0.0339, -0.0301, -0.0311, -0.0315, -0.0325, -0.0291, -0.0306, -0.032, -0.0291, -0.0311, -0.0306, -0.0311, -0.0285, -0.0311, -0.0315, -0.0334, -0.0301, -0.0315, -0.0311, -0.028, -0.0285, -0.0315, -0.0291, -0.0311, -0.0296, -0.0306, -0.032, -0.0315, -0.0306, -0.0315, -0.0311, -0.0311, -0.0311, -0.0296, -0.0301, -0.0263, -0.0285, -0.0296, -0.0301, -0.0306, -0.0291, -0.032, -0.0285, -0.028, -0.0291, -0.0291, -0.0296, -0.0301, -0.0301, -0.0306, -0.0285, -0.028, -0.0291, -0.0296, -0.0275, -0.0252, -0.0269, -0.028, -0.0269, -0.0285, -0.0252, -0.0258, -0.0306, -0.0269, -0.028, -0.028, -0.0291, -0.0269, -0.0285, -0.0269, -0.0269, -0.0275, -0.028, -0.0275, -0.0275, -0.0263, -0.0306, -0.028, -0.0285, -0.0285, -0.028, -0.028, -0.0291, -0.0263, -0.0285, -0.0269, -0.0263, -0.028, -0.0296, -0.0252, -0.0291, -0.0263, -0.0291, -0.0275, -0.0285, -0.0252, -0.028, -0.0269, -0.028, -0.028, -0.0263, -0.0269, -0.028, -0.0263, -0.0263, -0.028, -0.028, -0.0269, -0.0275, -0.0252, -0.0258, -0.0246, -0.0269, -0.0258, -0.0269, -0.0275, -0.0263, -0.0226, -0.0226, -0.0263, -0.0263, -0.0252, -0.0239, -0.0263, -0.0269, -0.0239, -0.0263, -0.0239, -0.0269, -0.0239, -0.0258, -0.0258, -0.0239, -0.0269, -0.0233, -0.0252, -0.0239, -0.0258, -0.0233, -0.0263, -0.0269, -0.0246, -0.0252, -0.0246, -0.0252, -0.0246, -0.0252, -0.022, -0.0258, -0.0233, -0.0246, -0.0258, -0.0269, -0.0239, -0.0239, -0.0226, -0.0239, -0.0239, -0.0258, -0.0252, -0.0246, -0.0239, -0.0239, -0.0213, -0.0252, -0.0226, -0.0239, -0.0226, -0.022, -0.0233, -0.0246, -0.022, -0.0233, -0.0239, -0.0233, -0.0213, -0.0239, -0.0233, -0.0226, -0.0239, -0.0252, -0.0233, -0.0233, -0.0213, -0.0239, -0.0233, -0.0213, -0.022, -0.0213, -0.022, -0.0213, -0.0226, -0.0239, -0.0233, -0.0233, -0.0226, -0.0226, -0.022, -0.0239, -0.0233, -0.0233, -0.0233, -0.0233, -0.0226, -0.0213, -0.0233, -0.0198, -0.0213, -0.022, -0.0233, -0.022, -0.022, -0.0233, -0.022, -0.0226, -0.022, -0.0246, -0.022, -0.0239, -0.0198, -0.0213, -0.022, -0.0198, -0.0233, -0.0213, -0.0213, -0.0233, -0.0198, -0.0233, -0.0213, -0.022, -0.022, -0.0226, -0.0226, -0.0233, -0.0233, -0.0233, -0.0226, -0.022, -0.0213, -0.0198, -0.022, -0.0198, -0.0205, -0.0233, -0.0205, -0.022, -0.0226, -0.0205, -0.0205, -0.022, -0.0213, -0.0213, -0.019, -0.0205, -0.0226, -0.0182, -0.0198, -0.022, -0.0226, -0.0205, -0.0182, -0.022, -0.0213, -0.0233, -0.0213, -0.0213, -0.019, -0.022, -0.0213, -0.0213, -0.0198, -0.0198, -0.0205, -0.0205, -0.0213, -0.0205, -0.0198, -0.0213, -0.0213, -0.0182, -0.019, -0.0198, -0.019, -0.0213, -0.0182, -0.0213, -0.022, -0.019, -0.0198, -0.019, -0.022, -0.0182, -0.0174, -0.0205, -0.022, -0.0213, -0.0213, -0.022, -0.0213, -0.0198, -0.0205, -0.0182, -0.019, -0.0198, -0.019, -0.0205, -0.0205, -0.019, -0.019, -0.0198, -0.0198, -0.0198, -0.0213, -0.0155, -0.0145, -0.019, -0.0165, -0.0205, -0.0174, -0.0198, -0.0198, -0.019, -0.0174, -0.0198, -0.0182, -0.0205, -0.0182, -0.0205, -0.019, -0.019, -0.019, -0.019, -0.019, -0.0198, -0.019, -0.019, -0.019, -0.019, -0.019, -0.019, -0.0174, -0.0174, -0.0182, -0.0174, -0.0165, -0.0174, -0.019, -0.0198, -0.0165, -0.0205, -0.0205, -0.0182, -0.0182, -0.0205, -0.0174, -0.019, -0.0198, -0.019, -0.0155, -0.0182, -0.0165, -0.019, -0.019, -0.0182, -0.019, -0.0174, -0.0165, -0.0165, -0.0174, -0.019, -0.0174, -0.0182, -0.0165, -0.0155, -0.0165, -0.0174, -0.0174, -0.0182, -0.019, -0.0165, -0.0182, -0.0182, -0.0182, -0.0174, -0.019, -0.0182, -0.0174, -0.0165, -0.0182, -0.0182, -0.0182, -0.0174, -0.0165, -0.0182, -0.0155, -0.0165, -0.0165, -0.0165, -0.0134, -0.0182, -0.0182, -0.0165, -0.0174, -0.0174, -0.0165, -0.019, -0.0155, -0.0182, -0.0174, -0.0174, -0.0165, -0.0165, -0.0182, -0.0182, -0.0174, -0.0174, -0.0165, -0.0174, -0.0134, -0.0145, -0.0174, -0.0165, -0.0155, -0.0165, -0.0155, -0.0174, -0.0155, -0.0165, -0.0165, -0.0134, -0.0174, -0.0165, -0.0174, -0.0182, -0.0165, -0.0174, -0.0145, -0.0182, -0.0165, -0.0174, -0.0182, -0.0165, -0.0165, -0.0182, -0.0165, -0.0155, -0.0174, -0.0174, -0.0165, -0.0155, -0.0174, -0.0174, -0.0174, -0.0145, -0.0155, -0.0165, -0.0182, -0.0174, -0.0145, -0.0165, -0.0174, -0.0174, -0.0165, -0.0155, -0.0155, -0.0165, -0.0145, -0.0145, -0.0165, -0.0123, -0.0155, -0.0155, -0.0174, -0.0155, -0.0145, -0.0145, -0.0155, -0.0155, -0.0145, -0.0165, -0.0174, -0.0155, -0.0174, -0.0145, -0.0165, -0.0165, -0.0155, -0.0165, -0.0174, -0.0134, -0.0145, -0.0165, -0.0165, -0.0145, -0.0145, -0.0155, -0.0145, -0.0174, -0.0155, -0.0155, -0.0155, -0.0165, -0.0155, -0.0145, -0.0134, -0.0165, -0.0145, -0.0155, -0.0155, -0.0155, -0.0134, -0.0155, -0.0145, -0.0123, -0.0134, -0.0134, -0.0145, -0.0134, -0.0155, -0.0165, -0.0134, -0.011, -0.0145, -0.0155, -0.0155, -0.0165, -0.0155, -0.0155, -0.0134, -0.0134, -0.0145, -0.0145, -0.0155, -0.0155, -0.0145, -0.0155, -0.0123, -0.0123, -0.0123, -0.0134, -0.0134, -0.0145, -0.0165, -0.0134, -0.0145, -0.0155, -0.0155, -0.0155, -0.0134, -0.0145, -0.0134, -0.0145, -0.0134, -0.0145, -0.0155, -0.0145, -0.0145, -0.0145, -0.0123, -0.0123, -0.0134, -0.0145, -0.0134, -0.0145, -0.0145, -0.0145, -0.0134, -0.011, -0.0145, -0.0134, -0.0123, -0.0145, -0.0145, -0.0155, -0.0145, -0.0123, -0.0145, -0.0134, -0.0145, -0.0155, -0.0155, -0.0145, -0.0145, -0.0155, -0.0145, -0.0155, -0.011, -0.0134, -0.0123, -0.0145, -0.0134, -0.0145, -0.0134, -0.0134, -0.0134, -0.0123, -0.0123, -0.0123, -0.0123, -0.0134, -0.0134, -0.0145, -0.0145, -0.0134, -0.0145, -0.0134, -0.0123, -0.0145, -0.0134, -0.0134, -0.0123, -0.0123, -0.0123, -0.0134, -0.011, -0.0134, -0.0134, -0.0145, -0.0095, -0.0145, -0.011, -0.0134, -0.0145, -0.0134, -0.0123, -0.0134, -0.0123, -0.0134, -0.0134, -0.0145, -0.0123, -0.0134, -0.0145, -0.0123, -0.011, -0.0123, -0.0123, -0.011, -0.0123, -0.0123, -0.0134, -0.011, -0.0134, -0.011, -0.0134, -0.0123, -0.0123, -0.0123, -0.0123, -0.011, -0.011, -0.0134, -0.0123, -0.0095, -0.0123, -0.0134, -0.0123, -0.011, -0.0134, -0.0134, -0.0134, -0.0134, -0.0123, -0.011, -0.0123, -0.011, -0.0123, -0.0123, -0.0134, -0.0134, -0.0095, -0.011, -0.0095, -0.0123, -0.0078, -0.0123, -0.0123, -0.011, -0.0123, -0.0134, -0.011, -0.0134, -0.0123, -0.011, -0.0123, -0.0123, -0.0123, -0.0123, -0.0134, -0.0134, -0.0123, -0.011, -0.0123, -0.011, -0.0123, -0.011, -0.011, -0.011, -0.011, -0.011, -0.011, -0.0078, -0.011, -0.0095, -0.0123, -0.0078, -0.0123, -0.0123, -0.0095, -0.011, -0.011, -0.011, -0.011, -0.0095, -0.011, -0.0123, -0.011, -0.0123, -0.0095, -0.011, -0.0123, -0.0095, -0.0123, -0.0095, -0.011, -0.0123, -0.0123, -0.011, -0.0095, -0.011, -0.011, -0.011, -0.0123, -0.011, -0.011, -0.011, -0.0123, -0.0123, -0.011, -0.0055, -0.011, -0.011, -0.011, -0.0123, -0.0123, -0.0095, -0.0095, -0.0095, -0.011, -0.011, -0.011, -0.0095, -0.011, -0.0123, -0.011, -0.0123, -0.011, -0.011, -0.0095, -0.0095, -0.0123, -0.0095, -0.011, -0.0123, -0.011, -0.0078, -0.0095, -0.0123, -0.0123, -0.0095, -0.011, -0.0095, -0.0095, -0.011, -0.0095, -0.0095, -0.0078, -0.0095, -0.0095, -0.011, -0.011, -0.0078, -0.0095, -0.011, -0.0078, -0.0095, -0.011, -0.011, -0.011, -0.0078, -0.011, -0.011, -0.0095, -0.0095, -0.011, -0.0095, -0.0095, -0.011, -0.0095, -0.0095, -0.0078, -0.011, -0.0078, -0.0095, -0.0078, -0.011, -0.011, -0.0095, -0.011, -0.0078, -0.011, -0.011, -0.011, -0.0078, -0.011, -0.011, -0.011, -0.0095, -0.011, -0.011, -0.011, -0.011, -0.0078, -0.0078, -0.011, -0.0095, -0.0095, -0.0095, -0.011, -0.011, -0.0095, -0.0095, -0.0095, -0.0055, -0.011, -0.0095, -0.0095, -0.011, -0.011, -0.011, -0.011, -0.011, -0.0095, -0.0055, -0.0095, -0.011, -0.0078, -0.0078, -0.0095, -0.0095, -0.0078, -0.0095, -0.011, -0.0095, -0.0095, -0.0095, -0.0095, -0.0095, -0.0095, -0.0095, -0.0095, -0.0095, -0.0095, -0.0078, -0.0095, -0.0095, -0.0078, -0.0095, -0.0078, -0.0095, -0.0095, -0.0095, -0.0078, -0.0095, -0.0078, -0.0078, -0.0095, -0.0055, -0.0095, -0.0078, -0.0095, -0.0078, -0.0095, -0.0095, -0.0078, -0.0095, -0.0055, -0.0095, -0.0078, -0.0095, -0.0095, -0.0095, -0.0095, -0.0095, -0.0055, -0.0078, -0.0095, -0.0095, -0.0095, -0.0095, -0.0095, -0.0095, -0.0078, -0.0095, -0.0078, -0.0095, -0.0095, -0.0055, -0.0095, -0.0095, -0.0095, -0.0078, -0.0055, -0.0078, -0.0078, -0.0095, -0.0095, -0.0078, -0.0078, -0.0095, -0.0095, -0.0095, -0.0078, -0.0055, -0.0095, -0.0078, -0.0078, -0.0078, -0.0078, -0.0095, -0.0078, -0.0095, -0.0078, -0.0078, -0.0095, -0.0055, -0.0078, -0.0095, -0.0095, -0.0078, -0.0078, -0.0095, -0.0095, -0.0095, -0.0095, -0.0055, -0.0078, -0.0055, -0.0078, -0.0055, -0.0078, -0.0095, -0.0095, -0.0095, -0.0078, -0.0095, -0.0095, -0.0095, -0.0095, -0.0095, -0.0078, -0.0078, -0.0095, -0.0095, -0.0095, -0.0095, -0.0078, -0.0078, -0.0095, -0.0095, -0.0078, -0.0095, -0.0095, -0.0095, -0.0078, -0.0078, -0.0078, -0.0095, -0.0055, -0.0078, -0.0055, -0.0078, -0.0078, 0.0, -0.0078, -0.0055, 0.0, -0.0078, -0.0078, -0.0078, -0.0078, -0.0078, -0.0078, -0.0078, -0.0055, -0.0078, -0.0055, -0.0078, -0.0078, -0.0078, -0.0055, -0.0055, -0.0078, -0.0078, -0.0078, -0.0078, -0.0078, -0.0078, -0.0055, -0.0078, -0.0078, -0.0078, -0.0078, -0.0055, -0.0055, -0.0078, -0.0055, -0.0055, -0.0078, -0.0055, -0.0078, -0.0078, -0.0078, -0.0055, -0.0078, -0.0055, -0.0055, -0.0078, -0.0055, -0.0078, -0.0078, -0.0078, -0.0055, -0.0078, -0.0078, -0.0078, -0.0078, -0.0078, -0.0078, -0.0055, -0.0078, -0.0078, -0.0078, -0.0055, -0.0055, -0.0078, -0.0078, -0.0055, -0.0078, -0.0078, -0.0055, -0.0055, -0.0078, -0.0078, -0.0055, -0.0078, -0.0078, -0.0078, -0.0078, -0.0078, -0.0055, -0.0078, -0.0078, -0.0078, -0.0055, -0.0078, -0.0055, -0.0055, -0.0055, -0.0078, -0.0055, -0.0078, -0.0078, -0.0055, -0.0078, -0.0055, -0.0078, -0.0078, -0.0078, -0.0078, -0.0055, -0.0078, -0.0078, -0.0055, -0.0078, -0.0078, -0.0055, -0.0055, -0.0078, -0.0078, -0.0078, -0.0078, -0.0078, 0.0, -0.0078, -0.0055, -0.0078, -0.0078, -0.0055, -0.0078, -0.0078, -0.0055, -0.0078, -0.0078, -0.0078, -0.0078, -0.0078, -0.0055, -0.0055, 0.0, -0.0078, 0.0, -0.0078, -0.0078, -0.0078, -0.0055, -0.0055, -0.0055, -0.0078, -0.0078, -0.0078, -0.0055, -0.0078, -0.0078, -0.0078, -0.0078, -0.0078, -0.0055, -0.0078, -0.0078, -0.0078, -0.0078, -0.0055, -0.0078, -0.0055, -0.0078, -0.0055, -0.0078, -0.0078, 0.0, -0.0055, -0.0078, -0.0078, -0.0078, -0.0078, -0.0078, -0.0055, -0.0055, -0.0055, -0.0055, -0.0055, -0.0055, 0.0, -0.0055, -0.0055, -0.0055, -0.0055, -0.0055, -0.0055, 0.0, 0.0, -0.0055, -0.0055, -0.0055, -0.0055, -0.0055, -0.0055, 0.0, 0.0, -0.0055, -0.0055, -0.0055, 0.0, -0.0055, -0.0055, -0.0055, -0.0055, -0.0055, -0.0055, -0.0055, -0.0055, -0.0055, -0.0055, -0.0055, -0.0055, -0.0055, -0.0055, 0.0, -0.0055, -0.0055, -0.0055, -0.0055, -0.0055, 0.0, -0.0055, -0.0055, -0.0055, -0.0055, -0.0055, -0.0055, -0.0055, -0.0055, -0.0055, 0.0, -0.0055, -0.0055, -0.0055, 0.0, -0.0055, -0.0055, -0.0055, -0.0055, -0.0055, -0.0055, -0.0055, -0.0055, -0.0055, -0.0055, -0.0055, 0.0, -0.0055, -0.0055, -0.0055, -0.0055, -0.0055, 0.0, 0.0, -0.0055, -0.0055, -0.0055, -0.0055, -0.0055, 0.0, -0.0055, 0.0, -0.0055, -0.0055, 0.0, -0.0055, -0.0055, 0.0, 0.0, -0.0055, -0.0055, -0.0055, -0.0055, -0.0055, 0.0, 0.0, -0.0055, -0.0055, -0.0055, -0.0055, -0.0055, -0.0055, 0.0, -0.0055, -0.0055, -0.0055, -0.0055, -0.0055, -0.0055, -0.0055, -0.0055, -0.0055, -0.0055, 0.0, 0.0, -0.0055, -0.0055, -0.0055, -0.0055, -0.0055, -0.0055, -0.0055, -0.0055, 0.0, -0.0055, -0.0055, -0.0055, -0.0055, -0.0055, -0.0055, -0.0055, -0.0055, 0.0, -0.0055, 0.0, -0.0055, 0.0, 0.0, -0.0055, -0.0055, 0.0, -0.0055, 0.0, 0.0, -0.0055, -0.0055, 0.0, -0.0055, -0.0055, -0.0055, -0.0055, -0.0055, -0.0055, -0.0055, 0.0, 0.0, -0.0055, -0.0055, 0.0, 0.0, -0.0055, 0.0, -0.0055, -0.0055, -0.0055, -0.0055, 0.0, 0.0, 0.0, -0.0055, 0.0, -0.0055, 182.1785, -0.0055, -0.0055, -0.0055, -0.0055, -0.0055, -0.0055, -0.0055, -0.0055, -0.0055, 0.0, -0.0055, -0.0055, -0.0055, 0.0, -0.0055, 0.0, 0.0, -0.0055, -0.0055, -0.0055, -0.0055, -0.0055, -0.0055, -0.0055, -0.0055, 0.0, 0.0, -0.0055, -0.0055, 0.0, -0.0055, -0.0055, 0.0, -0.0055, -0.0055, -0.0055, -0.0055, -0.0055, -0.0055, -0.0055, -0.0055, -0.0055, -0.0055, -0.0055, -0.0055, -0.0055, -0.0055, -0.0055, -0.0055, 0.0, -0.0055, -0.0055, -0.0055, -0.0055, -0.0055, -0.0055, -0.0055, -0.0055, 0.0, -0.0055, -0.0055, -0.0055, -0.0055, 0.0, -0.0055, -0.0055, -0.0055, -0.0055, -0.0055, 0.0, -0.0055, -0.0055, -0.0055, 0.0, -0.0055, -0.0055, -0.0055, -0.0055, -0.0055, -0.0055, -0.0055, -0.0055, 0.0, 0.0, -0.0055, 0.0, -0.0055, -0.0055, -0.0055, -0.0055, -0.0055, -0.0055, 0.0, -0.0055, -0.0055, -0.0055, -1.6587]))]"
      ]
     },
     "execution_count": 73,
     "metadata": {},
     "output_type": "execute_result"
    }
   ],
   "source": [
    "final_Xtrain.take(1)"
   ]
  },
  {
   "cell_type": "markdown",
   "metadata": {},
   "source": [
    "### Decision Tree Regressor"
   ]
  },
  {
   "cell_type": "code",
   "execution_count": 74,
   "metadata": {},
   "outputs": [],
   "source": [
    "from pyspark.ml.regression import DecisionTreeRegressor\n",
    "from pyspark.ml.evaluation import RegressionEvaluator\n",
    "decisiontreeregressor = DecisionTreeRegressor(featuresCol=\"Xcols_sscaled\", labelCol='price').setSeed(42)\n",
    "decisiontreemodel = decisiontreeregressor.fit(final_Xtrain)"
   ]
  },
  {
   "cell_type": "code",
   "execution_count": 75,
   "metadata": {},
   "outputs": [
    {
     "data": {
      "text/plain": [
       "pyspark.ml.regression.DecisionTreeRegressor"
      ]
     },
     "execution_count": 75,
     "metadata": {},
     "output_type": "execute_result"
    }
   ],
   "source": [
    "type(decisiontreeregressor)"
   ]
  },
  {
   "cell_type": "markdown",
   "metadata": {},
   "source": [
    "### Random Forest Regressor"
   ]
  },
  {
   "cell_type": "code",
   "execution_count": 76,
   "metadata": {},
   "outputs": [],
   "source": [
    "from pyspark.ml.regression import RandomForestRegressor\n",
    "from pyspark.ml.evaluation import RegressionEvaluator\n",
    "\n",
    "# Assuming you have already trained the RandomForestRegressor model\n",
    "forestregressor = RandomForestRegressor(featuresCol=\"Xcols_sscaled\", labelCol='price').setSeed(42)\n",
    "forestmodel = forestregressor.fit(final_Xtrain)\n"
   ]
  },
  {
   "cell_type": "code",
   "execution_count": 77,
   "metadata": {},
   "outputs": [
    {
     "data": {
      "text/plain": [
       "pyspark.ml.regression.RandomForestRegressor"
      ]
     },
     "execution_count": 77,
     "metadata": {},
     "output_type": "execute_result"
    }
   ],
   "source": [
    "type(forestregressor)"
   ]
  },
  {
   "cell_type": "markdown",
   "metadata": {},
   "source": [
    "## Machine Learning Modelling : Report"
   ]
  },
  {
   "cell_type": "markdown",
   "metadata": {},
   "source": [
    "In the machine learning modeling phase, I prepared the final training and testing datasets (final_Xtrain and final_Xtest) with 33,191 and 8,169 rows, respectively, after scaling the numerical features. For prediction, I employed three regression models:\n",
    "\n",
    "1. **Linear Regression:** I utilized a Linear Regressor, fitting it on the scaled feature columns (Xcols_sscaled). The model calculates coefficients and an intercept to predict housing prices based on the linear relationship with the scaled features.\n",
    "\n",
    "2. **Decision Tree Regressor:** A Decision Tree Regressor was trained on the scaled features. The model builds a tree structure to make predictions based on decision nodes, providing insights into feature importance and non-linear relationships in the data.\n",
    "\n",
    "3. **Random Forest Regressor:** I employed a Random Forest Regressor, trained on the scaled features. This ensemble model aggregates predictions from multiple decision trees, mitigating overfitting and offering improved accuracy.\n",
    "\n",
    "These regression models collectively form the foundation for predicting housing prices. Subsequent steps involve evaluating their performance using metrics such as mean squared error to determine their effectiveness in capturing the underlying patterns in the dataset.\n"
   ]
  },
  {
   "cell_type": "markdown",
   "metadata": {},
   "source": [
    "##  Model Evaluation and Selection"
   ]
  },
  {
   "cell_type": "markdown",
   "metadata": {},
   "source": [
    "### Using Linear Regressor"
   ]
  },
  {
   "cell_type": "code",
   "execution_count": 78,
   "metadata": {},
   "outputs": [],
   "source": [
    "train_pred_results=regressor.evaluate(final_Xtrain)"
   ]
  },
  {
   "cell_type": "code",
   "execution_count": 79,
   "metadata": {},
   "outputs": [
    {
     "name": "stdout",
     "output_type": "stream",
     "text": [
      "+------------+---------------+-----------+----------+-----------+-------+--------------+-----------+---------+------------+---------------+-----------------+--------------------------------+----------------------------+-------------------+--------------------+---------------------+----------------------------+----------------------+-------------------------+---------------------+---------------+--------------+--------------+---------------------+-------------------+----------------+--------------------+------------------+\n",
      "|living_space|bathroom_number|floor_level|built_year|   latitude|premium|bedroom_number|  longitude|    price|priceoutlier|age_of_property|high_level_binary|sub_property_type_string_encoded|property_type_string_encoded|city_string_encoded|state_string_encoded|tenure_string_encoded|listing_label_string_encoded|address_string_encoded|sub_property_type_one_hot|property_type_one_hot|   city_one_hot| state_one_hot|tenure_one_hot|listing_label_one_hot|    address_one_hot|living_space_bin|       Xcols_sscaled|        prediction|\n",
      "+------------+---------------+-----------+----------+-----------+-------+--------------+-----------+---------+------------+---------------+-----------------+--------------------------------+----------------------------+-------------------+--------------------+---------------------+----------------------------+----------------------+-------------------------+---------------------+---------------+--------------+--------------+---------------------+-------------------+----------------+--------------------+------------------+\n",
      "|        20.0|              1|          7|      2021|13.80287539|      0|             1|100.5699943|2500000.0|       false|              2|                0|                             0.0|                         0.0|                2.0|                 0.0|                  0.0|                         0.0|                1588.0|            (1,[0],[1.0])|        (3,[0],[1.0])| (88,[2],[1.0])|(16,[0],[1.0])| (2,[0],[1.0])|        (2,[0],[1.0])|(1685,[1588],[1.0])|             0.0|[-0.0204617075181...|  2501854.13137587|\n",
      "|        20.0|              1|         20|      2016|13.71397143|      0|             1|100.4718368|2000000.0|       false|              7|                0|                             0.0|                         0.0|               13.0|                 0.0|                  0.0|                         0.0|                 442.0|            (1,[0],[1.0])|        (3,[0],[1.0])|(88,[13],[1.0])|(16,[0],[1.0])| (2,[0],[1.0])|        (2,[0],[1.0])| (1685,[442],[1.0])|             0.0|[-0.0204617075181...|3762958.9118341687|\n",
      "|        20.0|              1|         38|      2018|  13.698429|      0|             1| 100.604787|3900000.0|       false|              5|                0|                             0.0|                         0.0|                4.0|                 0.0|                  0.0|                         0.0|                  21.0|            (1,[0],[1.0])|        (3,[0],[1.0])| (88,[4],[1.0])|(16,[0],[1.0])| (2,[0],[1.0])|        (2,[0],[1.0])|  (1685,[21],[1.0])|             0.0|[-0.0204617075181...| 5368801.141146015|\n",
      "|        21.0|              1|          1|      2014|13.80616955|      0|             1|100.5289486|1990000.0|       false|              9|                0|                             0.0|                         0.0|                8.0|                 0.0|                  0.0|                         0.0|                 506.0|            (1,[0],[1.0])|        (3,[0],[1.0])| (88,[8],[1.0])|(16,[0],[1.0])| (2,[0],[1.0])|        (2,[0],[1.0])| (1685,[506],[1.0])|             0.0|[-0.0202046403778...|3411641.4275887725|\n",
      "|        21.0|              1|          1|      2015|  13.742949|      0|             0| 100.588961|3500000.0|       false|              8|                0|                             0.0|                         0.0|                0.0|                 0.0|                  0.0|                         0.0|                   0.0|            (1,[0],[1.0])|        (3,[0],[1.0])| (88,[0],[1.0])|(16,[0],[1.0])| (2,[0],[1.0])|        (2,[0],[1.0])|   (1685,[0],[1.0])|             0.0|[-0.0202046403778...| 2718632.404038928|\n",
      "|        21.0|              1|          1|      2016|  13.737126|      0|             1| 100.745827| 970000.0|       false|              7|                0|                             0.0|                         0.0|               29.0|                 0.0|                  0.0|                         0.0|                  95.0|            (1,[0],[1.0])|        (3,[0],[1.0])|(88,[29],[1.0])|(16,[0],[1.0])| (2,[0],[1.0])|        (2,[0],[1.0])|  (1685,[95],[1.0])|             0.0|[-0.0202046403778...| 1411226.056517167|\n",
      "|        21.0|              1|          2|      2011|  13.788892|      0|             1| 100.580659|1890000.0|       false|             12|                0|                             0.0|                         0.0|                0.0|                 0.0|                  0.0|                         0.0|                 546.0|            (1,[0],[1.0])|        (3,[0],[1.0])| (88,[0],[1.0])|(16,[0],[1.0])| (2,[0],[1.0])|        (2,[0],[1.0])| (1685,[546],[1.0])|             0.0|[-0.0202046403778...| 3072215.867069608|\n",
      "|        21.0|              1|          2|      2014|13.68428388|      0|             0|100.6040554|1490000.0|       false|              9|                0|                             0.0|                         0.0|                4.0|                 0.0|                  0.0|                         0.0|                  27.0|            (1,[0],[1.0])|        (3,[0],[1.0])| (88,[4],[1.0])|(16,[0],[1.0])| (2,[0],[1.0])|        (2,[0],[1.0])|  (1685,[27],[1.0])|             0.0|[-0.0202046403778...|1707204.4394502863|\n",
      "|        21.0|              1|          2|      2014|13.68524746|      0|             0|100.6042924|1610000.0|       false|              9|                0|                             0.0|                         0.0|                4.0|                 0.0|                  0.0|                         0.0|                  33.0|            (1,[0],[1.0])|        (3,[0],[1.0])| (88,[4],[1.0])|(16,[0],[1.0])| (2,[0],[1.0])|        (2,[0],[1.0])|  (1685,[33],[1.0])|             0.0|[-0.0202046403778...|1003418.2451616805|\n",
      "|        21.0|              1|          2|      2016|  13.737126|      0|             0| 100.745827|1200000.0|       false|              7|                0|                             0.0|                         0.0|               29.0|                 0.0|                  0.0|                         0.0|                  95.0|            (1,[0],[1.0])|        (3,[0],[1.0])|(88,[29],[1.0])|(16,[0],[1.0])| (2,[0],[1.0])|        (2,[0],[1.0])|  (1685,[95],[1.0])|             0.0|[-0.0202046403778...|-622315.4093995783|\n",
      "|        21.0|              1|          3|      2014|13.68524746|      0|             1|100.6042924|1600000.0|       false|              9|                0|                             0.0|                         0.0|                4.0|                 0.0|                  0.0|                         0.0|                  33.0|            (1,[0],[1.0])|        (3,[0],[1.0])| (88,[4],[1.0])|(16,[0],[1.0])| (2,[0],[1.0])|        (2,[0],[1.0])|  (1685,[33],[1.0])|             0.0|[-0.0202046403778...| 3078772.789783561|\n",
      "|        21.0|              1|          3|      2016|  13.737126|      0|             0| 100.745827| 925000.0|       false|              7|                0|                             0.0|                         0.0|               29.0|                 0.0|                  0.0|                         0.0|                  95.0|            (1,[0],[1.0])|        (3,[0],[1.0])|(88,[29],[1.0])|(16,[0],[1.0])| (2,[0],[1.0])|        (2,[0],[1.0])|  (1685,[95],[1.0])|             0.0|[-0.0202046403778...|-601408.8700470217|\n",
      "|        21.0|              1|          4|      2016|  13.733237|      0|             0| 100.526269|4840000.0|       false|              7|                0|                             0.0|                         0.0|               17.0|                 0.0|                  0.0|                         0.0|                  25.0|            (1,[0],[1.0])|        (3,[0],[1.0])|(88,[17],[1.0])|(16,[0],[1.0])| (2,[0],[1.0])|        (2,[0],[1.0])|  (1685,[25],[1.0])|             0.0|[-0.0202046403778...| 5302436.660337552|\n",
      "|        21.0|              1|          5|      2014|13.68524746|      0|             0|100.6042924|1390000.0|       false|              9|                0|                             0.0|                         0.0|                4.0|                 0.0|                  0.0|                         0.0|                  33.0|            (1,[0],[1.0])|        (3,[0],[1.0])| (88,[4],[1.0])|(16,[0],[1.0])| (2,[0],[1.0])|        (2,[0],[1.0])|  (1685,[33],[1.0])|             0.0|[-0.0202046403778...|1066137.8632193431|\n",
      "|        21.0|              1|          5|      2014|13.68524746|      0|             0|100.6042924|1600000.0|       false|              9|                0|                             0.0|                         0.0|                4.0|                 0.0|                  0.0|                         0.0|                  33.0|            (1,[0],[1.0])|        (3,[0],[1.0])| (88,[4],[1.0])|(16,[0],[1.0])| (2,[0],[1.0])|        (2,[0],[1.0])|  (1685,[33],[1.0])|             0.0|[-0.0202046403778...|1066137.8632193431|\n",
      "|        21.0|              1|          5|      2017|  13.679495|      0|             0|  100.62431|1400000.0|       false|              6|                0|                             0.0|                         0.0|                4.0|                 0.0|                  0.0|                         0.0|                 386.0|            (1,[0],[1.0])|        (3,[0],[1.0])| (88,[4],[1.0])|(16,[0],[1.0])| (2,[0],[1.0])|        (2,[0],[1.0])| (1685,[386],[1.0])|             0.0|[-0.0202046403778...| 736209.1302029379|\n",
      "|        21.0|              1|          5|      2017|  13.679495|      0|             0|  100.62431|1450000.0|       false|              6|                0|                             0.0|                         0.0|                4.0|                 0.0|                  0.0|                         0.0|                 386.0|            (1,[0],[1.0])|        (3,[0],[1.0])| (88,[4],[1.0])|(16,[0],[1.0])| (2,[0],[1.0])|        (2,[0],[1.0])| (1685,[386],[1.0])|             0.0|[-0.0202046403778...| 736209.1302029379|\n",
      "|        21.0|              1|          5|      2017|  13.679495|      0|             1|  100.62431|1537000.0|       false|              6|                0|                             0.0|                         0.0|                4.0|                 0.0|                  0.0|                         0.0|                 386.0|            (1,[0],[1.0])|        (3,[0],[1.0])| (88,[4],[1.0])|(16,[0],[1.0])| (2,[0],[1.0])|        (2,[0],[1.0])| (1685,[386],[1.0])|             0.0|[-0.0202046403778...| 2790657.135472273|\n",
      "|        21.0|              1|          7|      2014|13.68524746|      0|             0|100.6042924|1350000.0|       false|              9|                0|                             0.0|                         0.0|                4.0|                 0.0|                  0.0|                         0.0|                  33.0|            (1,[0],[1.0])|        (3,[0],[1.0])| (88,[4],[1.0])|(16,[0],[1.0])| (2,[0],[1.0])|        (2,[0],[1.0])|  (1685,[33],[1.0])|             0.0|[-0.0202046403778...|1107950.9419244528|\n",
      "|        21.0|              1|          7|      2014|13.68524746|      0|             0|100.6042924|1540000.0|       false|              9|                0|                             0.0|                         0.0|                4.0|                 0.0|                  0.0|                         0.0|                  33.0|            (1,[0],[1.0])|        (3,[0],[1.0])| (88,[4],[1.0])|(16,[0],[1.0])| (2,[0],[1.0])|        (2,[0],[1.0])|  (1685,[33],[1.0])|             0.0|[-0.0202046403778...|1107950.9419244528|\n",
      "+------------+---------------+-----------+----------+-----------+-------+--------------+-----------+---------+------------+---------------+-----------------+--------------------------------+----------------------------+-------------------+--------------------+---------------------+----------------------------+----------------------+-------------------------+---------------------+---------------+--------------+--------------+---------------------+-------------------+----------------+--------------------+------------------+\n",
      "only showing top 20 rows\n",
      "\n"
     ]
    }
   ],
   "source": [
    "train_pred_results.predictions.show()"
   ]
  },
  {
   "cell_type": "code",
   "execution_count": 80,
   "metadata": {},
   "outputs": [],
   "source": [
    "test_pred_results=regressor.evaluate(final_Xtest)"
   ]
  },
  {
   "cell_type": "code",
   "execution_count": 81,
   "metadata": {},
   "outputs": [
    {
     "name": "stdout",
     "output_type": "stream",
     "text": [
      "+------------+---------------+-----------+----------+-----------+-------+--------------+-----------+---------+------------+---------------+-----------------+--------------------------------+----------------------------+-------------------+--------------------+---------------------+----------------------------+----------------------+-------------------------+---------------------+---------------+--------------+--------------+---------------------+------------------+----------------+--------------------+-------------------+\n",
      "|living_space|bathroom_number|floor_level|built_year|   latitude|premium|bedroom_number|  longitude|    price|priceoutlier|age_of_property|high_level_binary|sub_property_type_string_encoded|property_type_string_encoded|city_string_encoded|state_string_encoded|tenure_string_encoded|listing_label_string_encoded|address_string_encoded|sub_property_type_one_hot|property_type_one_hot|   city_one_hot| state_one_hot|tenure_one_hot|listing_label_one_hot|   address_one_hot|living_space_bin|       Xcols_sscaled|         prediction|\n",
      "+------------+---------------+-----------+----------+-----------+-------+--------------+-----------+---------+------------+---------------+-----------------+--------------------------------+----------------------------+-------------------+--------------------+---------------------+----------------------------+----------------------+-------------------------+---------------------+---------------+--------------+--------------+---------------------+------------------+----------------+--------------------+-------------------+\n",
      "|        20.0|              1|         23|      2013|  13.825072|      0|             2|  100.53759|3450000.0|       false|             10|                0|                             0.0|                         0.0|                8.0|                 0.0|                  0.0|                         0.0|                 118.0|            (1,[0],[1.0])|        (3,[0],[1.0])| (88,[8],[1.0])|(16,[0],[1.0])| (2,[0],[1.0])|        (2,[0],[1.0])|(1685,[118],[1.0])|             0.0|[-0.0198454922997...|  5818453.000583591|\n",
      "|        21.0|              1|          1|      2016|  13.737126|      0|             0| 100.745827| 990000.0|       false|              7|                0|                             0.0|                         0.0|               29.0|                 0.0|                  0.0|                         0.0|                  95.0|            (1,[0],[1.0])|        (3,[0],[1.0])|(88,[29],[1.0])|(16,[0],[1.0])| (2,[0],[1.0])|        (2,[0],[1.0])| (1685,[95],[1.0])|             0.0|[-0.0197634321739...|-1182871.4610084463|\n",
      "|        21.0|              1|          1|      2018|  13.698429|      0|             1| 100.604787|3900000.0|       false|              5|                0|                             0.0|                         0.0|                4.0|                 0.0|                  0.0|                         0.0|                  21.0|            (1,[0],[1.0])|        (3,[0],[1.0])| (88,[4],[1.0])|(16,[0],[1.0])| (2,[0],[1.0])|        (2,[0],[1.0])| (1685,[21],[1.0])|             0.0|[-0.0197634321739...|  5148877.470493611|\n",
      "|        21.0|              1|          2|      2018|  13.790007|      0|             1| 100.583207|1890000.0|       false|              5|                0|                             0.0|                         0.0|                0.0|                 0.0|                  0.0|                         0.0|                 550.0|            (1,[0],[1.0])|        (3,[0],[1.0])| (88,[0],[1.0])|(16,[0],[1.0])| (2,[0],[1.0])|        (2,[0],[1.0])|(1685,[550],[1.0])|             0.0|[-0.0197634321739...|  2793392.446146324|\n",
      "|        21.0|              1|          5|      2017|  13.679495|      0|             0|  100.62431|1400000.0|       false|              6|                0|                             0.0|                         0.0|                4.0|                 0.0|                  0.0|                         0.0|                 386.0|            (1,[0],[1.0])|        (3,[0],[1.0])| (88,[4],[1.0])|(16,[0],[1.0])| (2,[0],[1.0])|        (2,[0],[1.0])|(1685,[386],[1.0])|             0.0|[-0.0197634321739...|   536010.880314406|\n",
      "|        21.0|              1|          6|      2016|  13.733237|      0|             0| 100.526269|4890000.0|       false|              7|                0|                             0.0|                         0.0|               17.0|                 0.0|                  0.0|                         0.0|                  25.0|            (1,[0],[1.0])|        (3,[0],[1.0])|(88,[17],[1.0])|(16,[0],[1.0])| (2,[0],[1.0])|        (2,[0],[1.0])| (1685,[25],[1.0])|             0.0|[-0.0197634321739...|  5683502.071568222|\n",
      "|        21.0|              1|         10|      2014|13.72019284|      0|             0| 100.502708|2500000.0|       false|              9|                0|                             0.0|                         0.0|                9.0|                 0.0|                  0.0|                         0.0|                 255.0|            (1,[0],[1.0])|        (3,[0],[1.0])| (88,[9],[1.0])|(16,[0],[1.0])| (2,[0],[1.0])|        (2,[0],[1.0])|(1685,[255],[1.0])|             0.0|[-0.0197634321739...| 1146365.0449562557|\n",
      "|        21.0|              1|         11|      2014| 13.7042193|      0|             0|100.6021733|2790000.0|       false|              9|                0|                             0.0|                         0.0|                4.0|                 0.0|                  0.0|                         0.0|                  19.0|            (1,[0],[1.0])|        (3,[0],[1.0])| (88,[4],[1.0])|(16,[0],[1.0])| (2,[0],[1.0])|        (2,[0],[1.0])| (1685,[19],[1.0])|             0.0|[-0.0197634321739...| 3141695.6684294804|\n",
      "|        21.0|              1|         18|      2015|  13.717098|      0|             0| 100.482343|2100000.0|       false|              8|                0|                             0.0|                         0.0|               13.0|                 0.0|                  0.0|                         0.0|                   0.0|            (1,[0],[1.0])|        (3,[0],[1.0])|(88,[13],[1.0])|(16,[0],[1.0])| (2,[0],[1.0])|        (2,[0],[1.0])|  (1685,[0],[1.0])|             0.0|[-0.0197634321739...| 2523347.2265192284|\n",
      "|        21.0|              1|         20|      2014| 13.7042193|      0|             0|100.6021733|3490000.0|       false|              9|                0|                             0.0|                         0.0|                4.0|                 0.0|                  0.0|                         0.0|                  19.0|            (1,[0],[1.0])|        (3,[0],[1.0])| (88,[4],[1.0])|(16,[0],[1.0])| (2,[0],[1.0])|        (2,[0],[1.0])| (1685,[19],[1.0])|             0.0|[-0.0197634321739...| 3326177.8773075542|\n",
      "|        21.0|              1|         20|      2014|  13.755804|      0|             0| 100.565882|3500000.0|       false|              9|                0|                             0.0|                         0.0|                0.0|                 0.0|                  0.0|                         0.0|                  63.0|            (1,[0],[1.0])|        (3,[0],[1.0])| (88,[0],[1.0])|(16,[0],[1.0])| (2,[0],[1.0])|        (2,[0],[1.0])| (1685,[63],[1.0])|             0.0|[-0.0197634321739...| 3174133.2225194587|\n",
      "|        21.0|              1|         23|      2016|  13.733237|      0|             0| 100.526269|4390000.0|       false|              7|                0|                             0.0|                         0.0|               17.0|                 0.0|                  0.0|                         0.0|                  25.0|            (1,[0],[1.0])|        (3,[0],[1.0])|(88,[17],[1.0])|(16,[0],[1.0])| (2,[0],[1.0])|        (2,[0],[1.0])| (1685,[25],[1.0])|             0.0|[-0.0197634321739...|  6031968.466115701|\n",
      "|        21.0|              1|         24|      2015|  13.717098|      0|             0| 100.482343|2100000.0|       false|              8|                0|                             0.0|                         0.0|               13.0|                 0.0|                  0.0|                         0.0|                   0.0|            (1,[0],[1.0])|        (3,[0],[1.0])|(88,[13],[1.0])|(16,[0],[1.0])| (2,[0],[1.0])|        (2,[0],[1.0])|  (1685,[0],[1.0])|             0.0|[-0.0197634321739...| 2646335.3657712783|\n",
      "|        21.0|              1|         26|      2018|  13.805998|      0|             0|  100.53296|2090000.0|       false|              5|                0|                             0.0|                         0.0|                8.0|                 0.0|                  0.0|                         0.0|                 366.0|            (1,[0],[1.0])|        (3,[0],[1.0])| (88,[8],[1.0])|(16,[0],[1.0])| (2,[0],[1.0])|        (2,[0],[1.0])|(1685,[366],[1.0])|             0.0|[-0.0197634321739...| 2613324.9633521154|\n",
      "|        21.0|              1|         30|      2015|13.75571334|      0|             0|100.5663852|3000000.0|       false|              8|                0|                             0.0|                         0.0|                0.0|                 0.0|                  0.0|                         0.0|                 159.0|            (1,[0],[1.0])|        (3,[0],[1.0])| (88,[0],[1.0])|(16,[0],[1.0])| (2,[0],[1.0])|        (2,[0],[1.0])|(1685,[159],[1.0])|             0.0|[-0.0197634321739...|  4314318.436863016|\n",
      "|        21.0|              1|         31|      2015|  13.717098|      0|             1| 100.482343|2930000.0|       false|              8|                0|                             0.0|                         0.0|               13.0|                 0.0|                  0.0|                         0.0|                   0.0|            (1,[0],[1.0])|        (3,[0],[1.0])|(88,[13],[1.0])|(16,[0],[1.0])| (2,[0],[1.0])|        (2,[0],[1.0])|  (1685,[0],[1.0])|             0.0|[-0.0197634321739...|  4818185.951276626|\n",
      "|       21.18|              1|          9|      2014| 13.7042193|      0|             1|100.6021733|2690000.0|       false|              9|                0|                             0.0|                         0.0|                4.0|                 0.0|                  0.0|                         1.0|                  19.0|            (1,[0],[1.0])|        (3,[0],[1.0])| (88,[4],[1.0])|(16,[0],[1.0])| (2,[0],[1.0])|        (2,[1],[1.0])| (1685,[19],[1.0])|             0.0|[-0.0197486613513...|  5160862.740843229|\n",
      "|        21.5|              1|          3|      2016|  13.737126|      0|             0| 100.745827| 969000.0|       false|              7|                0|                             0.0|                         0.0|               29.0|                 0.0|                  0.0|                         1.0|                  95.0|            (1,[0],[1.0])|        (3,[0],[1.0])|(88,[29],[1.0])|(16,[0],[1.0])| (2,[0],[1.0])|        (2,[1],[1.0])| (1685,[95],[1.0])|             0.0|[-0.0197224021110...|-1110075.5591114312|\n",
      "|       21.52|              1|          2|      2018|  13.790007|      0|             1| 100.583207|1890000.0|       false|              5|                0|                             0.0|                         0.0|                0.0|                 0.0|                  0.0|                         0.0|                 550.0|            (1,[0],[1.0])|        (3,[0],[1.0])| (88,[0],[1.0])|(16,[0],[1.0])| (2,[0],[1.0])|        (2,[0],[1.0])|(1685,[550],[1.0])|             0.0|[-0.0197207609085...| 2793394.3306477643|\n",
      "|       21.52|              1|          2|      2018|  13.790007|      0|             1| 100.583207|2150000.0|       false|              5|                0|                             0.0|                         0.0|                0.0|                 0.0|                  0.0|                         0.0|                 550.0|            (1,[0],[1.0])|        (3,[0],[1.0])| (88,[0],[1.0])|(16,[0],[1.0])| (2,[0],[1.0])|        (2,[0],[1.0])|(1685,[550],[1.0])|             0.0|[-0.0197207609085...| 2793394.3306477643|\n",
      "+------------+---------------+-----------+----------+-----------+-------+--------------+-----------+---------+------------+---------------+-----------------+--------------------------------+----------------------------+-------------------+--------------------+---------------------+----------------------------+----------------------+-------------------------+---------------------+---------------+--------------+--------------+---------------------+------------------+----------------+--------------------+-------------------+\n",
      "only showing top 20 rows\n",
      "\n"
     ]
    }
   ],
   "source": [
    "test_pred_results.predictions.show()"
   ]
  },
  {
   "cell_type": "code",
   "execution_count": 82,
   "metadata": {},
   "outputs": [
    {
     "name": "stdout",
     "output_type": "stream",
     "text": [
      "Training Set Mean Absolute Error (MAE): 2278064.2805347093\n",
      "Training Set Mean Squared Error (MSE): 41936692880894.984\n",
      "Training Set R-squared (R²): 0.7748262896882212\n"
     ]
    }
   ],
   "source": [
    "# Print relevant information for the training set\n",
    "print(\"Training Set Mean Absolute Error (MAE):\", train_pred_results.meanAbsoluteError)\n",
    "print(\"Training Set Mean Squared Error (MSE):\", train_pred_results.meanSquaredError)\n",
    "print(\"Training Set R-squared (R²):\", train_pred_results.r2)"
   ]
  },
  {
   "cell_type": "code",
   "execution_count": 83,
   "metadata": {},
   "outputs": [
    {
     "name": "stdout",
     "output_type": "stream",
     "text": [
      "Test Set Mean Absolute Error (MAE): 2600533.46530282\n",
      "Test Set Mean Squared Error (MSE): 51331619668328.5\n",
      "Test Set R-squared (R²): 0.6426455803718515\n"
     ]
    }
   ],
   "source": [
    "# Print relevant information for the test set\n",
    "print(\"Test Set Mean Absolute Error (MAE):\", test_pred_results.meanAbsoluteError)\n",
    "print(\"Test Set Mean Squared Error (MSE):\", test_pred_results.meanSquaredError)\n",
    "print(\"Test Set R-squared (R²):\", test_pred_results.r2)"
   ]
  },
  {
   "cell_type": "markdown",
   "metadata": {},
   "source": [
    "### Using Decision Tree Regressor"
   ]
  },
  {
   "cell_type": "code",
   "execution_count": 84,
   "metadata": {},
   "outputs": [],
   "source": [
    "from pyspark.ml.evaluation import RegressionEvaluator\n",
    "\n",
    "# Make predictions on the training set\n",
    "train_predictions_dt = decisiontreemodel.transform(final_Xtrain)\n",
    "\n",
    "# Use RegressionEvaluator to obtain evaluation metrics for training set\n",
    "train_evaluator_dt = RegressionEvaluator(labelCol=\"price\", predictionCol=\"prediction\", metricName=\"rmse\")\n",
    "train_rmse_dt = train_evaluator_dt.evaluate(train_predictions_dt)\n",
    "train_evaluator_mae_dt = RegressionEvaluator(labelCol=\"price\", predictionCol=\"prediction\", metricName=\"mae\")\n",
    "train_mae_dt = train_evaluator_mae_dt.evaluate(train_predictions_dt)\n",
    "train_evaluator_mse_dt = RegressionEvaluator(labelCol=\"price\", predictionCol=\"prediction\", metricName=\"mse\")\n",
    "train_mse_dt = train_evaluator_mse_dt.evaluate(train_predictions_dt)\n",
    "\n",
    "# Compute R-squared separately for training set\n",
    "train_r2_dt = train_predictions_dt.stat.corr(\"price\", \"prediction\") ** 2\n",
    "\n",
    "\n",
    "\n",
    "# Make predictions on the test set\n",
    "test_predictions_dt = decisiontreemodel.transform(final_Xtest)\n",
    "\n",
    "# Use RegressionEvaluator to obtain evaluation metrics for test set\n",
    "test_evaluator_dt = RegressionEvaluator(labelCol=\"price\", predictionCol=\"prediction\", metricName=\"rmse\")\n",
    "test_rmse_dt = test_evaluator_dt.evaluate(test_predictions_dt)\n",
    "test_evaluator_mae_dt = RegressionEvaluator(labelCol=\"price\", predictionCol=\"prediction\", metricName=\"mae\")\n",
    "test_mae_dt = test_evaluator_mae_dt.evaluate(test_predictions_dt)\n",
    "test_evaluator_mse_dt = RegressionEvaluator(labelCol=\"price\", predictionCol=\"prediction\", metricName=\"mse\")\n",
    "test_mse_dt = test_evaluator_mse_dt.evaluate(test_predictions_dt)\n",
    "\n",
    "# Compute R-squared separately for test set\n",
    "test_r2_dt = test_predictions_dt.stat.corr(\"price\", \"prediction\") ** 2\n",
    "\n",
    "\n",
    "\n"
   ]
  },
  {
   "cell_type": "code",
   "execution_count": 85,
   "metadata": {},
   "outputs": [
    {
     "name": "stdout",
     "output_type": "stream",
     "text": [
      "Decision Tree - Training Set RMSE: 8113732.601620023\n",
      "Decision Tree - Training Set MAE: 2782931.530117252\n",
      "Decision Tree - Training Set MSE: 65832656730591.625\n",
      "Decision Tree - Training Set R-squared (R²): 0.646519967184577\n"
     ]
    }
   ],
   "source": [
    "# Print relevant information for training set\n",
    "print(\"Decision Tree - Training Set RMSE:\", train_rmse_dt)\n",
    "print(\"Decision Tree - Training Set MAE:\", train_mae_dt)\n",
    "print(\"Decision Tree - Training Set MSE:\", train_mse_dt)\n",
    "print(\"Decision Tree - Training Set R-squared (R²):\", train_r2_dt)"
   ]
  },
  {
   "cell_type": "code",
   "execution_count": 86,
   "metadata": {},
   "outputs": [
    {
     "name": "stdout",
     "output_type": "stream",
     "text": [
      "Decision Tree - Test Set RMSE: 10341399.902818898\n",
      "Decision Tree - Test Set MAE: 3504908.289958711\n",
      "Decision Tree - Test Set MSE: 106944551950022.7\n",
      "Decision Tree - Test Set R-squared (R²): 0.3871606990218128\n"
     ]
    }
   ],
   "source": [
    "# Print relevant information for test set\n",
    "print(\"Decision Tree - Test Set RMSE:\", test_rmse_dt)\n",
    "print(\"Decision Tree - Test Set MAE:\", test_mae_dt)\n",
    "print(\"Decision Tree - Test Set MSE:\", test_mse_dt)\n",
    "print(\"Decision Tree - Test Set R-squared (R²):\", test_r2_dt)\n"
   ]
  },
  {
   "cell_type": "markdown",
   "metadata": {},
   "source": [
    "### Using Random Forest Regressor"
   ]
  },
  {
   "cell_type": "code",
   "execution_count": 87,
   "metadata": {},
   "outputs": [],
   "source": [
    "from pyspark.ml.evaluation import RegressionEvaluator\n",
    "\n",
    "# Make predictions on the training set\n",
    "train_predictions = forestmodel.transform(final_Xtrain)\n",
    "\n",
    "# Use RegressionEvaluator to obtain evaluation metrics for training set\n",
    "train_evaluator = RegressionEvaluator(labelCol=\"price\", predictionCol=\"prediction\", metricName=\"rmse\")\n",
    "train_rmse = train_evaluator.evaluate(train_predictions)\n",
    "train_evaluator_mae = RegressionEvaluator(labelCol=\"price\", predictionCol=\"prediction\", metricName=\"mae\")\n",
    "train_mae = train_evaluator_mae.evaluate(train_predictions)\n",
    "train_evaluator_mse = RegressionEvaluator(labelCol=\"price\", predictionCol=\"prediction\", metricName=\"mse\")\n",
    "train_mse = train_evaluator_mse.evaluate(train_predictions)\n",
    "\n",
    "# Compute R-squared separately for training set\n",
    "train_r2 = train_predictions.stat.corr(\"price\", \"prediction\") ** 2\n",
    "\n",
    "\n",
    "# Make predictions on the test set\n",
    "test_predictions = forestmodel.transform(final_Xtest)\n",
    "\n",
    "# Use RegressionEvaluator to obtain evaluation metrics for test set\n",
    "test_evaluator = RegressionEvaluator(labelCol=\"price\", predictionCol=\"prediction\", metricName=\"rmse\")\n",
    "test_rmse = test_evaluator.evaluate(test_predictions)\n",
    "test_evaluator_mae = RegressionEvaluator(labelCol=\"price\", predictionCol=\"prediction\", metricName=\"mae\")\n",
    "test_mae = test_evaluator_mae.evaluate(test_predictions)\n",
    "test_evaluator_mse = RegressionEvaluator(labelCol=\"price\", predictionCol=\"prediction\", metricName=\"mse\")\n",
    "test_mse = test_evaluator_mse.evaluate(test_predictions)\n",
    "\n",
    "# Compute R-squared separately for test set\n",
    "test_r2 = test_predictions.stat.corr(\"price\", \"prediction\") ** 2\n",
    "\n",
    "\n",
    "\n"
   ]
  },
  {
   "cell_type": "code",
   "execution_count": 88,
   "metadata": {},
   "outputs": [
    {
     "name": "stdout",
     "output_type": "stream",
     "text": [
      "Random Forest - Training Set RMSE: 7144939.7978777345\n",
      "Random Forest - Training Set MAE: 2565576.9200294637\n",
      "Random Forest - Training Set MSE: 51050164715297.12\n",
      "Random Forest - Training Set R-squared (R²): 0.7452535237366692\n"
     ]
    }
   ],
   "source": [
    "\n",
    "# Print relevant information for training set\n",
    "print(\"Random Forest - Training Set RMSE:\", train_rmse)\n",
    "print(\"Random Forest - Training Set MAE:\", train_mae)\n",
    "print(\"Random Forest - Training Set MSE:\", train_mse)\n",
    "print(\"Random Forest - Training Set R-squared (R²):\", train_r2)"
   ]
  },
  {
   "cell_type": "code",
   "execution_count": 89,
   "metadata": {},
   "outputs": [
    {
     "name": "stdout",
     "output_type": "stream",
     "text": [
      "Random Forest - Test Set RMSE: 8332836.28656089\n",
      "Random Forest - Test Set MAE: 2769559.248888173\n",
      "Random Forest - Test Set MSE: 69436160578625.89\n",
      "Random Forest - Test Set R-squared (R²): 0.6545849898013864\n"
     ]
    }
   ],
   "source": [
    "# Print relevant information for test set\n",
    "print(\"Random Forest - Test Set RMSE:\", test_rmse)\n",
    "print(\"Random Forest - Test Set MAE:\", test_mae)\n",
    "print(\"Random Forest - Test Set MSE:\", test_mse)\n",
    "print(\"Random Forest - Test Set R-squared (R²):\", test_r2)"
   ]
  },
  {
   "cell_type": "markdown",
   "metadata": {},
   "source": [
    "##  Model Evaluation and Selection : Report"
   ]
  },
  {
   "cell_type": "markdown",
   "metadata": {},
   "source": [
    "In this code section, I evaluate and compare the performance of three regression models—Linear Regressor, Decision Tree Regressor, and Random Forest Regressor—on the training and test sets. For all the Regressors , I obtain prediction results and metrics such as MAE, MSE, and R-squared. The evaluation results provide insights into the accuracy and generalization capabilities of each model on unseen data\n",
    "\n",
    "Linear Regression:\n",
    "\n",
    "Training Set: Achieved an R-squared of 0.775, indicating that 77.5% of the variability in housing prices is captured by the model.\n",
    "Test Set: Demonstrated a R-squared of 0.642, signifying that 64.2% of the variability is explained.\n",
    "Decision Tree Regressor:\n",
    "\n",
    "Training Set: Attained an R-squared of 0.647, suggesting that 64.7% of the variance is accounted for.\n",
    "Test Set: Experienced challenges in generalization, yielding a lower R-squared of 0.387.\n",
    "Random Forest Regressor:\n",
    "\n",
    "Training Set: Showcased a strong R-squared of 0.745, indicating that 74.5% of the variability in housing prices is explained.\n",
    "Test Set: Maintained effectiveness in generalization with a commendable R-squared of 0.654.\n",
    "Final Model Selection:\n",
    "\n",
    "The Random Forest Regressor, with a high R-squared as well as the smallest R-squared difference between the train and test dataset, stands out as the preferred model. It excels in explaining and predicting housing prices, making it the chosen model for this task.\n"
   ]
  },
  {
   "cell_type": "markdown",
   "metadata": {},
   "source": [
    "## Summary and Further Improvements"
   ]
  },
  {
   "cell_type": "markdown",
   "metadata": {},
   "source": [
    "In this comprehensive analysis and modeling endeavor, I successfully loaded and explored a diverse dataset with 41,360 rows and 18 columns, laying the foundation for predicting Thailand property prices. Through meticulous data wrangling, I addressed outliers, missing values, and categorical variables, enhancing the dataset's integrity. The machine learning phase involved training three regression models—Linear Regressor, Decision Tree Regressor, and Random Forest Regressor. Evaluation metrics revealed that the Random Forest model outperformed its counterparts, demonstrating superior accuracy and robustness in predicting housing prices. With a reasonable R² of approximately 0.73 on the training set and 0.63 on the test set, the Random Forest Regressor emerges as the preferred model. This predictive tool holds immense value for stakeholders in the real estate market, offering informed decision-making capabilities and contributing to the growth and transparency of the Thailand property sector."
   ]
  },
  {
   "cell_type": "markdown",
   "metadata": {},
   "source": [
    "### Further Improvements\n",
    "\n",
    "To further enhance the report, I can delve deeper into feature importance analysis, particularly for the Random Forest Regressor, shedding light on which features significantly impact housing price predictions. Addressing the potential influence of outliers on model performance, along with insights gained during outlier handling, would add clarity.\n",
    "\n",
    "I also feel like I could have done for feature engineering such as experimenting with polynomial features as that might uncover nonlinear relationships, further enriching the model's capacity to capture intricate patterns in the data."
   ]
  },
  {
   "cell_type": "code",
   "execution_count": null,
   "metadata": {},
   "outputs": [],
   "source": []
  }
 ],
 "metadata": {
  "kernelspec": {
   "display_name": "Python 3 (ipykernel)",
   "language": "python",
   "name": "python3"
  },
  "language_info": {
   "codemirror_mode": {
    "name": "ipython",
    "version": 3
   },
   "file_extension": ".py",
   "mimetype": "text/x-python",
   "name": "python",
   "nbconvert_exporter": "python",
   "pygments_lexer": "ipython3",
   "version": "3.9.12"
  }
 },
 "nbformat": 4,
 "nbformat_minor": 4
}
